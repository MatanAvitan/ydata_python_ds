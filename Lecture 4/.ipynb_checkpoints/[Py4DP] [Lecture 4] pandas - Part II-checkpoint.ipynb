{
 "cells": [
  {
   "cell_type": "markdown",
   "metadata": {
    "colab_type": "text",
    "id": "wjmzuSYNTW33"
   },
   "source": [
    "# Advanced `pandas`"
   ]
  },
  {
   "cell_type": "code",
   "execution_count": 1,
   "metadata": {
    "ExecuteTime": {
     "end_time": "2019-11-19T12:18:30.960590Z",
     "start_time": "2019-11-19T12:18:30.526920Z"
    },
    "colab": {
     "base_uri": "https://localhost:8080/",
     "height": 34
    },
    "colab_type": "code",
    "executionInfo": {
     "elapsed": 837,
     "status": "ok",
     "timestamp": 1574782200518,
     "user": {
      "displayName": "matan avitan",
      "photoUrl": "https://lh3.googleusercontent.com/a-/AAuE7mAWyJrkwJHAYq8hio9Ee5N7uPwyvJhahCerS9d9_g=s64",
      "userId": "11022944328304351523"
     },
     "user_tz": -120
    },
    "id": "21Xp9WUqTW35",
    "outputId": "85bf9cc2-4558-475e-d248-f2dd64a41357"
   },
   "outputs": [
    {
     "name": "stdout",
     "output_type": "stream",
     "text": [
      "Populating the interactive namespace from numpy and matplotlib\n"
     ]
    }
   ],
   "source": [
    "%pylab inline\n",
    "plt.style.use(\"bmh\")"
   ]
  },
  {
   "cell_type": "code",
   "execution_count": 2,
   "metadata": {
    "ExecuteTime": {
     "end_time": "2019-11-19T12:18:31.366919Z",
     "start_time": "2019-11-19T12:18:30.964046Z"
    },
    "colab": {},
    "colab_type": "code",
    "id": "P0ctigA-TW37"
   },
   "outputs": [],
   "source": [
    "import numpy as np\n",
    "import pandas as pd"
   ]
  },
  {
   "cell_type": "markdown",
   "metadata": {
    "colab_type": "text",
    "id": "jFZtBXjXTW39"
   },
   "source": [
    "## Split-apply-combine"
   ]
  },
  {
   "cell_type": "code",
   "execution_count": 3,
   "metadata": {
    "ExecuteTime": {
     "end_time": "2019-11-19T12:18:31.436051Z",
     "start_time": "2019-11-19T12:18:31.383196Z"
    },
    "colab": {
     "base_uri": "https://localhost:8080/",
     "height": 34
    },
    "colab_type": "code",
    "executionInfo": {
     "elapsed": 529,
     "status": "ok",
     "timestamp": 1574782200879,
     "user": {
      "displayName": "matan avitan",
      "photoUrl": "https://lh3.googleusercontent.com/a-/AAuE7mAWyJrkwJHAYq8hio9Ee5N7uPwyvJhahCerS9d9_g=s64",
      "userId": "11022944328304351523"
     },
     "user_tz": -120
    },
    "id": "4T4OQKvSTW3-",
    "outputId": "e91b5b16-b3d1-4156-b1b9-cb1869fd4f62"
   },
   "outputs": [
    {
     "ename": "ModuleNotFoundError",
     "evalue": "No module named 'google.colab'",
     "output_type": "error",
     "traceback": [
      "\u001b[0;31m---------------------------------------------------------------------------\u001b[0m",
      "\u001b[0;31mModuleNotFoundError\u001b[0m                       Traceback (most recent call last)",
      "\u001b[0;32m<ipython-input-3-e01f295c2366>\u001b[0m in \u001b[0;36m<module>\u001b[0;34m\u001b[0m\n\u001b[0;32m----> 1\u001b[0;31m \u001b[0;32mfrom\u001b[0m \u001b[0mgoogle\u001b[0m\u001b[0;34m.\u001b[0m\u001b[0mcolab\u001b[0m \u001b[0;32mimport\u001b[0m \u001b[0mdrive\u001b[0m\u001b[0;34m\u001b[0m\u001b[0;34m\u001b[0m\u001b[0m\n\u001b[0m\u001b[1;32m      2\u001b[0m \u001b[0mdrive\u001b[0m\u001b[0;34m.\u001b[0m\u001b[0mmount\u001b[0m\u001b[0;34m(\u001b[0m\u001b[0;34m'/content/drive'\u001b[0m\u001b[0;34m)\u001b[0m\u001b[0;34m\u001b[0m\u001b[0;34m\u001b[0m\u001b[0m\n\u001b[1;32m      3\u001b[0m \u001b[0;34m\u001b[0m\u001b[0m\n\u001b[1;32m      4\u001b[0m \u001b[0mtitanic_train\u001b[0m \u001b[0;34m=\u001b[0m \u001b[0mpd\u001b[0m\u001b[0;34m.\u001b[0m\u001b[0mread_csv\u001b[0m\u001b[0;34m(\u001b[0m\u001b[0;34mr\"/content/drive/My Drive/Colab Notebooks/Y-data/Python for DS/Lecture 4/data/train.csv\"\u001b[0m\u001b[0;34m,\u001b[0m \u001b[0mindex_col\u001b[0m\u001b[0;34m=\u001b[0m\u001b[0;34m\"PassengerId\"\u001b[0m\u001b[0;34m)\u001b[0m\u001b[0;34m\u001b[0m\u001b[0;34m\u001b[0m\u001b[0m\n\u001b[1;32m      5\u001b[0m \u001b[0mtitanic_test\u001b[0m \u001b[0;34m=\u001b[0m \u001b[0mpd\u001b[0m\u001b[0;34m.\u001b[0m\u001b[0mread_csv\u001b[0m\u001b[0;34m(\u001b[0m\u001b[0;34mr\"/content/drive/My Drive/Colab Notebooks/Y-data/Python for DS/Lecture 4/data/test.csv\"\u001b[0m\u001b[0;34m,\u001b[0m \u001b[0mindex_col\u001b[0m\u001b[0;34m=\u001b[0m\u001b[0;34m\"PassengerId\"\u001b[0m\u001b[0;34m)\u001b[0m\u001b[0;34m\u001b[0m\u001b[0;34m\u001b[0m\u001b[0m\n",
      "\u001b[0;31mModuleNotFoundError\u001b[0m: No module named 'google.colab'"
     ]
    }
   ],
   "source": [
    "from google.colab import drive\n",
    "drive.mount('/content/drive')\n",
    "\n",
    "titanic_train = pd.read_csv(r\"/content/drive/My Drive/Colab Notebooks/Y-data/Python for DS/Lecture 4/data/train.csv\", index_col=\"PassengerId\")\n",
    "titanic_test = pd.read_csv(r\"/content/drive/My Drive/Colab Notebooks/Y-data/Python for DS/Lecture 4/data/test.csv\", index_col=\"PassengerId\")\n",
    "titanic = pd.concat([titanic_train, titanic_test], sort=False)"
   ]
  },
  {
   "cell_type": "code",
   "execution_count": null,
   "metadata": {
    "ExecuteTime": {
     "end_time": "2019-11-19T12:18:32.178610Z",
     "start_time": "2019-11-19T12:18:32.150711Z"
    },
    "colab": {
     "base_uri": "https://localhost:8080/",
     "height": 225
    },
    "colab_type": "code",
    "executionInfo": {
     "elapsed": 788,
     "status": "ok",
     "timestamp": 1574782213773,
     "user": {
      "displayName": "matan avitan",
      "photoUrl": "https://lh3.googleusercontent.com/a-/AAuE7mAWyJrkwJHAYq8hio9Ee5N7uPwyvJhahCerS9d9_g=s64",
      "userId": "11022944328304351523"
     },
     "user_tz": -120
    },
    "id": "6IiUoAxWTW4B",
    "outputId": "72acdbdd-92e1-401b-cbe4-640e5e75d01d"
   },
   "outputs": [],
   "source": [
    "titanic.head()"
   ]
  },
  {
   "cell_type": "code",
   "execution_count": null,
   "metadata": {
    "colab": {
     "base_uri": "https://localhost:8080/",
     "height": 284
    },
    "colab_type": "code",
    "executionInfo": {
     "elapsed": 420,
     "status": "ok",
     "timestamp": 1574782213776,
     "user": {
      "displayName": "matan avitan",
      "photoUrl": "https://lh3.googleusercontent.com/a-/AAuE7mAWyJrkwJHAYq8hio9Ee5N7uPwyvJhahCerS9d9_g=s64",
      "userId": "11022944328304351523"
     },
     "user_tz": -120
    },
    "id": "gWl5EgMf11QR",
    "outputId": "64a23ddc-91ef-44f5-ecbd-0ac6c032f475"
   },
   "outputs": [],
   "source": [
    "titanic.describe()"
   ]
  },
  {
   "cell_type": "markdown",
   "metadata": {
    "colab_type": "text",
    "id": "OakjdT_bTW4F"
   },
   "source": [
    "# Scalar output"
   ]
  },
  {
   "cell_type": "code",
   "execution_count": null,
   "metadata": {
    "colab": {},
    "colab_type": "code",
    "id": "u3s7t180TW4G"
   },
   "outputs": [],
   "source": [
    "class_groups = titanic.groupby(\"Pclass\")"
   ]
  },
  {
   "cell_type": "code",
   "execution_count": null,
   "metadata": {
    "colab": {
     "base_uri": "https://localhost:8080/",
     "height": 34
    },
    "colab_type": "code",
    "executionInfo": {
     "elapsed": 451,
     "status": "ok",
     "timestamp": 1574782214735,
     "user": {
      "displayName": "matan avitan",
      "photoUrl": "https://lh3.googleusercontent.com/a-/AAuE7mAWyJrkwJHAYq8hio9Ee5N7uPwyvJhahCerS9d9_g=s64",
      "userId": "11022944328304351523"
     },
     "user_tz": -120
    },
    "id": "jpPyQcc-TW4K",
    "outputId": "355ea6d3-a755-4119-9196-2140cf8cec3a"
   },
   "outputs": [],
   "source": [
    "class_groups"
   ]
  },
  {
   "cell_type": "code",
   "execution_count": null,
   "metadata": {
    "colab": {
     "base_uri": "https://localhost:8080/",
     "height": 166
    },
    "colab_type": "code",
    "executionInfo": {
     "elapsed": 1280,
     "status": "ok",
     "timestamp": 1574782216094,
     "user": {
      "displayName": "matan avitan",
      "photoUrl": "https://lh3.googleusercontent.com/a-/AAuE7mAWyJrkwJHAYq8hio9Ee5N7uPwyvJhahCerS9d9_g=s64",
      "userId": "11022944328304351523"
     },
     "user_tz": -120
    },
    "id": "SDa5WSnkTW4M",
    "outputId": "290eebae-210d-421f-e926-c589564ef74f"
   },
   "outputs": [],
   "source": [
    "class_groups.mean()"
   ]
  },
  {
   "cell_type": "code",
   "execution_count": null,
   "metadata": {
    "colab": {},
    "colab_type": "code",
    "id": "3-y68ndHTW4R"
   },
   "outputs": [],
   "source": [
    "age_groups = titanic.Parch.groupby((5 + 10*(titanic.Age//10)))"
   ]
  },
  {
   "cell_type": "code",
   "execution_count": null,
   "metadata": {
    "colab": {
     "base_uri": "https://localhost:8080/",
     "height": 34
    },
    "colab_type": "code",
    "executionInfo": {
     "elapsed": 1168,
     "status": "ok",
     "timestamp": 1574782216098,
     "user": {
      "displayName": "matan avitan",
      "photoUrl": "https://lh3.googleusercontent.com/a-/AAuE7mAWyJrkwJHAYq8hio9Ee5N7uPwyvJhahCerS9d9_g=s64",
      "userId": "11022944328304351523"
     },
     "user_tz": -120
    },
    "id": "_6fKZh6hTW4U",
    "outputId": "37026462-39d6-4013-d1b1-0780f27c357b"
   },
   "outputs": [],
   "source": [
    "age_groups"
   ]
  },
  {
   "cell_type": "code",
   "execution_count": null,
   "metadata": {
    "colab": {
     "base_uri": "https://localhost:8080/",
     "height": 202
    },
    "colab_type": "code",
    "executionInfo": {
     "elapsed": 1858,
     "status": "ok",
     "timestamp": 1574782216865,
     "user": {
      "displayName": "matan avitan",
      "photoUrl": "https://lh3.googleusercontent.com/a-/AAuE7mAWyJrkwJHAYq8hio9Ee5N7uPwyvJhahCerS9d9_g=s64",
      "userId": "11022944328304351523"
     },
     "user_tz": -120
    },
    "id": "kxi3u5izTW4X",
    "outputId": "5a4b43a4-f873-4eca-b1f0-949d03e12519"
   },
   "outputs": [],
   "source": [
    "age_groups.mean() # Note index name"
   ]
  },
  {
   "cell_type": "code",
   "execution_count": null,
   "metadata": {
    "colab": {},
    "colab_type": "code",
    "id": "fvbwWsQITW4Z"
   },
   "outputs": [],
   "source": [
    "age_groups_npy = titanic.Parch.groupby((5 + 10*(titanic.Age//10)).values)"
   ]
  },
  {
   "cell_type": "code",
   "execution_count": null,
   "metadata": {
    "colab": {
     "base_uri": "https://localhost:8080/",
     "height": 185
    },
    "colab_type": "code",
    "executionInfo": {
     "elapsed": 1742,
     "status": "ok",
     "timestamp": 1574782216869,
     "user": {
      "displayName": "matan avitan",
      "photoUrl": "https://lh3.googleusercontent.com/a-/AAuE7mAWyJrkwJHAYq8hio9Ee5N7uPwyvJhahCerS9d9_g=s64",
      "userId": "11022944328304351523"
     },
     "user_tz": -120
    },
    "id": "DtItTWzoTW4c",
    "outputId": "81e8ca1d-66b7-4801-dac4-ddb3e9834c3c"
   },
   "outputs": [],
   "source": [
    "age_groups_npy.mean()"
   ]
  },
  {
   "cell_type": "code",
   "execution_count": null,
   "metadata": {
    "colab": {},
    "colab_type": "code",
    "id": "izrWgNljTW4e"
   },
   "outputs": [],
   "source": [
    "age_groups_multi = titanic.Parch.groupby([(5 + 10*(titanic.Age//10)), titanic.Pclass])"
   ]
  },
  {
   "cell_type": "code",
   "execution_count": null,
   "metadata": {
    "colab": {},
    "colab_type": "code",
    "id": "e8xsYoXETW4i"
   },
   "outputs": [],
   "source": [
    "age_groups_multi = titanic.Parch.groupby([titanic.Pclass, (5 + 10*(titanic.Age//10))])"
   ]
  },
  {
   "cell_type": "code",
   "execution_count": null,
   "metadata": {
    "colab": {
     "base_uri": "https://localhost:8080/",
     "height": 34
    },
    "colab_type": "code",
    "executionInfo": {
     "elapsed": 2142,
     "status": "ok",
     "timestamp": 1574782251219,
     "user": {
      "displayName": "matan avitan",
      "photoUrl": "https://lh3.googleusercontent.com/a-/AAuE7mAWyJrkwJHAYq8hio9Ee5N7uPwyvJhahCerS9d9_g=s64",
      "userId": "11022944328304351523"
     },
     "user_tz": -120
    },
    "id": "eX9deHbTTW4j",
    "outputId": "6077d7cc-5c99-4022-da2a-d0519d329c95"
   },
   "outputs": [],
   "source": [
    "age_groups_multi"
   ]
  },
  {
   "cell_type": "code",
   "execution_count": null,
   "metadata": {
    "colab": {
     "base_uri": "https://localhost:8080/",
     "height": 470
    },
    "colab_type": "code",
    "executionInfo": {
     "elapsed": 1206,
     "status": "ok",
     "timestamp": 1574782258563,
     "user": {
      "displayName": "matan avitan",
      "photoUrl": "https://lh3.googleusercontent.com/a-/AAuE7mAWyJrkwJHAYq8hio9Ee5N7uPwyvJhahCerS9d9_g=s64",
      "userId": "11022944328304351523"
     },
     "user_tz": -120
    },
    "id": "I7J2BT0zTW4m",
    "outputId": "7471fb98-9a2e-4348-9b81-ef0e86435f78"
   },
   "outputs": [],
   "source": [
    "age_groups_multi.mean()"
   ]
  },
  {
   "cell_type": "code",
   "execution_count": null,
   "metadata": {
    "colab": {
     "base_uri": "https://localhost:8080/",
     "height": 166
    },
    "colab_type": "code",
    "executionInfo": {
     "elapsed": 1029,
     "status": "ok",
     "timestamp": 1574782888427,
     "user": {
      "displayName": "matan avitan",
      "photoUrl": "https://lh3.googleusercontent.com/a-/AAuE7mAWyJrkwJHAYq8hio9Ee5N7uPwyvJhahCerS9d9_g=s64",
      "userId": "11022944328304351523"
     },
     "user_tz": -120
    },
    "id": "As1KnoSxTW4o",
    "outputId": "a047ecb5-f996-49eb-8a9a-62936d718728"
   },
   "outputs": [],
   "source": [
    "age_groups_multi.mean().unstack()"
   ]
  },
  {
   "cell_type": "code",
   "execution_count": null,
   "metadata": {
    "colab": {},
    "colab_type": "code",
    "id": "c_IQpkAMTW4p"
   },
   "outputs": [],
   "source": [
    "age_groups_mixed = titanic.groupby([(5 + 10*(titanic.Age//10)), \"Pclass\"])"
   ]
  },
  {
   "cell_type": "code",
   "execution_count": null,
   "metadata": {
    "colab": {
     "base_uri": "https://localhost:8080/",
     "height": 470
    },
    "colab_type": "code",
    "executionInfo": {
     "elapsed": 669,
     "status": "ok",
     "timestamp": 1574782534065,
     "user": {
      "displayName": "matan avitan",
      "photoUrl": "https://lh3.googleusercontent.com/a-/AAuE7mAWyJrkwJHAYq8hio9Ee5N7uPwyvJhahCerS9d9_g=s64",
      "userId": "11022944328304351523"
     },
     "user_tz": -120
    },
    "id": "xQhrGkSYTW4s",
    "outputId": "92b66f34-750a-4076-ca71-27cd9186d07c"
   },
   "outputs": [],
   "source": [
    "age_groups_mixed.Parch.mean()"
   ]
  },
  {
   "cell_type": "markdown",
   "metadata": {
    "colab_type": "text",
    "id": "__Lk5fD0TW4v"
   },
   "source": [
    "# Series output"
   ]
  },
  {
   "cell_type": "code",
   "execution_count": null,
   "metadata": {
    "colab": {},
    "colab_type": "code",
    "id": "Yl4BFn2TTW4v"
   },
   "outputs": [],
   "source": [
    "class_groups = titanic.groupby(\"Pclass\") # Nothing is calculated yet"
   ]
  },
  {
   "cell_type": "code",
   "execution_count": null,
   "metadata": {
    "colab": {
     "base_uri": "https://localhost:8080/",
     "height": 168
    },
    "colab_type": "code",
    "executionInfo": {
     "elapsed": 985,
     "status": "ok",
     "timestamp": 1574782217766,
     "user": {
      "displayName": "matan avitan",
      "photoUrl": "https://lh3.googleusercontent.com/a-/AAuE7mAWyJrkwJHAYq8hio9Ee5N7uPwyvJhahCerS9d9_g=s64",
      "userId": "11022944328304351523"
     },
     "user_tz": -120
    },
    "id": "nmyki1KATW4z",
    "outputId": "432a8b48-b89a-4229-9160-a1daeb5ac9b7"
   },
   "outputs": [],
   "source": [
    "titanic.Fare.describe()"
   ]
  },
  {
   "cell_type": "code",
   "execution_count": null,
   "metadata": {
    "colab": {
     "base_uri": "https://localhost:8080/",
     "height": 166
    },
    "colab_type": "code",
    "executionInfo": {
     "elapsed": 825,
     "status": "ok",
     "timestamp": 1574782217767,
     "user": {
      "displayName": "matan avitan",
      "photoUrl": "https://lh3.googleusercontent.com/a-/AAuE7mAWyJrkwJHAYq8hio9Ee5N7uPwyvJhahCerS9d9_g=s64",
      "userId": "11022944328304351523"
     },
     "user_tz": -120
    },
    "id": "bcnMv84nTW41",
    "outputId": "facfb86b-b4b8-44a6-e3b0-14da86828a9c"
   },
   "outputs": [],
   "source": [
    "class_groups.apply(lambda x: x.Fare.describe()) # Note column index name"
   ]
  },
  {
   "cell_type": "code",
   "execution_count": null,
   "metadata": {
    "colab": {
     "base_uri": "https://localhost:8080/",
     "height": 84
    },
    "colab_type": "code",
    "executionInfo": {
     "elapsed": 614,
     "status": "ok",
     "timestamp": 1574782217768,
     "user": {
      "displayName": "matan avitan",
      "photoUrl": "https://lh3.googleusercontent.com/a-/AAuE7mAWyJrkwJHAYq8hio9Ee5N7uPwyvJhahCerS9d9_g=s64",
      "userId": "11022944328304351523"
     },
     "user_tz": -120
    },
    "id": "5yhNrZGcTW44",
    "outputId": "b40df850-ba45-4626-befe-cf9e50dfbf33"
   },
   "outputs": [],
   "source": [
    "titanic.groupby(\"Sex\").Parch.mean()"
   ]
  },
  {
   "cell_type": "code",
   "execution_count": null,
   "metadata": {
    "colab": {
     "base_uri": "https://localhost:8080/",
     "height": 166
    },
    "colab_type": "code",
    "executionInfo": {
     "elapsed": 717,
     "status": "ok",
     "timestamp": 1574782218096,
     "user": {
      "displayName": "matan avitan",
      "photoUrl": "https://lh3.googleusercontent.com/a-/AAuE7mAWyJrkwJHAYq8hio9Ee5N7uPwyvJhahCerS9d9_g=s64",
      "userId": "11022944328304351523"
     },
     "user_tz": -120
    },
    "id": "X04auc0MTW46",
    "outputId": "4d29a6b2-bf7d-4e66-cd6e-5f98f058ba09"
   },
   "outputs": [],
   "source": [
    "class_groups.apply(lambda x: x.groupby(\"Sex\").Parch.mean()) # Note column index name"
   ]
  },
  {
   "cell_type": "code",
   "execution_count": null,
   "metadata": {
    "colab": {
     "base_uri": "https://localhost:8080/",
     "height": 166
    },
    "colab_type": "code",
    "executionInfo": {
     "elapsed": 721,
     "status": "ok",
     "timestamp": 1574782939120,
     "user": {
      "displayName": "matan avitan",
      "photoUrl": "https://lh3.googleusercontent.com/a-/AAuE7mAWyJrkwJHAYq8hio9Ee5N7uPwyvJhahCerS9d9_g=s64",
      "userId": "11022944328304351523"
     },
     "user_tz": -120
    },
    "id": "hzREA6AWTW48",
    "outputId": "d3985a06-3263-4305-d8e8-4e5edb690697"
   },
   "outputs": [],
   "source": [
    "class_groups.apply(lambda x: x[x.Parch==0].groupby(\"Sex\").size())"
   ]
  },
  {
   "cell_type": "code",
   "execution_count": null,
   "metadata": {
    "colab": {
     "base_uri": "https://localhost:8080/",
     "height": 286
    },
    "colab_type": "code",
    "executionInfo": {
     "elapsed": 1094,
     "status": "ok",
     "timestamp": 1574783078214,
     "user": {
      "displayName": "matan avitan",
      "photoUrl": "https://lh3.googleusercontent.com/a-/AAuE7mAWyJrkwJHAYq8hio9Ee5N7uPwyvJhahCerS9d9_g=s64",
      "userId": "11022944328304351523"
     },
     "user_tz": -120
    },
    "id": "iRxJ8H6nTW4-",
    "outputId": "71cb98f3-59a6-4d39-cdc5-8293372ed7ad"
   },
   "outputs": [],
   "source": [
    "class_groups.apply(lambda x: x[x.Parch!=0].groupby([\"Sex\", \"Embarked\"]).size())"
   ]
  },
  {
   "cell_type": "code",
   "execution_count": null,
   "metadata": {
    "colab": {},
    "colab_type": "code",
    "id": "AdV5GduITW5A"
   },
   "outputs": [],
   "source": [
    "result = (class_groups\n",
    "          .apply(lambda x: x[x.Parch!=0].groupby([\"Sex\", \"Embarked\"]).size())\n",
    "          .unstack([1,2]))"
   ]
  },
  {
   "cell_type": "code",
   "execution_count": null,
   "metadata": {
    "colab": {
     "base_uri": "https://localhost:8080/",
     "height": 195
    },
    "colab_type": "code",
    "executionInfo": {
     "elapsed": 1098,
     "status": "ok",
     "timestamp": 1574782219514,
     "user": {
      "displayName": "matan avitan",
      "photoUrl": "https://lh3.googleusercontent.com/a-/AAuE7mAWyJrkwJHAYq8hio9Ee5N7uPwyvJhahCerS9d9_g=s64",
      "userId": "11022944328304351523"
     },
     "user_tz": -120
    },
    "id": "sgp033sxTW5D",
    "outputId": "d8b7cc15-40b4-42c0-9f84-3e9ddda2107d"
   },
   "outputs": [],
   "source": [
    "result"
   ]
  },
  {
   "cell_type": "code",
   "execution_count": null,
   "metadata": {
    "colab": {
     "base_uri": "https://localhost:8080/",
     "height": 195
    },
    "colab_type": "code",
    "executionInfo": {
     "elapsed": 1340,
     "status": "ok",
     "timestamp": 1574783210579,
     "user": {
      "displayName": "matan avitan",
      "photoUrl": "https://lh3.googleusercontent.com/a-/AAuE7mAWyJrkwJHAYq8hio9Ee5N7uPwyvJhahCerS9d9_g=s64",
      "userId": "11022944328304351523"
     },
     "user_tz": -120
    },
    "id": "UrT2TUoPTW5F",
    "outputId": "f42c602e-cc1b-4bba-a98a-d8487e77c8b4"
   },
   "outputs": [],
   "source": [
    "result.loc[:, [(\"female\", \"C\"), (\"male\", \"Q\")]]"
   ]
  },
  {
   "cell_type": "code",
   "execution_count": null,
   "metadata": {
    "colab": {
     "base_uri": "https://localhost:8080/",
     "height": 195
    },
    "colab_type": "code",
    "executionInfo": {
     "elapsed": 737,
     "status": "ok",
     "timestamp": 1574782219846,
     "user": {
      "displayName": "matan avitan",
      "photoUrl": "https://lh3.googleusercontent.com/a-/AAuE7mAWyJrkwJHAYq8hio9Ee5N7uPwyvJhahCerS9d9_g=s64",
      "userId": "11022944328304351523"
     },
     "user_tz": -120
    },
    "id": "Lfr7b9SUTW5J",
    "outputId": "981552ca-f714-4373-c6c0-74ba3b1660f5"
   },
   "outputs": [],
   "source": [
    "result.iloc[:, [0, 1]]"
   ]
  },
  {
   "cell_type": "markdown",
   "metadata": {
    "colab_type": "text",
    "id": "SmnwG0Q1TW5K"
   },
   "source": [
    "# DataFrame output"
   ]
  },
  {
   "cell_type": "code",
   "execution_count": null,
   "metadata": {
    "colab": {
     "base_uri": "https://localhost:8080/",
     "height": 225
    },
    "colab_type": "code",
    "executionInfo": {
     "elapsed": 775,
     "status": "ok",
     "timestamp": 1574783556944,
     "user": {
      "displayName": "matan avitan",
      "photoUrl": "https://lh3.googleusercontent.com/a-/AAuE7mAWyJrkwJHAYq8hio9Ee5N7uPwyvJhahCerS9d9_g=s64",
      "userId": "11022944328304351523"
     },
     "user_tz": -120
    },
    "id": "O4NTPO_QTW5L",
    "outputId": "56862e34-477b-4c4b-95f1-6505b5c1377e"
   },
   "outputs": [],
   "source": [
    "titanic[[\"SibSp\", \"Parch\"]].head()"
   ]
  },
  {
   "cell_type": "code",
   "execution_count": null,
   "metadata": {
    "colab": {
     "base_uri": "https://localhost:8080/",
     "height": 491
    },
    "colab_type": "code",
    "executionInfo": {
     "elapsed": 689,
     "status": "ok",
     "timestamp": 1574783815742,
     "user": {
      "displayName": "matan avitan",
      "photoUrl": "https://lh3.googleusercontent.com/a-/AAuE7mAWyJrkwJHAYq8hio9Ee5N7uPwyvJhahCerS9d9_g=s64",
      "userId": "11022944328304351523"
     },
     "user_tz": -120
    },
    "id": "XUxuZgesTW5O",
    "outputId": "445a3e1f-f510-48a0-9ac8-243d27e52120"
   },
   "outputs": [],
   "source": [
    "(class_groups\n",
    " .apply(lambda x: x[x.Parch!=0].groupby([\"Sex\", \"Embarked\"])[[\"SibSp\", \"Parch\"]]\n",
    "        .mean()))"
   ]
  },
  {
   "cell_type": "markdown",
   "metadata": {
    "colab_type": "text",
    "id": "QYllBJjjTW5P"
   },
   "source": [
    "## Mixing group keys"
   ]
  },
  {
   "cell_type": "code",
   "execution_count": null,
   "metadata": {
    "colab": {
     "base_uri": "https://localhost:8080/",
     "height": 225
    },
    "colab_type": "code",
    "executionInfo": {
     "elapsed": 984,
     "status": "ok",
     "timestamp": 1574782221238,
     "user": {
      "displayName": "matan avitan",
      "photoUrl": "https://lh3.googleusercontent.com/a-/AAuE7mAWyJrkwJHAYq8hio9Ee5N7uPwyvJhahCerS9d9_g=s64",
      "userId": "11022944328304351523"
     },
     "user_tz": -120
    },
    "id": "ZvHo-x9JTW5Q",
    "outputId": "2e46c64e-48d4-4879-fe63-24f5b614eb69"
   },
   "outputs": [],
   "source": [
    "titanic.head()"
   ]
  },
  {
   "cell_type": "code",
   "execution_count": null,
   "metadata": {
    "colab": {},
    "colab_type": "code",
    "id": "o-di9Wh6TW5S"
   },
   "outputs": [],
   "source": [
    "?titanic.set_index"
   ]
  },
  {
   "cell_type": "code",
   "execution_count": null,
   "metadata": {
    "colab": {},
    "colab_type": "code",
    "id": "7AcSYkHwTW5U"
   },
   "outputs": [],
   "source": [
    "titanic_idx = titanic.set_index((5 + 10*(titanic.Age//10)))"
   ]
  },
  {
   "cell_type": "code",
   "execution_count": null,
   "metadata": {
    "colab": {
     "base_uri": "https://localhost:8080/",
     "height": 225
    },
    "colab_type": "code",
    "executionInfo": {
     "elapsed": 565,
     "status": "ok",
     "timestamp": 1574782221754,
     "user": {
      "displayName": "matan avitan",
      "photoUrl": "https://lh3.googleusercontent.com/a-/AAuE7mAWyJrkwJHAYq8hio9Ee5N7uPwyvJhahCerS9d9_g=s64",
      "userId": "11022944328304351523"
     },
     "user_tz": -120
    },
    "id": "Qas1rcuLTW5W",
    "outputId": "f1ca2e42-5194-48ea-f926-92fa1d5718e9"
   },
   "outputs": [],
   "source": [
    "titanic_idx.head()"
   ]
  },
  {
   "cell_type": "code",
   "execution_count": null,
   "metadata": {
    "colab": {
     "base_uri": "https://localhost:8080/",
     "height": 470
    },
    "colab_type": "code",
    "executionInfo": {
     "elapsed": 765,
     "status": "ok",
     "timestamp": 1574784373607,
     "user": {
      "displayName": "matan avitan",
      "photoUrl": "https://lh3.googleusercontent.com/a-/AAuE7mAWyJrkwJHAYq8hio9Ee5N7uPwyvJhahCerS9d9_g=s64",
      "userId": "11022944328304351523"
     },
     "user_tz": -120
    },
    "id": "Ys9nWilITW5Y",
    "outputId": "c3565323-0d60-4841-c386-ce0a35cba280"
   },
   "outputs": [],
   "source": [
    "titanic_idx.groupby([pd.Grouper(level=0), \"Pclass\"]).Parch.mean()"
   ]
  },
  {
   "cell_type": "code",
   "execution_count": null,
   "metadata": {
    "colab": {
     "base_uri": "https://localhost:8080/",
     "height": 470
    },
    "colab_type": "code",
    "executionInfo": {
     "elapsed": 1161,
     "status": "ok",
     "timestamp": 1574784378100,
     "user": {
      "displayName": "matan avitan",
      "photoUrl": "https://lh3.googleusercontent.com/a-/AAuE7mAWyJrkwJHAYq8hio9Ee5N7uPwyvJhahCerS9d9_g=s64",
      "userId": "11022944328304351523"
     },
     "user_tz": -120
    },
    "id": "iJOHIbefTW5a",
    "outputId": "7e49b130-52bb-4549-e5ea-1db5e6529813"
   },
   "outputs": [],
   "source": [
    "titanic_idx.groupby([titanic_idx.index, \"Pclass\"]).Parch.mean()"
   ]
  },
  {
   "cell_type": "markdown",
   "metadata": {
    "colab_type": "text",
    "id": "CnmAEH8NTW5b"
   },
   "source": [
    "# pd.Grouper"
   ]
  },
  {
   "cell_type": "code",
   "execution_count": null,
   "metadata": {
    "colab": {},
    "colab_type": "code",
    "id": "KWaM3h1NTW5b"
   },
   "outputs": [],
   "source": [
    "class_emb_groups = titanic.groupby([pd.Grouper(\"Embarked\"), \"Pclass\"])"
   ]
  },
  {
   "cell_type": "code",
   "execution_count": null,
   "metadata": {
    "colab": {
     "base_uri": "https://localhost:8080/",
     "height": 202
    },
    "colab_type": "code",
    "executionInfo": {
     "elapsed": 1207,
     "status": "ok",
     "timestamp": 1574784381301,
     "user": {
      "displayName": "matan avitan",
      "photoUrl": "https://lh3.googleusercontent.com/a-/AAuE7mAWyJrkwJHAYq8hio9Ee5N7uPwyvJhahCerS9d9_g=s64",
      "userId": "11022944328304351523"
     },
     "user_tz": -120
    },
    "id": "IM1hOZWqTW5d",
    "outputId": "8f4a88be-068c-4c2b-b66b-bd49ea87e9a5"
   },
   "outputs": [],
   "source": [
    "class_emb_groups.size()"
   ]
  },
  {
   "cell_type": "markdown",
   "metadata": {
    "colab_type": "text",
    "id": "DLxmeBLwTW5f"
   },
   "source": [
    "# Join operations"
   ]
  },
  {
   "cell_type": "code",
   "execution_count": null,
   "metadata": {
    "ExecuteTime": {
     "end_time": "2019-11-19T12:04:42.907443Z",
     "start_time": "2019-11-19T12:04:42.880940Z"
    },
    "colab": {},
    "colab_type": "code",
    "id": "Wv6IESztegpz"
   },
   "outputs": [],
   "source": [
    "a = pd.DataFrame(np.arange(8).reshape((4,2)),\n",
    "                 columns=[\"a\", \"b\"],\n",
    "                 index=[\"a\", \"b\", \"a\", \"b\"])\n",
    "b = pd.DataFrame(10 + np.arange(4).reshape((4,-1)),\n",
    "                 columns=[\"d\"],\n",
    "                 index=[\"d\", \"b\", \"c\", \"b\"])"
   ]
  },
  {
   "cell_type": "code",
   "execution_count": null,
   "metadata": {
    "ExecuteTime": {
     "end_time": "2019-11-19T12:05:01.329860Z",
     "start_time": "2019-11-19T12:05:01.306053Z"
    },
    "colab": {
     "base_uri": "https://localhost:8080/",
     "height": 225
    },
    "colab_type": "code",
    "executionInfo": {
     "elapsed": 1793,
     "status": "ok",
     "timestamp": 1574784875086,
     "user": {
      "displayName": "matan avitan",
      "photoUrl": "https://lh3.googleusercontent.com/a-/AAuE7mAWyJrkwJHAYq8hio9Ee5N7uPwyvJhahCerS9d9_g=s64",
      "userId": "11022944328304351523"
     },
     "user_tz": -120
    },
    "id": "WS6ZuyB6TW5g",
    "outputId": "77f64219-97f8-4c6c-a0ea-4f125b907c5a"
   },
   "outputs": [],
   "source": [
    "a.join(b) # default is left join"
   ]
  },
  {
   "cell_type": "code",
   "execution_count": null,
   "metadata": {
    "ExecuteTime": {
     "end_time": "2019-11-19T12:05:32.095246Z",
     "start_time": "2019-11-19T12:05:32.076241Z"
    },
    "colab": {
     "base_uri": "https://localhost:8080/",
     "height": 166
    },
    "colab_type": "code",
    "executionInfo": {
     "elapsed": 967,
     "status": "ok",
     "timestamp": 1574784875087,
     "user": {
      "displayName": "matan avitan",
      "photoUrl": "https://lh3.googleusercontent.com/a-/AAuE7mAWyJrkwJHAYq8hio9Ee5N7uPwyvJhahCerS9d9_g=s64",
      "userId": "11022944328304351523"
     },
     "user_tz": -120
    },
    "id": "JCdmbnmSTW5i",
    "outputId": "5755a9f3-ed6b-4c35-e977-f96f97c17301"
   },
   "outputs": [],
   "source": [
    "a.join(b, how=\"inner\")"
   ]
  },
  {
   "cell_type": "code",
   "execution_count": null,
   "metadata": {
    "ExecuteTime": {
     "end_time": "2019-11-19T12:08:02.527476Z",
     "start_time": "2019-11-19T12:08:02.514946Z"
    },
    "colab": {
     "base_uri": "https://localhost:8080/",
     "height": 225
    },
    "colab_type": "code",
    "executionInfo": {
     "elapsed": 1103,
     "status": "ok",
     "timestamp": 1574782224758,
     "user": {
      "displayName": "matan avitan",
      "photoUrl": "https://lh3.googleusercontent.com/a-/AAuE7mAWyJrkwJHAYq8hio9Ee5N7uPwyvJhahCerS9d9_g=s64",
      "userId": "11022944328304351523"
     },
     "user_tz": -120
    },
    "id": "EJ9CZqrZTW5k",
    "outputId": "f43f56f6-5259-4d3d-bec1-679623b3fe47"
   },
   "outputs": [],
   "source": [
    "a.join(b, how=\"right\")"
   ]
  },
  {
   "cell_type": "code",
   "execution_count": null,
   "metadata": {
    "ExecuteTime": {
     "end_time": "2019-11-19T12:08:14.361796Z",
     "start_time": "2019-11-19T12:08:14.338632Z"
    },
    "colab": {
     "base_uri": "https://localhost:8080/",
     "height": 284
    },
    "colab_type": "code",
    "executionInfo": {
     "elapsed": 1028,
     "status": "ok",
     "timestamp": 1574782224759,
     "user": {
      "displayName": "matan avitan",
      "photoUrl": "https://lh3.googleusercontent.com/a-/AAuE7mAWyJrkwJHAYq8hio9Ee5N7uPwyvJhahCerS9d9_g=s64",
      "userId": "11022944328304351523"
     },
     "user_tz": -120
    },
    "id": "VVNiIrtoTW5n",
    "outputId": "ac0bcfa7-6f56-483c-918b-752705013ebf"
   },
   "outputs": [],
   "source": [
    "a.join(b, how=\"outer\")"
   ]
  },
  {
   "cell_type": "code",
   "execution_count": null,
   "metadata": {
    "ExecuteTime": {
     "end_time": "2019-11-19T12:18:58.394273Z",
     "start_time": "2019-11-19T12:18:58.369434Z"
    },
    "colab": {
     "base_uri": "https://localhost:8080/",
     "height": 225
    },
    "colab_type": "code",
    "executionInfo": {
     "elapsed": 771,
     "status": "ok",
     "timestamp": 1574782226967,
     "user": {
      "displayName": "matan avitan",
      "photoUrl": "https://lh3.googleusercontent.com/a-/AAuE7mAWyJrkwJHAYq8hio9Ee5N7uPwyvJhahCerS9d9_g=s64",
      "userId": "11022944328304351523"
     },
     "user_tz": -120
    },
    "id": "i0DAsTkXTW5q",
    "outputId": "fa2bd36b-dd98-4527-8bb1-d66bef85fda4"
   },
   "outputs": [],
   "source": [
    "titanic.head()"
   ]
  },
  {
   "cell_type": "code",
   "execution_count": null,
   "metadata": {
    "ExecuteTime": {
     "end_time": "2019-11-19T12:18:58.586816Z",
     "start_time": "2019-11-19T12:18:58.529896Z"
    },
    "colab": {},
    "colab_type": "code",
    "id": "5o7nJt9CTW5r"
   },
   "outputs": [],
   "source": [
    "family_names = (titanic\n",
    "                .replace(re.compile(r'\\s+\\(.*\\)'), '')\n",
    "                .replace(re.compile(\"Mrs.\"), \"Mr.\"))[[\"Name\", \"Sex\"]]"
   ]
  },
  {
   "cell_type": "code",
   "execution_count": null,
   "metadata": {
    "ExecuteTime": {
     "end_time": "2019-11-19T12:19:00.142134Z",
     "start_time": "2019-11-19T12:19:00.093084Z"
    },
    "colab": {
     "base_uri": "https://localhost:8080/",
     "height": 225
    },
    "colab_type": "code",
    "executionInfo": {
     "elapsed": 599,
     "status": "ok",
     "timestamp": 1574782227296,
     "user": {
      "displayName": "matan avitan",
      "photoUrl": "https://lh3.googleusercontent.com/a-/AAuE7mAWyJrkwJHAYq8hio9Ee5N7uPwyvJhahCerS9d9_g=s64",
      "userId": "11022944328304351523"
     },
     "user_tz": -120
    },
    "id": "NHNygIWhTW5s",
    "outputId": "087743fd-b234-4482-9819-5a627efc7ffc"
   },
   "outputs": [],
   "source": [
    "titanic.head()"
   ]
  },
  {
   "cell_type": "code",
   "execution_count": null,
   "metadata": {
    "ExecuteTime": {
     "end_time": "2019-11-19T12:19:05.884460Z",
     "start_time": "2019-11-19T12:19:05.871051Z"
    },
    "colab": {
     "base_uri": "https://localhost:8080/",
     "height": 225
    },
    "colab_type": "code",
    "executionInfo": {
     "elapsed": 957,
     "status": "ok",
     "timestamp": 1574782227862,
     "user": {
      "displayName": "matan avitan",
      "photoUrl": "https://lh3.googleusercontent.com/a-/AAuE7mAWyJrkwJHAYq8hio9Ee5N7uPwyvJhahCerS9d9_g=s64",
      "userId": "11022944328304351523"
     },
     "user_tz": -120
    },
    "id": "SCJa8ZR7TW5u",
    "outputId": "13d1b1f7-6078-4203-fff8-0acc6f457a88"
   },
   "outputs": [],
   "source": [
    "family_names.head()"
   ]
  },
  {
   "cell_type": "code",
   "execution_count": null,
   "metadata": {
    "ExecuteTime": {
     "end_time": "2019-11-19T12:19:08.235393Z",
     "start_time": "2019-11-19T12:19:08.227685Z"
    },
    "colab": {},
    "colab_type": "code",
    "id": "CCSF1LUBTW5v"
   },
   "outputs": [],
   "source": [
    "family_names = family_names[(family_names.Sex==\"female\") & family_names.Name.str.contains(\"Mr.\")]"
   ]
  },
  {
   "cell_type": "code",
   "execution_count": null,
   "metadata": {
    "ExecuteTime": {
     "end_time": "2019-11-19T12:19:08.443768Z",
     "start_time": "2019-11-19T12:19:08.431423Z"
    },
    "colab": {
     "base_uri": "https://localhost:8080/",
     "height": 225
    },
    "colab_type": "code",
    "executionInfo": {
     "elapsed": 390,
     "status": "ok",
     "timestamp": 1574786961553,
     "user": {
      "displayName": "matan avitan",
      "photoUrl": "https://lh3.googleusercontent.com/a-/AAuE7mAWyJrkwJHAYq8hio9Ee5N7uPwyvJhahCerS9d9_g=s64",
      "userId": "11022944328304351523"
     },
     "user_tz": -120
    },
    "id": "vLtHDNMUTW5x",
    "outputId": "c3ff2b0d-1af3-47dc-9506-83a4aea1ec9e"
   },
   "outputs": [],
   "source": [
    "family_names.head()"
   ]
  },
  {
   "cell_type": "code",
   "execution_count": null,
   "metadata": {
    "ExecuteTime": {
     "end_time": "2019-11-19T12:19:14.728888Z",
     "start_time": "2019-11-19T12:19:14.700252Z"
    },
    "colab": {},
    "colab_type": "code",
    "id": "DOLabGUrTW5y",
    "outputId": "f0b2d343-a144-47b8-d600-84d12abd9bd1"
   },
   "outputs": [],
   "source": [
    "family_names.reset_index().set_index(\"Name\")#[\"PassengerId\"]"
   ]
  },
  {
   "cell_type": "code",
   "execution_count": null,
   "metadata": {
    "ExecuteTime": {
     "end_time": "2019-11-19T12:19:27.801741Z",
     "start_time": "2019-11-19T12:19:27.789921Z"
    },
    "colab": {},
    "colab_type": "code",
    "id": "ABho3NwkTW51"
   },
   "outputs": [],
   "source": [
    "titanic = (titanic.join(family_names\n",
    "                        .reset_index()\n",
    "                        .set_index(\"Name\")[\"PassengerId\"],\n",
    "                        on=\"Name\", rsuffix=\"_Spouse\"))"
   ]
  },
  {
   "cell_type": "code",
   "execution_count": null,
   "metadata": {
    "ExecuteTime": {
     "end_time": "2019-11-19T12:19:29.102986Z",
     "start_time": "2019-11-19T12:19:29.047947Z"
    },
    "colab": {
     "base_uri": "https://localhost:8080/",
     "height": 817
    },
    "colab_type": "code",
    "executionInfo": {
     "elapsed": 1628,
     "status": "ok",
     "timestamp": 1574787569966,
     "user": {
      "displayName": "matan avitan",
      "photoUrl": "https://lh3.googleusercontent.com/a-/AAuE7mAWyJrkwJHAYq8hio9Ee5N7uPwyvJhahCerS9d9_g=s64",
      "userId": "11022944328304351523"
     },
     "user_tz": -120
    },
    "id": "NwVvtWiHTW52",
    "outputId": "919f2877-7020-40e1-f95f-742006792d91"
   },
   "outputs": [],
   "source": [
    "titanic.head(25)"
   ]
  },
  {
   "cell_type": "code",
   "execution_count": null,
   "metadata": {
    "ExecuteTime": {
     "end_time": "2019-11-19T12:20:35.097739Z",
     "start_time": "2019-11-19T12:20:35.090530Z"
    },
    "colab": {},
    "colab_type": "code",
    "id": "eUsLV8QdTW53"
   },
   "outputs": [],
   "source": [
    "titanic.rename({\"PassengerId\":\"PassengerId_Spouse\"}, axis=1, inplace=True)"
   ]
  },
  {
   "cell_type": "code",
   "execution_count": null,
   "metadata": {
    "ExecuteTime": {
     "end_time": "2019-11-19T12:20:35.266621Z",
     "start_time": "2019-11-19T12:20:35.245491Z"
    },
    "colab": {
     "base_uri": "https://localhost:8080/",
     "height": 225
    },
    "colab_type": "code",
    "executionInfo": {
     "elapsed": 1065,
     "status": "ok",
     "timestamp": 1574787571111,
     "user": {
      "displayName": "matan avitan",
      "photoUrl": "https://lh3.googleusercontent.com/a-/AAuE7mAWyJrkwJHAYq8hio9Ee5N7uPwyvJhahCerS9d9_g=s64",
      "userId": "11022944328304351523"
     },
     "user_tz": -120
    },
    "id": "igszeAiVTW54",
    "outputId": "86ca0687-36ed-403e-dc4a-8ad30eea5305"
   },
   "outputs": [],
   "source": [
    "titanic.head()"
   ]
  },
  {
   "cell_type": "code",
   "execution_count": null,
   "metadata": {
    "ExecuteTime": {
     "end_time": "2019-11-19T12:20:57.173803Z",
     "start_time": "2019-11-19T12:20:57.159739Z"
    },
    "colab": {},
    "colab_type": "code",
    "id": "BxG4-N1uTW56"
   },
   "outputs": [],
   "source": [
    "titanic = titanic.join(titanic[[\"Name\", \"Age\"]],\n",
    "                       on=\"PassengerId_Spouse\", rsuffix=\"_Spouse\")"
   ]
  },
  {
   "cell_type": "code",
   "execution_count": null,
   "metadata": {
    "colab": {
     "base_uri": "https://localhost:8080/",
     "height": 482
    },
    "colab_type": "code",
    "executionInfo": {
     "elapsed": 1474,
     "status": "ok",
     "timestamp": 1574787610556,
     "user": {
      "displayName": "matan avitan",
      "photoUrl": "https://lh3.googleusercontent.com/a-/AAuE7mAWyJrkwJHAYq8hio9Ee5N7uPwyvJhahCerS9d9_g=s64",
      "userId": "11022944328304351523"
     },
     "user_tz": -120
    },
    "id": "Qet5AwYSp-JS",
    "outputId": "249daa30-d812-45f1-de51-2a6a1031e5f7"
   },
   "outputs": [],
   "source": [
    "titanic"
   ]
  },
  {
   "cell_type": "code",
   "execution_count": null,
   "metadata": {
    "ExecuteTime": {
     "end_time": "2019-11-19T12:21:03.254986Z",
     "start_time": "2019-11-19T12:21:03.213018Z"
    },
    "colab": {
     "base_uri": "https://localhost:8080/",
     "height": 431
    },
    "colab_type": "code",
    "executionInfo": {
     "elapsed": 967,
     "status": "ok",
     "timestamp": 1574787573270,
     "user": {
      "displayName": "matan avitan",
      "photoUrl": "https://lh3.googleusercontent.com/a-/AAuE7mAWyJrkwJHAYq8hio9Ee5N7uPwyvJhahCerS9d9_g=s64",
      "userId": "11022944328304351523"
     },
     "user_tz": -120
    },
    "id": "-uH4U2k7TW57",
    "outputId": "a060c574-a4aa-4db5-8696-64d9be8e874b",
    "scrolled": false
   },
   "outputs": [],
   "source": [
    "titanic[titanic.PassengerId_Spouse.notnull()][[\"Pclass\", \"Name\", \"Age\", \"Name_Spouse\", \"Age_Spouse\"]]"
   ]
  },
  {
   "cell_type": "code",
   "execution_count": null,
   "metadata": {
    "ExecuteTime": {
     "end_time": "2019-11-19T12:21:22.042835Z",
     "start_time": "2019-11-19T12:21:22.005813Z"
    },
    "colab": {},
    "colab_type": "code",
    "id": "9f2QYLIiTW5-",
    "outputId": "bf2e4968-9de5-4c04-b446-2b338290c4ee"
   },
   "outputs": [],
   "source": [
    "(titanic.Age - titanic.Age_Spouse).groupby(titanic.Pclass).agg([\"min\", \"max\", \"mean\", \"std\"])"
   ]
  },
  {
   "cell_type": "code",
   "execution_count": null,
   "metadata": {
    "colab": {
     "base_uri": "https://localhost:8080/",
     "height": 269
    },
    "colab_type": "code",
    "executionInfo": {
     "elapsed": 1257,
     "status": "ok",
     "timestamp": 1574788222576,
     "user": {
      "displayName": "matan avitan",
      "photoUrl": "https://lh3.googleusercontent.com/a-/AAuE7mAWyJrkwJHAYq8hio9Ee5N7uPwyvJhahCerS9d9_g=s64",
      "userId": "11022944328304351523"
     },
     "user_tz": -120
    },
    "id": "PDkH-hFxsFGY",
    "outputId": "4d0016a3-6bdd-4e48-e26f-f8046cd1a411"
   },
   "outputs": [],
   "source": [
    "titanic.loc[742]"
   ]
  },
  {
   "cell_type": "code",
   "execution_count": null,
   "metadata": {
    "ExecuteTime": {
     "end_time": "2019-11-19T12:21:57.324066Z",
     "start_time": "2019-11-19T12:21:57.316031Z"
    },
    "colab": {},
    "colab_type": "code",
    "id": "1rLbAoL2TW5_"
   },
   "outputs": [],
   "source": [
    "FTS_COLS = titanic.columns[1:-3].tolist()\n",
    "FTS_COLS.remove(\"Cabin\")"
   ]
  },
  {
   "cell_type": "code",
   "execution_count": null,
   "metadata": {
    "ExecuteTime": {
     "end_time": "2019-11-19T12:21:57.505802Z",
     "start_time": "2019-11-19T12:21:57.480633Z"
    },
    "colab": {},
    "colab_type": "code",
    "id": "rZWtXP2lTW6A",
    "outputId": "a18f9ce3-cde9-4f8b-ea3b-4bb43331398b"
   },
   "outputs": [],
   "source": [
    "titanic.info()"
   ]
  },
  {
   "cell_type": "code",
   "execution_count": null,
   "metadata": {
    "ExecuteTime": {
     "end_time": "2019-11-19T12:21:59.449213Z",
     "start_time": "2019-11-19T12:21:59.436105Z"
    },
    "colab": {},
    "colab_type": "code",
    "id": "0uBlciLATW6C",
    "outputId": "7ea1e051-9030-4cb1-9bc5-1f112315ff11"
   },
   "outputs": [],
   "source": [
    "titanic[FTS_COLS].isnull().any(axis=1).sum()"
   ]
  },
  {
   "cell_type": "code",
   "execution_count": null,
   "metadata": {
    "ExecuteTime": {
     "end_time": "2019-11-19T12:22:08.079905Z",
     "start_time": "2019-11-19T12:22:08.056634Z"
    },
    "colab": {},
    "colab_type": "code",
    "id": "Zl6IcQutTW6D",
    "outputId": "1e8473e5-5ec3-4c1b-a06d-2782c1fd04e2"
   },
   "outputs": [],
   "source": [
    "titanic[(titanic.Age - titanic.Age_Spouse)<0][[\"Pclass\", \"Name\", \"Age\", \"Name_Spouse\", \"Age_Spouse\"]]"
   ]
  },
  {
   "cell_type": "code",
   "execution_count": null,
   "metadata": {
    "colab": {},
    "colab_type": "code",
    "id": "_mIlrP4YTW6G"
   },
   "outputs": [],
   "source": []
  }
 ],
 "metadata": {
  "colab": {
   "collapsed_sections": [],
   "name": " [Py4DP] [Lecture 4] pandas - Part II.ipynb",
   "provenance": [
    {
     "file_id": "13qiJulOfHou7jIDsS7WkhtZhhm8iD6MV",
     "timestamp": 1574185394309
    }
   ]
  },
  "kernelspec": {
   "display_name": "Python 3",
   "language": "python",
   "name": "python3"
  },
  "language_info": {
   "codemirror_mode": {
    "name": "ipython",
    "version": 3
   },
   "file_extension": ".py",
   "mimetype": "text/x-python",
   "name": "python",
   "nbconvert_exporter": "python",
   "pygments_lexer": "ipython3",
   "version": "3.7.5"
  }
 },
 "nbformat": 4,
 "nbformat_minor": 1
}
