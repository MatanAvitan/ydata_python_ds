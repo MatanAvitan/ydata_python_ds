{
 "cells": [
  {
   "cell_type": "markdown",
   "metadata": {
    "colab_type": "text",
    "id": "GiwokmXa4AE0"
   },
   "source": [
    "# `pandas`"
   ]
  },
  {
   "cell_type": "code",
   "execution_count": 1,
   "metadata": {
    "ExecuteTime": {
     "end_time": "2019-11-12T12:56:02.642251Z",
     "start_time": "2019-11-12T12:56:01.969432Z"
    },
    "colab": {
     "base_uri": "https://localhost:8080/",
     "height": 34
    },
    "colab_type": "code",
    "executionInfo": {
     "elapsed": 1971,
     "status": "ok",
     "timestamp": 1574187380589,
     "user": {
      "displayName": "matan avitan",
      "photoUrl": "https://lh3.googleusercontent.com/a-/AAuE7mAWyJrkwJHAYq8hio9Ee5N7uPwyvJhahCerS9d9_g=s64",
      "userId": "11022944328304351523"
     },
     "user_tz": -120
    },
    "id": "8GrkX4Vv4AE3",
    "outputId": "60984af5-7ce4-4101-ba45-a58b6ba06932"
   },
   "outputs": [
    {
     "ename": "ModuleNotFoundError",
     "evalue": "No module named 'matplotlib'",
     "output_type": "error",
     "traceback": [
      "\u001b[0;31m---------------------------------------------------------------------------\u001b[0m",
      "\u001b[0;31mModuleNotFoundError\u001b[0m                       Traceback (most recent call last)",
      "\u001b[0;32m<ipython-input-1-760a40bc566c>\u001b[0m in \u001b[0;36m<module>\u001b[0;34m\u001b[0m\n\u001b[0;32m----> 1\u001b[0;31m \u001b[0mget_ipython\u001b[0m\u001b[0;34m(\u001b[0m\u001b[0;34m)\u001b[0m\u001b[0;34m.\u001b[0m\u001b[0mrun_line_magic\u001b[0m\u001b[0;34m(\u001b[0m\u001b[0;34m'pylab'\u001b[0m\u001b[0;34m,\u001b[0m \u001b[0;34m'inline'\u001b[0m\u001b[0;34m)\u001b[0m\u001b[0;34m\u001b[0m\u001b[0;34m\u001b[0m\u001b[0m\n\u001b[0m\u001b[1;32m      2\u001b[0m \u001b[0mplt\u001b[0m\u001b[0;34m.\u001b[0m\u001b[0mstyle\u001b[0m\u001b[0;34m.\u001b[0m\u001b[0muse\u001b[0m\u001b[0;34m(\u001b[0m\u001b[0;34m'ggplot'\u001b[0m\u001b[0;34m)\u001b[0m\u001b[0;34m\u001b[0m\u001b[0;34m\u001b[0m\u001b[0m\n",
      "\u001b[0;32m~/.local/lib/python3.7/site-packages/IPython/core/interactiveshell.py\u001b[0m in \u001b[0;36mrun_line_magic\u001b[0;34m(self, magic_name, line, _stack_depth)\u001b[0m\n\u001b[1;32m   2305\u001b[0m                 \u001b[0mkwargs\u001b[0m\u001b[0;34m[\u001b[0m\u001b[0;34m'local_ns'\u001b[0m\u001b[0;34m]\u001b[0m \u001b[0;34m=\u001b[0m \u001b[0msys\u001b[0m\u001b[0;34m.\u001b[0m\u001b[0m_getframe\u001b[0m\u001b[0;34m(\u001b[0m\u001b[0mstack_depth\u001b[0m\u001b[0;34m)\u001b[0m\u001b[0;34m.\u001b[0m\u001b[0mf_locals\u001b[0m\u001b[0;34m\u001b[0m\u001b[0;34m\u001b[0m\u001b[0m\n\u001b[1;32m   2306\u001b[0m             \u001b[0;32mwith\u001b[0m \u001b[0mself\u001b[0m\u001b[0;34m.\u001b[0m\u001b[0mbuiltin_trap\u001b[0m\u001b[0;34m:\u001b[0m\u001b[0;34m\u001b[0m\u001b[0;34m\u001b[0m\u001b[0m\n\u001b[0;32m-> 2307\u001b[0;31m                 \u001b[0mresult\u001b[0m \u001b[0;34m=\u001b[0m \u001b[0mfn\u001b[0m\u001b[0;34m(\u001b[0m\u001b[0;34m*\u001b[0m\u001b[0margs\u001b[0m\u001b[0;34m,\u001b[0m \u001b[0;34m**\u001b[0m\u001b[0mkwargs\u001b[0m\u001b[0;34m)\u001b[0m\u001b[0;34m\u001b[0m\u001b[0;34m\u001b[0m\u001b[0m\n\u001b[0m\u001b[1;32m   2308\u001b[0m             \u001b[0;32mreturn\u001b[0m \u001b[0mresult\u001b[0m\u001b[0;34m\u001b[0m\u001b[0;34m\u001b[0m\u001b[0m\n\u001b[1;32m   2309\u001b[0m \u001b[0;34m\u001b[0m\u001b[0m\n",
      "\u001b[0;32m</home/ma/.local/lib/python3.7/site-packages/decorator.py:decorator-gen-109>\u001b[0m in \u001b[0;36mpylab\u001b[0;34m(self, line)\u001b[0m\n",
      "\u001b[0;32m~/.local/lib/python3.7/site-packages/IPython/core/magic.py\u001b[0m in \u001b[0;36m<lambda>\u001b[0;34m(f, *a, **k)\u001b[0m\n\u001b[1;32m    185\u001b[0m     \u001b[0;31m# but it's overkill for just that one bit of state.\u001b[0m\u001b[0;34m\u001b[0m\u001b[0;34m\u001b[0m\u001b[0;34m\u001b[0m\u001b[0m\n\u001b[1;32m    186\u001b[0m     \u001b[0;32mdef\u001b[0m \u001b[0mmagic_deco\u001b[0m\u001b[0;34m(\u001b[0m\u001b[0marg\u001b[0m\u001b[0;34m)\u001b[0m\u001b[0;34m:\u001b[0m\u001b[0;34m\u001b[0m\u001b[0;34m\u001b[0m\u001b[0m\n\u001b[0;32m--> 187\u001b[0;31m         \u001b[0mcall\u001b[0m \u001b[0;34m=\u001b[0m \u001b[0;32mlambda\u001b[0m \u001b[0mf\u001b[0m\u001b[0;34m,\u001b[0m \u001b[0;34m*\u001b[0m\u001b[0ma\u001b[0m\u001b[0;34m,\u001b[0m \u001b[0;34m**\u001b[0m\u001b[0mk\u001b[0m\u001b[0;34m:\u001b[0m \u001b[0mf\u001b[0m\u001b[0;34m(\u001b[0m\u001b[0;34m*\u001b[0m\u001b[0ma\u001b[0m\u001b[0;34m,\u001b[0m \u001b[0;34m**\u001b[0m\u001b[0mk\u001b[0m\u001b[0;34m)\u001b[0m\u001b[0;34m\u001b[0m\u001b[0;34m\u001b[0m\u001b[0m\n\u001b[0m\u001b[1;32m    188\u001b[0m \u001b[0;34m\u001b[0m\u001b[0m\n\u001b[1;32m    189\u001b[0m         \u001b[0;32mif\u001b[0m \u001b[0mcallable\u001b[0m\u001b[0;34m(\u001b[0m\u001b[0marg\u001b[0m\u001b[0;34m)\u001b[0m\u001b[0;34m:\u001b[0m\u001b[0;34m\u001b[0m\u001b[0;34m\u001b[0m\u001b[0m\n",
      "\u001b[0;32m~/.local/lib/python3.7/site-packages/IPython/core/magics/pylab.py\u001b[0m in \u001b[0;36mpylab\u001b[0;34m(self, line)\u001b[0m\n\u001b[1;32m    153\u001b[0m             \u001b[0mimport_all\u001b[0m \u001b[0;34m=\u001b[0m \u001b[0;32mnot\u001b[0m \u001b[0margs\u001b[0m\u001b[0;34m.\u001b[0m\u001b[0mno_import_all\u001b[0m\u001b[0;34m\u001b[0m\u001b[0;34m\u001b[0m\u001b[0m\n\u001b[1;32m    154\u001b[0m \u001b[0;34m\u001b[0m\u001b[0m\n\u001b[0;32m--> 155\u001b[0;31m         \u001b[0mgui\u001b[0m\u001b[0;34m,\u001b[0m \u001b[0mbackend\u001b[0m\u001b[0;34m,\u001b[0m \u001b[0mclobbered\u001b[0m \u001b[0;34m=\u001b[0m \u001b[0mself\u001b[0m\u001b[0;34m.\u001b[0m\u001b[0mshell\u001b[0m\u001b[0;34m.\u001b[0m\u001b[0menable_pylab\u001b[0m\u001b[0;34m(\u001b[0m\u001b[0margs\u001b[0m\u001b[0;34m.\u001b[0m\u001b[0mgui\u001b[0m\u001b[0;34m,\u001b[0m \u001b[0mimport_all\u001b[0m\u001b[0;34m=\u001b[0m\u001b[0mimport_all\u001b[0m\u001b[0;34m)\u001b[0m\u001b[0;34m\u001b[0m\u001b[0;34m\u001b[0m\u001b[0m\n\u001b[0m\u001b[1;32m    156\u001b[0m         \u001b[0mself\u001b[0m\u001b[0;34m.\u001b[0m\u001b[0m_show_matplotlib_backend\u001b[0m\u001b[0;34m(\u001b[0m\u001b[0margs\u001b[0m\u001b[0;34m.\u001b[0m\u001b[0mgui\u001b[0m\u001b[0;34m,\u001b[0m \u001b[0mbackend\u001b[0m\u001b[0;34m)\u001b[0m\u001b[0;34m\u001b[0m\u001b[0;34m\u001b[0m\u001b[0m\n\u001b[1;32m    157\u001b[0m         \u001b[0mprint\u001b[0m \u001b[0;34m(\u001b[0m\u001b[0;34m\"Populating the interactive namespace from numpy and matplotlib\"\u001b[0m\u001b[0;34m)\u001b[0m\u001b[0;34m\u001b[0m\u001b[0;34m\u001b[0m\u001b[0m\n",
      "\u001b[0;32m~/.local/lib/python3.7/site-packages/IPython/core/interactiveshell.py\u001b[0m in \u001b[0;36menable_pylab\u001b[0;34m(self, gui, import_all, welcome_message)\u001b[0m\n\u001b[1;32m   3444\u001b[0m         \u001b[0;32mfrom\u001b[0m \u001b[0mIPython\u001b[0m\u001b[0;34m.\u001b[0m\u001b[0mcore\u001b[0m\u001b[0;34m.\u001b[0m\u001b[0mpylabtools\u001b[0m \u001b[0;32mimport\u001b[0m \u001b[0mimport_pylab\u001b[0m\u001b[0;34m\u001b[0m\u001b[0;34m\u001b[0m\u001b[0m\n\u001b[1;32m   3445\u001b[0m \u001b[0;34m\u001b[0m\u001b[0m\n\u001b[0;32m-> 3446\u001b[0;31m         \u001b[0mgui\u001b[0m\u001b[0;34m,\u001b[0m \u001b[0mbackend\u001b[0m \u001b[0;34m=\u001b[0m \u001b[0mself\u001b[0m\u001b[0;34m.\u001b[0m\u001b[0menable_matplotlib\u001b[0m\u001b[0;34m(\u001b[0m\u001b[0mgui\u001b[0m\u001b[0;34m)\u001b[0m\u001b[0;34m\u001b[0m\u001b[0;34m\u001b[0m\u001b[0m\n\u001b[0m\u001b[1;32m   3447\u001b[0m \u001b[0;34m\u001b[0m\u001b[0m\n\u001b[1;32m   3448\u001b[0m         \u001b[0;31m# We want to prevent the loading of pylab to pollute the user's\u001b[0m\u001b[0;34m\u001b[0m\u001b[0;34m\u001b[0m\u001b[0;34m\u001b[0m\u001b[0m\n",
      "\u001b[0;32m~/.local/lib/python3.7/site-packages/IPython/core/interactiveshell.py\u001b[0m in \u001b[0;36menable_matplotlib\u001b[0;34m(self, gui)\u001b[0m\n\u001b[1;32m   3393\u001b[0m         \"\"\"\n\u001b[1;32m   3394\u001b[0m         \u001b[0;32mfrom\u001b[0m \u001b[0mIPython\u001b[0m\u001b[0;34m.\u001b[0m\u001b[0mcore\u001b[0m \u001b[0;32mimport\u001b[0m \u001b[0mpylabtools\u001b[0m \u001b[0;32mas\u001b[0m \u001b[0mpt\u001b[0m\u001b[0;34m\u001b[0m\u001b[0;34m\u001b[0m\u001b[0m\n\u001b[0;32m-> 3395\u001b[0;31m         \u001b[0mgui\u001b[0m\u001b[0;34m,\u001b[0m \u001b[0mbackend\u001b[0m \u001b[0;34m=\u001b[0m \u001b[0mpt\u001b[0m\u001b[0;34m.\u001b[0m\u001b[0mfind_gui_and_backend\u001b[0m\u001b[0;34m(\u001b[0m\u001b[0mgui\u001b[0m\u001b[0;34m,\u001b[0m \u001b[0mself\u001b[0m\u001b[0;34m.\u001b[0m\u001b[0mpylab_gui_select\u001b[0m\u001b[0;34m)\u001b[0m\u001b[0;34m\u001b[0m\u001b[0;34m\u001b[0m\u001b[0m\n\u001b[0m\u001b[1;32m   3396\u001b[0m \u001b[0;34m\u001b[0m\u001b[0m\n\u001b[1;32m   3397\u001b[0m         \u001b[0;32mif\u001b[0m \u001b[0mgui\u001b[0m \u001b[0;34m!=\u001b[0m \u001b[0;34m'inline'\u001b[0m\u001b[0;34m:\u001b[0m\u001b[0;34m\u001b[0m\u001b[0;34m\u001b[0m\u001b[0m\n",
      "\u001b[0;32m~/.local/lib/python3.7/site-packages/IPython/core/pylabtools.py\u001b[0m in \u001b[0;36mfind_gui_and_backend\u001b[0;34m(gui, gui_select)\u001b[0m\n\u001b[1;32m    274\u001b[0m     \"\"\"\n\u001b[1;32m    275\u001b[0m \u001b[0;34m\u001b[0m\u001b[0m\n\u001b[0;32m--> 276\u001b[0;31m     \u001b[0;32mimport\u001b[0m \u001b[0mmatplotlib\u001b[0m\u001b[0;34m\u001b[0m\u001b[0;34m\u001b[0m\u001b[0m\n\u001b[0m\u001b[1;32m    277\u001b[0m \u001b[0;34m\u001b[0m\u001b[0m\n\u001b[1;32m    278\u001b[0m     \u001b[0;32mif\u001b[0m \u001b[0mgui\u001b[0m \u001b[0;32mand\u001b[0m \u001b[0mgui\u001b[0m \u001b[0;34m!=\u001b[0m \u001b[0;34m'auto'\u001b[0m\u001b[0;34m:\u001b[0m\u001b[0;34m\u001b[0m\u001b[0;34m\u001b[0m\u001b[0m\n",
      "\u001b[0;31mModuleNotFoundError\u001b[0m: No module named 'matplotlib'"
     ]
    }
   ],
   "source": [
    "%pylab inline\n",
    "plt.style.use('ggplot')"
   ]
  },
  {
   "cell_type": "code",
   "execution_count": 1,
   "metadata": {
    "ExecuteTime": {
     "end_time": "2019-11-12T12:56:03.155344Z",
     "start_time": "2019-11-12T12:56:02.646307Z"
    },
    "colab": {},
    "colab_type": "code",
    "id": "FPjTlY5M4AE6"
   },
   "outputs": [],
   "source": [
    "import numpy as np\n",
    "import pandas as pd"
   ]
  },
  {
   "cell_type": "markdown",
   "metadata": {
    "colab_type": "text",
    "id": "Sv15ItD04AE9"
   },
   "source": [
    "## Creating `pd.Series`"
   ]
  },
  {
   "cell_type": "code",
   "execution_count": 2,
   "metadata": {
    "ExecuteTime": {
     "end_time": "2019-11-12T12:56:04.036109Z",
     "start_time": "2019-11-12T12:56:04.027373Z"
    },
    "colab": {},
    "colab_type": "code",
    "id": "MMdV-Ukz4AE-"
   },
   "outputs": [
    {
     "data": {
      "text/plain": [
       "0   -0.382608\n",
       "1    0.978762\n",
       "2   -1.589065\n",
       "3   -0.873391\n",
       "4    0.462742\n",
       "5   -1.200355\n",
       "6   -0.507627\n",
       "7    0.235459\n",
       "8    0.469664\n",
       "9    1.091288\n",
       "dtype: float64"
      ]
     },
     "execution_count": 2,
     "metadata": {},
     "output_type": "execute_result"
    }
   ],
   "source": [
    "s = pd.Series(np.random.randn(10))\n",
    "s"
   ]
  },
  {
   "cell_type": "code",
   "execution_count": 3,
   "metadata": {
    "ExecuteTime": {
     "end_time": "2019-11-12T12:56:05.524416Z",
     "start_time": "2019-11-12T12:56:05.514415Z"
    },
    "colab": {},
    "colab_type": "code",
    "id": "fpV_TzRB4AFA"
   },
   "outputs": [
    {
     "data": {
      "text/plain": [
       "0   -1.334142\n",
       "1    0.824829\n",
       "2   -0.942558\n",
       "3   -2.177161\n",
       "4   -2.726295\n",
       "5   -1.231973\n",
       "6    0.298790\n",
       "7    0.084829\n",
       "8   -0.836688\n",
       "9    0.808884\n",
       "Name: random_series, dtype: float64"
      ]
     },
     "execution_count": 3,
     "metadata": {},
     "output_type": "execute_result"
    }
   ],
   "source": [
    "s = pd.Series(np.random.randn(10), name=\"random_series\")\n",
    "s"
   ]
  },
  {
   "cell_type": "code",
   "execution_count": 4,
   "metadata": {
    "ExecuteTime": {
     "end_time": "2019-11-12T12:56:27.753956Z",
     "start_time": "2019-11-12T12:56:27.743461Z"
    },
    "colab": {},
    "colab_type": "code",
    "id": "5hEbC0wH4AFD"
   },
   "outputs": [
    {
     "data": {
      "text/plain": [
       "18    1.341360\n",
       "1    -0.542827\n",
       "7    -2.060725\n",
       "13   -2.153282\n",
       "20   -0.780728\n",
       "19   -0.077946\n",
       "2    -0.862155\n",
       "3    -0.393345\n",
       "1     0.260328\n",
       "15    1.120045\n",
       "Name: random_series, dtype: float64"
      ]
     },
     "execution_count": 4,
     "metadata": {},
     "output_type": "execute_result"
    }
   ],
   "source": [
    "s = pd.Series(np.random.randn(10), name=\"random_series\", index=np.random.randint(23, size=(10,)))\n",
    "s"
   ]
  },
  {
   "cell_type": "code",
   "execution_count": 5,
   "metadata": {
    "ExecuteTime": {
     "end_time": "2019-11-12T12:56:27.918895Z",
     "start_time": "2019-11-12T12:56:27.909984Z"
    },
    "colab": {},
    "colab_type": "code",
    "id": "IJqVzBfi4AFF"
   },
   "outputs": [
    {
     "data": {
      "text/plain": [
       "Int64Index([18, 1, 7, 13, 20, 19, 2, 3, 1, 15], dtype='int64')"
      ]
     },
     "execution_count": 5,
     "metadata": {},
     "output_type": "execute_result"
    }
   ],
   "source": [
    "s.index"
   ]
  },
  {
   "cell_type": "code",
   "execution_count": 6,
   "metadata": {
    "ExecuteTime": {
     "end_time": "2019-11-12T12:56:44.427259Z",
     "start_time": "2019-11-12T12:56:44.419479Z"
    },
    "colab": {},
    "colab_type": "code",
    "id": "iYTjfv4q4AFH"
   },
   "outputs": [
    {
     "data": {
      "text/plain": [
       "main_index\n",
       "11    1.357900\n",
       "3    -0.872344\n",
       "13    0.011908\n",
       "3     0.773991\n",
       "16    0.184806\n",
       "13    1.595941\n",
       "7    -0.081281\n",
       "16    0.982863\n",
       "3     0.057459\n",
       "5    -0.227141\n",
       "Name: random_series, dtype: float64"
      ]
     },
     "execution_count": 6,
     "metadata": {},
     "output_type": "execute_result"
    }
   ],
   "source": [
    "s = pd.Series(np.random.randn(10), name=\"random_series\",\n",
    "              index=pd.Index(np.random.randint(23, size=(10,)), name=\"main_index\"))\n",
    "s"
   ]
  },
  {
   "cell_type": "code",
   "execution_count": 7,
   "metadata": {
    "ExecuteTime": {
     "end_time": "2019-11-12T12:56:35.374294Z",
     "start_time": "2019-11-12T12:56:35.366456Z"
    },
    "colab": {},
    "colab_type": "code",
    "id": "QaZoaD_x4AFJ"
   },
   "outputs": [
    {
     "data": {
      "text/plain": [
       "Int64Index([11, 3, 13, 3, 16, 13, 7, 16, 3, 5], dtype='int64', name='main_index')"
      ]
     },
     "execution_count": 7,
     "metadata": {},
     "output_type": "execute_result"
    }
   ],
   "source": [
    "s.index"
   ]
  },
  {
   "cell_type": "code",
   "execution_count": 8,
   "metadata": {
    "ExecuteTime": {
     "end_time": "2019-11-12T12:56:48.634527Z",
     "start_time": "2019-11-12T12:56:48.625840Z"
    },
    "colab": {},
    "colab_type": "code",
    "id": "ZkumPlB14AFM"
   },
   "outputs": [
    {
     "ename": "SyntaxError",
     "evalue": "invalid syntax (<ipython-input-8-bf0461e875e5>, line 2)",
     "output_type": "error",
     "traceback": [
      "\u001b[0;36m  File \u001b[0;32m\"<ipython-input-8-bf0461e875e5>\"\u001b[0;36m, line \u001b[0;32m2\u001b[0m\n\u001b[0;31m    s[]\u001b[0m\n\u001b[0m      ^\u001b[0m\n\u001b[0;31mSyntaxError\u001b[0m\u001b[0;31m:\u001b[0m invalid syntax\n"
     ]
    }
   ],
   "source": [
    "# Index with a single occurence\n",
    "s[]"
   ]
  },
  {
   "cell_type": "code",
   "execution_count": 9,
   "metadata": {
    "ExecuteTime": {
     "end_time": "2019-11-12T12:57:32.322401Z",
     "start_time": "2019-11-12T12:57:32.314359Z"
    },
    "colab": {},
    "colab_type": "code",
    "id": "HFsJUi4J4AFO"
   },
   "outputs": [
    {
     "ename": "SyntaxError",
     "evalue": "invalid syntax (<ipython-input-9-3f27d9869ebd>, line 2)",
     "output_type": "error",
     "traceback": [
      "\u001b[0;36m  File \u001b[0;32m\"<ipython-input-9-3f27d9869ebd>\"\u001b[0;36m, line \u001b[0;32m2\u001b[0m\n\u001b[0;31m    s[]\u001b[0m\n\u001b[0m      ^\u001b[0m\n\u001b[0;31mSyntaxError\u001b[0m\u001b[0;31m:\u001b[0m invalid syntax\n"
     ]
    }
   ],
   "source": [
    "# Index with multiple occurences\n",
    "s[]"
   ]
  },
  {
   "cell_type": "code",
   "execution_count": 10,
   "metadata": {
    "ExecuteTime": {
     "end_time": "2019-11-12T12:57:37.610840Z",
     "start_time": "2019-11-12T12:57:37.604216Z"
    },
    "colab": {},
    "colab_type": "code",
    "id": "Yc6Fj8GA4AFQ"
   },
   "outputs": [
    {
     "ename": "SyntaxError",
     "evalue": "invalid syntax (<ipython-input-10-0bdbe5b40119>, line 1)",
     "output_type": "error",
     "traceback": [
      "\u001b[0;36m  File \u001b[0;32m\"<ipython-input-10-0bdbe5b40119>\"\u001b[0;36m, line \u001b[0;32m1\u001b[0m\n\u001b[0;31m    s[].iloc[0]\u001b[0m\n\u001b[0m      ^\u001b[0m\n\u001b[0;31mSyntaxError\u001b[0m\u001b[0;31m:\u001b[0m invalid syntax\n"
     ]
    }
   ],
   "source": [
    "s[].iloc[0]"
   ]
  },
  {
   "cell_type": "code",
   "execution_count": 0,
   "metadata": {
    "ExecuteTime": {
     "end_time": "2019-11-12T12:57:54.918740Z",
     "start_time": "2019-11-12T12:57:54.913401Z"
    },
    "colab": {},
    "colab_type": "code",
    "id": "nzKADCn04AFS"
   },
   "outputs": [],
   "source": [
    "s.iloc[1]"
   ]
  },
  {
   "cell_type": "code",
   "execution_count": 12,
   "metadata": {
    "ExecuteTime": {
     "end_time": "2019-11-12T12:58:33.328789Z",
     "start_time": "2019-11-12T12:58:33.318937Z"
    },
    "colab": {},
    "colab_type": "code",
    "id": "Z6gsgLuj4AFU"
   },
   "outputs": [
    {
     "data": {
      "text/plain": [
       "a    3\n",
       "c    6\n",
       "b    2\n",
       "Name: dict_series, dtype: int64"
      ]
     },
     "execution_count": 12,
     "metadata": {},
     "output_type": "execute_result"
    }
   ],
   "source": [
    "s = pd.Series({'a':3, 'c':6, 'b':2}, name=\"dict_series\")\n",
    "s"
   ]
  },
  {
   "cell_type": "code",
   "execution_count": 13,
   "metadata": {
    "ExecuteTime": {
     "end_time": "2019-11-12T12:58:35.530115Z",
     "start_time": "2019-11-12T12:58:35.523813Z"
    },
    "colab": {},
    "colab_type": "code",
    "id": "hqFgh-Dp4AFW"
   },
   "outputs": [
    {
     "data": {
      "text/plain": [
       "(3, 3)"
      ]
     },
     "execution_count": 13,
     "metadata": {},
     "output_type": "execute_result"
    }
   ],
   "source": [
    "s[0], s['a']"
   ]
  },
  {
   "cell_type": "code",
   "execution_count": 14,
   "metadata": {
    "ExecuteTime": {
     "end_time": "2019-11-12T12:58:43.709428Z",
     "start_time": "2019-11-12T12:58:43.699978Z"
    },
    "colab": {},
    "colab_type": "code",
    "id": "TAK2B0_54AFY"
   },
   "outputs": [
    {
     "data": {
      "text/plain": [
       "a    3\n",
       "c    6\n",
       "Name: dict_series, dtype: int64"
      ]
     },
     "execution_count": 14,
     "metadata": {},
     "output_type": "execute_result"
    }
   ],
   "source": [
    "s['a':'c']"
   ]
  },
  {
   "cell_type": "markdown",
   "metadata": {
    "colab_type": "text",
    "id": "loSC-map4AFa"
   },
   "source": [
    "## Creating `pd.DataFrame`"
   ]
  },
  {
   "cell_type": "code",
   "execution_count": 15,
   "metadata": {
    "ExecuteTime": {
     "end_time": "2019-11-12T12:58:49.366122Z",
     "start_time": "2019-11-12T12:58:49.345931Z"
    },
    "colab": {},
    "colab_type": "code",
    "id": "kqRKks5U4AFb"
   },
   "outputs": [
    {
     "data": {
      "text/html": [
       "<div>\n",
       "<style scoped>\n",
       "    .dataframe tbody tr th:only-of-type {\n",
       "        vertical-align: middle;\n",
       "    }\n",
       "\n",
       "    .dataframe tbody tr th {\n",
       "        vertical-align: top;\n",
       "    }\n",
       "\n",
       "    .dataframe thead th {\n",
       "        text-align: right;\n",
       "    }\n",
       "</style>\n",
       "<table border=\"1\" class=\"dataframe\">\n",
       "  <thead>\n",
       "    <tr style=\"text-align: right;\">\n",
       "      <th></th>\n",
       "      <th>0</th>\n",
       "      <th>1</th>\n",
       "      <th>2</th>\n",
       "      <th>3</th>\n",
       "    </tr>\n",
       "  </thead>\n",
       "  <tbody>\n",
       "    <tr>\n",
       "      <th>0</th>\n",
       "      <td>0</td>\n",
       "      <td>1</td>\n",
       "      <td>2</td>\n",
       "      <td>3</td>\n",
       "    </tr>\n",
       "    <tr>\n",
       "      <th>1</th>\n",
       "      <td>4</td>\n",
       "      <td>5</td>\n",
       "      <td>6</td>\n",
       "      <td>7</td>\n",
       "    </tr>\n",
       "    <tr>\n",
       "      <th>2</th>\n",
       "      <td>8</td>\n",
       "      <td>9</td>\n",
       "      <td>10</td>\n",
       "      <td>11</td>\n",
       "    </tr>\n",
       "    <tr>\n",
       "      <th>3</th>\n",
       "      <td>12</td>\n",
       "      <td>13</td>\n",
       "      <td>14</td>\n",
       "      <td>15</td>\n",
       "    </tr>\n",
       "    <tr>\n",
       "      <th>4</th>\n",
       "      <td>16</td>\n",
       "      <td>17</td>\n",
       "      <td>18</td>\n",
       "      <td>19</td>\n",
       "    </tr>\n",
       "  </tbody>\n",
       "</table>\n",
       "</div>"
      ],
      "text/plain": [
       "    0   1   2   3\n",
       "0   0   1   2   3\n",
       "1   4   5   6   7\n",
       "2   8   9  10  11\n",
       "3  12  13  14  15\n",
       "4  16  17  18  19"
      ]
     },
     "execution_count": 15,
     "metadata": {},
     "output_type": "execute_result"
    }
   ],
   "source": [
    "df = pd.DataFrame(np.arange(20).reshape((5,4)))\n",
    "df"
   ]
  },
  {
   "cell_type": "code",
   "execution_count": 16,
   "metadata": {
    "ExecuteTime": {
     "end_time": "2019-11-12T12:58:53.469959Z",
     "start_time": "2019-11-12T12:58:53.453539Z"
    },
    "colab": {},
    "colab_type": "code",
    "id": "nl-Qw6-L4AFd"
   },
   "outputs": [
    {
     "data": {
      "text/html": [
       "<div>\n",
       "<style scoped>\n",
       "    .dataframe tbody tr th:only-of-type {\n",
       "        vertical-align: middle;\n",
       "    }\n",
       "\n",
       "    .dataframe tbody tr th {\n",
       "        vertical-align: top;\n",
       "    }\n",
       "\n",
       "    .dataframe thead th {\n",
       "        text-align: right;\n",
       "    }\n",
       "</style>\n",
       "<table border=\"1\" class=\"dataframe\">\n",
       "  <thead>\n",
       "    <tr style=\"text-align: right;\">\n",
       "      <th></th>\n",
       "      <th>a</th>\n",
       "      <th>b</th>\n",
       "      <th>c</th>\n",
       "      <th>d</th>\n",
       "    </tr>\n",
       "  </thead>\n",
       "  <tbody>\n",
       "    <tr>\n",
       "      <th>0</th>\n",
       "      <td>0</td>\n",
       "      <td>1</td>\n",
       "      <td>2</td>\n",
       "      <td>3</td>\n",
       "    </tr>\n",
       "    <tr>\n",
       "      <th>1</th>\n",
       "      <td>4</td>\n",
       "      <td>5</td>\n",
       "      <td>6</td>\n",
       "      <td>7</td>\n",
       "    </tr>\n",
       "    <tr>\n",
       "      <th>2</th>\n",
       "      <td>8</td>\n",
       "      <td>9</td>\n",
       "      <td>10</td>\n",
       "      <td>11</td>\n",
       "    </tr>\n",
       "    <tr>\n",
       "      <th>3</th>\n",
       "      <td>12</td>\n",
       "      <td>13</td>\n",
       "      <td>14</td>\n",
       "      <td>15</td>\n",
       "    </tr>\n",
       "    <tr>\n",
       "      <th>4</th>\n",
       "      <td>16</td>\n",
       "      <td>17</td>\n",
       "      <td>18</td>\n",
       "      <td>19</td>\n",
       "    </tr>\n",
       "  </tbody>\n",
       "</table>\n",
       "</div>"
      ],
      "text/plain": [
       "    a   b   c   d\n",
       "0   0   1   2   3\n",
       "1   4   5   6   7\n",
       "2   8   9  10  11\n",
       "3  12  13  14  15\n",
       "4  16  17  18  19"
      ]
     },
     "execution_count": 16,
     "metadata": {},
     "output_type": "execute_result"
    }
   ],
   "source": [
    "df = pd.DataFrame(np.arange(20).reshape((5,4)), columns=['a', 'b', 'c', 'd'])\n",
    "df"
   ]
  },
  {
   "cell_type": "code",
   "execution_count": 17,
   "metadata": {
    "ExecuteTime": {
     "end_time": "2019-11-12T12:59:01.352526Z",
     "start_time": "2019-11-12T12:59:01.333120Z"
    },
    "colab": {},
    "colab_type": "code",
    "id": "Ec0g1U7t4AFf"
   },
   "outputs": [
    {
     "data": {
      "text/html": [
       "<div>\n",
       "<style scoped>\n",
       "    .dataframe tbody tr th:only-of-type {\n",
       "        vertical-align: middle;\n",
       "    }\n",
       "\n",
       "    .dataframe tbody tr th {\n",
       "        vertical-align: top;\n",
       "    }\n",
       "\n",
       "    .dataframe thead th {\n",
       "        text-align: right;\n",
       "    }\n",
       "</style>\n",
       "<table border=\"1\" class=\"dataframe\">\n",
       "  <thead>\n",
       "    <tr style=\"text-align: right;\">\n",
       "      <th></th>\n",
       "      <th>a</th>\n",
       "      <th>b</th>\n",
       "      <th>c</th>\n",
       "      <th>d</th>\n",
       "    </tr>\n",
       "  </thead>\n",
       "  <tbody>\n",
       "    <tr>\n",
       "      <th>z</th>\n",
       "      <td>0</td>\n",
       "      <td>1</td>\n",
       "      <td>2</td>\n",
       "      <td>3</td>\n",
       "    </tr>\n",
       "    <tr>\n",
       "      <th>s</th>\n",
       "      <td>4</td>\n",
       "      <td>5</td>\n",
       "      <td>6</td>\n",
       "      <td>7</td>\n",
       "    </tr>\n",
       "    <tr>\n",
       "      <th>l</th>\n",
       "      <td>8</td>\n",
       "      <td>9</td>\n",
       "      <td>10</td>\n",
       "      <td>11</td>\n",
       "    </tr>\n",
       "    <tr>\n",
       "      <th>b</th>\n",
       "      <td>12</td>\n",
       "      <td>13</td>\n",
       "      <td>14</td>\n",
       "      <td>15</td>\n",
       "    </tr>\n",
       "    <tr>\n",
       "      <th>j</th>\n",
       "      <td>16</td>\n",
       "      <td>17</td>\n",
       "      <td>18</td>\n",
       "      <td>19</td>\n",
       "    </tr>\n",
       "  </tbody>\n",
       "</table>\n",
       "</div>"
      ],
      "text/plain": [
       "    a   b   c   d\n",
       "z   0   1   2   3\n",
       "s   4   5   6   7\n",
       "l   8   9  10  11\n",
       "b  12  13  14  15\n",
       "j  16  17  18  19"
      ]
     },
     "execution_count": 17,
     "metadata": {},
     "output_type": "execute_result"
    }
   ],
   "source": [
    "import string\n",
    "df = pd.DataFrame(np.arange(20).reshape((5,4)),\n",
    "                  columns=['a', 'b', 'c', 'd'],\n",
    "                  index=np.random.choice(list(string.ascii_lowercase), 5, replace=False))\n",
    "df"
   ]
  },
  {
   "cell_type": "code",
   "execution_count": 18,
   "metadata": {
    "ExecuteTime": {
     "end_time": "2019-11-12T12:59:02.217326Z",
     "start_time": "2019-11-12T12:59:02.212197Z"
    },
    "colab": {},
    "colab_type": "code",
    "id": "xHw0741j4AFh"
   },
   "outputs": [
    {
     "data": {
      "text/plain": [
       "Index(['a', 'b', 'c', 'd'], dtype='object')"
      ]
     },
     "execution_count": 18,
     "metadata": {},
     "output_type": "execute_result"
    }
   ],
   "source": [
    "df.columns"
   ]
  },
  {
   "cell_type": "code",
   "execution_count": 0,
   "metadata": {
    "ExecuteTime": {
     "end_time": "2019-11-12T12:59:02.510255Z",
     "start_time": "2019-11-12T12:59:02.503562Z"
    },
    "colab": {},
    "colab_type": "code",
    "id": "rsfxmUO-4AFj"
   },
   "outputs": [],
   "source": [
    "df.index"
   ]
  },
  {
   "cell_type": "code",
   "execution_count": 0,
   "metadata": {
    "ExecuteTime": {
     "end_time": "2019-11-12T12:59:08.892017Z",
     "start_time": "2019-11-12T12:59:08.876407Z"
    },
    "colab": {},
    "colab_type": "code",
    "id": "KT8fc6XY4AFn"
   },
   "outputs": [],
   "source": [
    "df[['a']]"
   ]
  },
  {
   "cell_type": "code",
   "execution_count": 0,
   "metadata": {
    "ExecuteTime": {
     "end_time": "2019-11-12T12:59:10.927650Z",
     "start_time": "2019-11-12T12:59:10.919832Z"
    },
    "colab": {},
    "colab_type": "code",
    "id": "wDru4aC64AFr"
   },
   "outputs": [],
   "source": [
    "type(df['a'])"
   ]
  },
  {
   "cell_type": "code",
   "execution_count": 0,
   "metadata": {
    "ExecuteTime": {
     "end_time": "2019-11-12T13:00:07.911493Z",
     "start_time": "2019-11-12T13:00:07.901940Z"
    },
    "colab": {},
    "colab_type": "code",
    "id": "r8FbOKEO4AFt"
   },
   "outputs": [],
   "source": [
    "# Indexing with right and wrong order\n",
    "df['f':'g']\n",
    "df['p':'g']"
   ]
  },
  {
   "cell_type": "code",
   "execution_count": 0,
   "metadata": {
    "ExecuteTime": {
     "end_time": "2019-11-12T13:00:10.761959Z",
     "start_time": "2019-11-12T13:00:10.750211Z"
    },
    "colab": {},
    "colab_type": "code",
    "id": "dMvP7qac4AFv"
   },
   "outputs": [],
   "source": [
    "s.to_frame()"
   ]
  },
  {
   "cell_type": "markdown",
   "metadata": {
    "colab_type": "text",
    "id": "i30k47774AFx"
   },
   "source": [
    "# Indexing `pd.Series`"
   ]
  },
  {
   "cell_type": "code",
   "execution_count": 0,
   "metadata": {
    "ExecuteTime": {
     "end_time": "2019-11-12T13:00:15.645725Z",
     "start_time": "2019-11-12T13:00:15.636423Z"
    },
    "colab": {},
    "colab_type": "code",
    "id": "-B3Woh8l4AFy"
   },
   "outputs": [],
   "source": [
    "N_ELEMS = 20\n",
    "s = pd.Series(np.random.randint(20, size=(N_ELEMS,)),\n",
    "              index=list(string.ascii_lowercase)[:N_ELEMS],\n",
    "              name='randint_series')\n",
    "s"
   ]
  },
  {
   "cell_type": "markdown",
   "metadata": {
    "colab_type": "text",
    "id": "ald_VlhZ4AF0"
   },
   "source": [
    "## Indexing with `[]`"
   ]
  },
  {
   "cell_type": "code",
   "execution_count": 0,
   "metadata": {
    "ExecuteTime": {
     "end_time": "2019-11-12T13:00:20.826039Z",
     "start_time": "2019-11-12T13:00:20.820100Z"
    },
    "colab": {},
    "colab_type": "code",
    "id": "UP7TCJCn4AF0"
   },
   "outputs": [],
   "source": [
    "s['i'] # But there's a caveat: it may series or just an element"
   ]
  },
  {
   "cell_type": "code",
   "execution_count": 0,
   "metadata": {
    "ExecuteTime": {
     "end_time": "2019-11-12T13:01:19.060796Z",
     "start_time": "2019-11-12T13:01:19.052648Z"
    },
    "colab": {},
    "colab_type": "code",
    "id": "vX-sCB2R4AF2"
   },
   "outputs": [],
   "source": [
    "s[['i']]"
   ]
  },
  {
   "cell_type": "code",
   "execution_count": 0,
   "metadata": {
    "ExecuteTime": {
     "end_time": "2019-11-12T13:00:25.416112Z",
     "start_time": "2019-11-12T13:00:25.408350Z"
    },
    "colab": {},
    "colab_type": "code",
    "id": "_Kxh5WKZ4AF4"
   },
   "outputs": [],
   "source": [
    "s['a':'m']"
   ]
  },
  {
   "cell_type": "code",
   "execution_count": 0,
   "metadata": {
    "ExecuteTime": {
     "end_time": "2019-11-12T13:00:35.588638Z",
     "start_time": "2019-11-12T13:00:35.581669Z"
    },
    "colab": {},
    "colab_type": "code",
    "id": "kern7Ivh4AF5"
   },
   "outputs": [],
   "source": [
    "s[['k', 'q', 'a', 'r']]"
   ]
  },
  {
   "cell_type": "code",
   "execution_count": 0,
   "metadata": {
    "ExecuteTime": {
     "end_time": "2019-11-12T13:00:40.556330Z",
     "start_time": "2019-11-12T13:00:40.548269Z"
    },
    "colab": {},
    "colab_type": "code",
    "id": "Mq9GTZl04AF9"
   },
   "outputs": [],
   "source": [
    "s[5:7]"
   ]
  },
  {
   "cell_type": "markdown",
   "metadata": {
    "colab_type": "text",
    "id": "CG_Lz-Od4AGB"
   },
   "source": [
    "## Indexing with `.loc`"
   ]
  },
  {
   "cell_type": "code",
   "execution_count": 0,
   "metadata": {
    "ExecuteTime": {
     "end_time": "2019-11-12T13:01:30.076831Z",
     "start_time": "2019-11-12T13:01:30.068788Z"
    },
    "colab": {},
    "colab_type": "code",
    "id": "Dq-yIZAD4AGC"
   },
   "outputs": [],
   "source": [
    "s_int_idx = pd.Series(np.random.randint(20, size=(N_ELEMS,)),\n",
    "                      index=np.random.choice(N_ELEMS, N_ELEMS, replace=False),\n",
    "                      name='randint_series')\n",
    "s_int_idx"
   ]
  },
  {
   "cell_type": "code",
   "execution_count": 0,
   "metadata": {
    "ExecuteTime": {
     "end_time": "2019-11-12T13:01:39.523016Z",
     "start_time": "2019-11-12T13:01:39.517893Z"
    },
    "colab": {},
    "colab_type": "code",
    "id": "JtSpsCc_4AGG"
   },
   "outputs": [],
   "source": [
    "s_int_idx[2]"
   ]
  },
  {
   "cell_type": "code",
   "execution_count": 0,
   "metadata": {
    "ExecuteTime": {
     "end_time": "2019-11-12T13:01:39.934774Z",
     "start_time": "2019-11-12T13:01:39.918310Z"
    },
    "colab": {},
    "colab_type": "code",
    "id": "Lzugzp6t4AGI"
   },
   "outputs": [],
   "source": [
    "s_int_idx[2:5]"
   ]
  },
  {
   "cell_type": "code",
   "execution_count": 0,
   "metadata": {
    "ExecuteTime": {
     "end_time": "2019-11-12T13:02:15.802611Z",
     "start_time": "2019-11-12T13:02:15.793868Z"
    },
    "colab": {},
    "colab_type": "code",
    "id": "YJ4S3mXz4AGJ"
   },
   "outputs": [],
   "source": [
    "s_int_idx.loc[2:5]"
   ]
  },
  {
   "cell_type": "code",
   "execution_count": 0,
   "metadata": {
    "ExecuteTime": {
     "end_time": "2019-11-12T13:02:17.957222Z",
     "start_time": "2019-11-12T13:02:17.949141Z"
    },
    "colab": {},
    "colab_type": "code",
    "id": "RVaocvgd4AGL"
   },
   "outputs": [],
   "source": [
    "s_int_idx.iloc[2:5]"
   ]
  },
  {
   "cell_type": "code",
   "execution_count": 0,
   "metadata": {
    "ExecuteTime": {
     "end_time": "2019-11-12T13:02:51.192358Z",
     "start_time": "2019-11-12T13:02:51.149886Z"
    },
    "colab": {},
    "colab_type": "code",
    "id": "O9BKLU2X4AGM"
   },
   "outputs": [],
   "source": [
    "s_int_idx.loc[2:456]"
   ]
  },
  {
   "cell_type": "code",
   "execution_count": 0,
   "metadata": {
    "ExecuteTime": {
     "end_time": "2019-11-12T13:02:57.783223Z",
     "start_time": "2019-11-12T13:02:57.771323Z"
    },
    "colab": {},
    "colab_type": "code",
    "id": "CMZ8Mlla4AGO"
   },
   "outputs": [],
   "source": [
    "s_int_idx.sort_index().loc[2:653]"
   ]
  },
  {
   "cell_type": "code",
   "execution_count": 0,
   "metadata": {
    "ExecuteTime": {
     "end_time": "2019-11-12T13:03:03.835160Z",
     "start_time": "2019-11-12T13:03:03.826261Z"
    },
    "colab": {},
    "colab_type": "code",
    "id": "ivuXlloK4AGQ"
   },
   "outputs": [],
   "source": [
    "s_int_idx[(s_int_idx>7) | (s_int_idx<5)]"
   ]
  },
  {
   "cell_type": "code",
   "execution_count": 0,
   "metadata": {
    "ExecuteTime": {
     "end_time": "2019-11-12T13:03:06.959871Z",
     "start_time": "2019-11-12T13:03:06.951219Z"
    },
    "colab": {},
    "colab_type": "code",
    "id": "T5LOYEjB4AGR"
   },
   "outputs": [],
   "source": [
    "s_int_idx[s_int_idx!=14]"
   ]
  },
  {
   "cell_type": "code",
   "execution_count": 0,
   "metadata": {
    "ExecuteTime": {
     "end_time": "2019-11-12T13:03:15.275497Z",
     "start_time": "2019-11-12T13:03:15.269243Z"
    },
    "colab": {},
    "colab_type": "code",
    "id": "SB61Mfr_4AGT"
   },
   "outputs": [],
   "source": [
    "s_int_idx[s_int_idx.index!=11]"
   ]
  },
  {
   "cell_type": "markdown",
   "metadata": {
    "colab_type": "text",
    "id": "5i_x1IQA4AGV"
   },
   "source": [
    "## Indexing with `.iloc`"
   ]
  },
  {
   "cell_type": "code",
   "execution_count": 0,
   "metadata": {
    "ExecuteTime": {
     "end_time": "2019-11-12T13:03:16.607061Z",
     "start_time": "2019-11-12T13:03:16.597138Z"
    },
    "colab": {},
    "colab_type": "code",
    "id": "JQkRXP744AGW"
   },
   "outputs": [],
   "source": [
    "s"
   ]
  },
  {
   "cell_type": "code",
   "execution_count": 0,
   "metadata": {
    "ExecuteTime": {
     "end_time": "2019-11-12T13:03:22.086403Z",
     "start_time": "2019-11-12T13:03:22.078763Z"
    },
    "colab": {},
    "colab_type": "code",
    "id": "QfE_hRDh4AGX"
   },
   "outputs": [],
   "source": [
    "s.iloc[5:8]"
   ]
  },
  {
   "cell_type": "code",
   "execution_count": 0,
   "metadata": {
    "ExecuteTime": {
     "end_time": "2019-11-12T13:03:24.324159Z",
     "start_time": "2019-11-12T13:03:24.316285Z"
    },
    "colab": {},
    "colab_type": "code",
    "id": "HqLPRnv_4AGa"
   },
   "outputs": [],
   "source": [
    "s.iloc[-5:2358]"
   ]
  },
  {
   "cell_type": "code",
   "execution_count": 0,
   "metadata": {
    "ExecuteTime": {
     "end_time": "2019-11-12T13:03:32.517534Z",
     "start_time": "2019-11-12T13:03:32.507837Z"
    },
    "colab": {},
    "colab_type": "code",
    "id": "ozPGclkI4AGf"
   },
   "outputs": [],
   "source": [
    "s.iloc[[3, 9, 8]]"
   ]
  },
  {
   "cell_type": "code",
   "execution_count": 0,
   "metadata": {
    "ExecuteTime": {
     "end_time": "2019-11-12T13:03:34.709547Z",
     "start_time": "2019-11-12T13:03:34.677908Z"
    },
    "colab": {},
    "colab_type": "code",
    "id": "4wqbRixb4AGg"
   },
   "outputs": [],
   "source": [
    "s.iloc[[3, 9, 336]]"
   ]
  },
  {
   "cell_type": "markdown",
   "metadata": {
    "colab_type": "text",
    "id": "JZnHWJgt4AGi"
   },
   "source": [
    "# Indexing `pd.DataFrame`"
   ]
  },
  {
   "cell_type": "code",
   "execution_count": 0,
   "metadata": {
    "ExecuteTime": {
     "end_time": "2019-11-12T13:03:51.028028Z",
     "start_time": "2019-11-12T13:03:51.000474Z"
    },
    "colab": {},
    "colab_type": "code",
    "id": "yRZ0GxHb4AGk"
   },
   "outputs": [],
   "source": [
    "df = pd.DataFrame(np.arange(20).reshape((5,4)),\n",
    "                  columns=['d', 'c', 'b', 'a'],\n",
    "                  index=np.random.choice(list(string.ascii_lowercase), 5, replace=False))\n",
    "df"
   ]
  },
  {
   "cell_type": "code",
   "execution_count": 0,
   "metadata": {
    "ExecuteTime": {
     "end_time": "2019-11-12T13:03:53.402170Z",
     "start_time": "2019-11-12T13:03:53.392509Z"
    },
    "colab": {},
    "colab_type": "code",
    "id": "LKKXTnab4AGl"
   },
   "outputs": [],
   "source": [
    "df[2:5]"
   ]
  },
  {
   "cell_type": "code",
   "execution_count": 0,
   "metadata": {
    "ExecuteTime": {
     "end_time": "2019-11-12T13:04:06.157858Z",
     "start_time": "2019-11-12T13:04:06.101993Z"
    },
    "colab": {},
    "colab_type": "code",
    "id": "_nKdf2H44AGo"
   },
   "outputs": [],
   "source": [
    "df['k'] # Nope, it doesn't work that way"
   ]
  },
  {
   "cell_type": "code",
   "execution_count": 0,
   "metadata": {
    "ExecuteTime": {
     "end_time": "2019-11-12T13:04:13.611807Z",
     "start_time": "2019-11-12T13:04:13.603710Z"
    },
    "colab": {},
    "colab_type": "code",
    "id": "UY50EIyD4AGp"
   },
   "outputs": [],
   "source": [
    "df['a']"
   ]
  },
  {
   "cell_type": "code",
   "execution_count": 0,
   "metadata": {
    "ExecuteTime": {
     "end_time": "2019-11-12T13:04:21.349534Z",
     "start_time": "2019-11-12T13:04:21.339517Z"
    },
    "colab": {},
    "colab_type": "code",
    "id": "db-u9wlB4AGr"
   },
   "outputs": [],
   "source": [
    "df[['b']]"
   ]
  },
  {
   "cell_type": "code",
   "execution_count": 0,
   "metadata": {
    "ExecuteTime": {
     "end_time": "2019-11-12T13:04:23.552784Z",
     "start_time": "2019-11-12T13:04:23.542558Z"
    },
    "colab": {},
    "colab_type": "code",
    "id": "jliKe7pk4AGu"
   },
   "outputs": [],
   "source": [
    "df[df.columns[2:]]"
   ]
  },
  {
   "cell_type": "code",
   "execution_count": 0,
   "metadata": {
    "ExecuteTime": {
     "end_time": "2019-11-12T13:04:27.797831Z",
     "start_time": "2019-11-12T13:04:27.788389Z"
    },
    "colab": {},
    "colab_type": "code",
    "id": "MFNtgl8u4AGv"
   },
   "outputs": [],
   "source": [
    "df.iloc[:, 2:]"
   ]
  },
  {
   "cell_type": "code",
   "execution_count": 0,
   "metadata": {
    "ExecuteTime": {
     "end_time": "2019-11-12T13:04:28.573241Z",
     "start_time": "2019-11-12T13:04:28.564350Z"
    },
    "colab": {},
    "colab_type": "code",
    "id": "xPIpDaMK4AGx"
   },
   "outputs": [],
   "source": [
    "df"
   ]
  },
  {
   "cell_type": "code",
   "execution_count": 0,
   "metadata": {
    "ExecuteTime": {
     "end_time": "2019-11-12T13:06:47.559583Z",
     "start_time": "2019-11-12T13:06:47.488624Z"
    },
    "colab": {},
    "colab_type": "code",
    "id": "VH3jhprY4AG0"
   },
   "outputs": [],
   "source": [
    "df['i':'z'] # Surprising!"
   ]
  },
  {
   "cell_type": "code",
   "execution_count": 0,
   "metadata": {
    "colab": {},
    "colab_type": "code",
    "id": "DQ0DTm8D4AG1"
   },
   "outputs": [],
   "source": [
    "df['m':'u'] # Not really surprising"
   ]
  },
  {
   "cell_type": "code",
   "execution_count": 0,
   "metadata": {
    "ExecuteTime": {
     "end_time": "2019-11-12T13:06:34.517268Z",
     "start_time": "2019-11-12T13:06:34.506542Z"
    },
    "colab": {},
    "colab_type": "code",
    "id": "misevk2v4AG2"
   },
   "outputs": [],
   "source": [
    "df.sort_index()['o':'z']"
   ]
  },
  {
   "cell_type": "code",
   "execution_count": 0,
   "metadata": {
    "ExecuteTime": {
     "end_time": "2019-11-12T13:07:12.911317Z",
     "start_time": "2019-11-12T13:07:12.899069Z"
    },
    "colab": {},
    "colab_type": "code",
    "id": "CQJaQJ774AG3"
   },
   "outputs": [],
   "source": [
    "df['i':]"
   ]
  },
  {
   "cell_type": "code",
   "execution_count": 0,
   "metadata": {
    "ExecuteTime": {
     "end_time": "2019-11-12T13:07:18.004490Z",
     "start_time": "2019-11-12T13:07:17.993893Z"
    },
    "colab": {},
    "colab_type": "code",
    "id": "kf8mB9K64AG4"
   },
   "outputs": [],
   "source": [
    "df.sort_index()['i':]"
   ]
  },
  {
   "cell_type": "code",
   "execution_count": 0,
   "metadata": {
    "ExecuteTime": {
     "end_time": "2019-11-12T13:07:32.243540Z",
     "start_time": "2019-11-12T13:07:32.203140Z"
    },
    "colab": {},
    "colab_type": "code",
    "id": "AXEzKNlC4AG5"
   },
   "outputs": [],
   "source": [
    "df['i':'z'] # No, that won't work"
   ]
  },
  {
   "cell_type": "code",
   "execution_count": 0,
   "metadata": {
    "ExecuteTime": {
     "end_time": "2019-11-12T13:07:32.372497Z",
     "start_time": "2019-11-12T13:07:32.360721Z"
    },
    "colab": {},
    "colab_type": "code",
    "id": "Dk4N3auu4AG9"
   },
   "outputs": [],
   "source": [
    "df.sort_index()['i':'z']"
   ]
  },
  {
   "cell_type": "code",
   "execution_count": 0,
   "metadata": {
    "ExecuteTime": {
     "end_time": "2019-11-12T13:07:38.200036Z",
     "start_time": "2019-11-12T13:07:38.187065Z"
    },
    "colab": {},
    "colab_type": "code",
    "id": "shguiE9u4AG_"
   },
   "outputs": [],
   "source": [
    "df.index.to_series().rank()"
   ]
  },
  {
   "cell_type": "code",
   "execution_count": 0,
   "metadata": {
    "ExecuteTime": {
     "end_time": "2019-11-12T13:07:44.651109Z",
     "start_time": "2019-11-12T13:07:44.641682Z"
    },
    "colab": {},
    "colab_type": "code",
    "id": "4DHlcKlb4AHA"
   },
   "outputs": [],
   "source": [
    "df"
   ]
  },
  {
   "cell_type": "code",
   "execution_count": 0,
   "metadata": {
    "ExecuteTime": {
     "end_time": "2019-11-12T13:07:57.839471Z",
     "start_time": "2019-11-12T13:07:57.831355Z"
    },
    "colab": {},
    "colab_type": "code",
    "id": "U6LM5jJJ4AHB"
   },
   "outputs": [],
   "source": [
    "df['i':'t']['c'] # Not a very good idea"
   ]
  },
  {
   "cell_type": "code",
   "execution_count": 0,
   "metadata": {
    "ExecuteTime": {
     "end_time": "2019-11-12T13:08:02.440423Z",
     "start_time": "2019-11-12T13:08:02.421283Z"
    },
    "colab": {},
    "colab_type": "code",
    "id": "pL2pQwCW4AHC"
   },
   "outputs": [],
   "source": [
    "df[(df['a']>12) | (df['b']<3)]"
   ]
  },
  {
   "cell_type": "markdown",
   "metadata": {
    "colab_type": "text",
    "id": "ImUnEK9R4AHD"
   },
   "source": [
    "## Indexing with `.loc`"
   ]
  },
  {
   "cell_type": "code",
   "execution_count": 0,
   "metadata": {
    "ExecuteTime": {
     "end_time": "2019-11-12T13:08:12.801255Z",
     "start_time": "2019-11-12T13:08:12.791457Z"
    },
    "colab": {},
    "colab_type": "code",
    "id": "rg2drG0w4AHD"
   },
   "outputs": [],
   "source": [
    "df"
   ]
  },
  {
   "cell_type": "code",
   "execution_count": 0,
   "metadata": {
    "ExecuteTime": {
     "end_time": "2019-11-12T13:08:19.663293Z",
     "start_time": "2019-11-12T13:08:19.652814Z"
    },
    "colab": {},
    "colab_type": "code",
    "id": "XYKtXuh34AHE"
   },
   "outputs": [],
   "source": [
    "df.loc['o']"
   ]
  },
  {
   "cell_type": "code",
   "execution_count": 0,
   "metadata": {
    "ExecuteTime": {
     "end_time": "2019-11-12T13:08:32.248050Z",
     "start_time": "2019-11-12T13:08:32.240375Z"
    },
    "colab": {},
    "colab_type": "code",
    "id": "qbcl5_2f4AHF"
   },
   "outputs": [],
   "source": [
    "df.loc['i', 'b']"
   ]
  },
  {
   "cell_type": "code",
   "execution_count": 0,
   "metadata": {
    "ExecuteTime": {
     "end_time": "2019-11-12T13:08:37.213870Z",
     "start_time": "2019-11-12T13:08:37.204516Z"
    },
    "colab": {},
    "colab_type": "code",
    "id": "CQ3STwNl4AHG"
   },
   "outputs": [],
   "source": [
    "df.loc['i':, 'b']"
   ]
  },
  {
   "cell_type": "code",
   "execution_count": 0,
   "metadata": {
    "ExecuteTime": {
     "end_time": "2019-11-12T13:08:43.247799Z",
     "start_time": "2019-11-12T13:08:43.237538Z"
    },
    "colab": {},
    "colab_type": "code",
    "id": "DMTwyIQ_4AHH"
   },
   "outputs": [],
   "source": [
    "df.loc['i':, 'b':]"
   ]
  },
  {
   "cell_type": "code",
   "execution_count": 0,
   "metadata": {
    "ExecuteTime": {
     "end_time": "2019-11-12T13:08:45.469455Z",
     "start_time": "2019-11-12T13:08:45.453809Z"
    },
    "colab": {},
    "colab_type": "code",
    "id": "Fd84F0wt4AHI"
   },
   "outputs": [],
   "source": [
    "df"
   ]
  },
  {
   "cell_type": "code",
   "execution_count": 0,
   "metadata": {
    "ExecuteTime": {
     "end_time": "2019-11-12T13:08:51.551396Z",
     "start_time": "2019-11-12T13:08:51.541060Z"
    },
    "colab": {},
    "colab_type": "code",
    "id": "rstvEM_44AHK"
   },
   "outputs": [],
   "source": [
    "df.loc['i':, 'c':'d']"
   ]
  },
  {
   "cell_type": "code",
   "execution_count": 0,
   "metadata": {
    "ExecuteTime": {
     "end_time": "2019-11-12T13:09:04.278730Z",
     "start_time": "2019-11-12T13:09:04.262543Z"
    },
    "colab": {},
    "colab_type": "code",
    "id": "WO5bHTpA4AHM"
   },
   "outputs": [],
   "source": [
    "df.loc['i':, 'c'::-1]"
   ]
  },
  {
   "cell_type": "code",
   "execution_count": 0,
   "metadata": {
    "ExecuteTime": {
     "end_time": "2019-11-12T13:09:12.128497Z",
     "start_time": "2019-11-12T13:09:12.115529Z"
    },
    "colab": {},
    "colab_type": "code",
    "id": "afTgFnRQ4AHN"
   },
   "outputs": [],
   "source": [
    "df.sort_index(axis='columns').loc['i':, 'c':'d']"
   ]
  },
  {
   "cell_type": "code",
   "execution_count": 0,
   "metadata": {
    "ExecuteTime": {
     "end_time": "2019-11-12T13:09:17.686203Z",
     "start_time": "2019-11-12T13:09:17.671134Z"
    },
    "colab": {},
    "colab_type": "code",
    "id": "c1EXWGgZ4AHP"
   },
   "outputs": [],
   "source": [
    "df = pd.DataFrame(np.arange(20).reshape((5,4)),\n",
    "                  columns=['d', 'c', 'a', 'b'],\n",
    "                  index=np.random.choice(list(string.ascii_lowercase), 5, replace=False))\n",
    "df"
   ]
  },
  {
   "cell_type": "code",
   "execution_count": 0,
   "metadata": {
    "ExecuteTime": {
     "end_time": "2019-11-12T13:09:19.197904Z",
     "start_time": "2019-11-12T13:09:19.186831Z"
    },
    "colab": {},
    "colab_type": "code",
    "id": "zddWjpJq4AHR"
   },
   "outputs": [],
   "source": [
    "df"
   ]
  },
  {
   "cell_type": "code",
   "execution_count": 0,
   "metadata": {
    "ExecuteTime": {
     "end_time": "2019-11-12T13:09:31.519678Z",
     "start_time": "2019-11-12T13:09:31.467525Z"
    },
    "colab": {},
    "colab_type": "code",
    "id": "qVtwwJgd4AHS"
   },
   "outputs": [],
   "source": [
    "df.loc['f':, 'a':'rewkjh':-1]"
   ]
  },
  {
   "cell_type": "code",
   "execution_count": 0,
   "metadata": {
    "ExecuteTime": {
     "end_time": "2019-11-12T13:09:46.383162Z",
     "start_time": "2019-11-12T13:09:46.376505Z"
    },
    "colab": {},
    "colab_type": "code",
    "id": "2OA-xW6c4AHT"
   },
   "outputs": [],
   "source": [
    "df.columns.to_series().rank()"
   ]
  },
  {
   "cell_type": "code",
   "execution_count": 0,
   "metadata": {
    "ExecuteTime": {
     "end_time": "2019-11-12T13:09:59.225333Z",
     "start_time": "2019-11-12T13:09:59.210607Z"
    },
    "colab": {},
    "colab_type": "code",
    "id": "UGCXvg_g4AHU"
   },
   "outputs": [],
   "source": [
    "df.sort_index(axis='columns').loc['f':, 'c':'sflng']"
   ]
  },
  {
   "cell_type": "code",
   "execution_count": 0,
   "metadata": {
    "ExecuteTime": {
     "end_time": "2019-11-12T13:10:04.599899Z",
     "start_time": "2019-11-12T13:10:04.589347Z"
    },
    "colab": {},
    "colab_type": "code",
    "id": "IBxiUmWW4AHV"
   },
   "outputs": [],
   "source": [
    "df.sort_index(axis='columns').columns.to_series().rank()"
   ]
  },
  {
   "cell_type": "code",
   "execution_count": 0,
   "metadata": {
    "ExecuteTime": {
     "end_time": "2019-11-12T13:10:07.934516Z",
     "start_time": "2019-11-12T13:10:07.925360Z"
    },
    "colab": {},
    "colab_type": "code",
    "id": "IQKMbkCM4AHX"
   },
   "outputs": [],
   "source": [
    "df.loc[df['c']>10, 'c']"
   ]
  },
  {
   "cell_type": "code",
   "execution_count": 0,
   "metadata": {
    "ExecuteTime": {
     "end_time": "2019-11-12T13:10:12.095978Z",
     "start_time": "2019-11-12T13:10:12.071679Z"
    },
    "colab": {},
    "colab_type": "code",
    "id": "18dM5aTz4AHY"
   },
   "outputs": [],
   "source": [
    "df.loc[[1,2], 'c'] # This won't work"
   ]
  },
  {
   "cell_type": "markdown",
   "metadata": {
    "colab_type": "text",
    "id": "V7IJjNxm4AHa"
   },
   "source": [
    "## Indexing with `.iloc`"
   ]
  },
  {
   "cell_type": "code",
   "execution_count": 0,
   "metadata": {
    "ExecuteTime": {
     "end_time": "2019-11-12T13:10:17.544657Z",
     "start_time": "2019-11-12T13:10:17.534538Z"
    },
    "colab": {},
    "colab_type": "code",
    "id": "LaS69T-U4AHa"
   },
   "outputs": [],
   "source": [
    "df.iloc[:3]"
   ]
  },
  {
   "cell_type": "code",
   "execution_count": 0,
   "metadata": {
    "ExecuteTime": {
     "end_time": "2019-11-12T13:10:19.065696Z",
     "start_time": "2019-11-12T13:10:19.051625Z"
    },
    "colab": {},
    "colab_type": "code",
    "id": "LnLlS_DX4AHb"
   },
   "outputs": [],
   "source": [
    "df.iloc[1:3]"
   ]
  },
  {
   "cell_type": "code",
   "execution_count": 0,
   "metadata": {
    "ExecuteTime": {
     "end_time": "2019-11-12T13:10:20.287097Z",
     "start_time": "2019-11-12T13:10:20.260306Z"
    },
    "colab": {},
    "colab_type": "code",
    "id": "GGxj0R6b4AHc"
   },
   "outputs": [],
   "source": [
    "df.iloc[1:3, 'b'] # This won't work"
   ]
  },
  {
   "cell_type": "code",
   "execution_count": 0,
   "metadata": {
    "ExecuteTime": {
     "end_time": "2019-11-12T13:10:26.079845Z",
     "start_time": "2019-11-12T13:10:26.070102Z"
    },
    "colab": {},
    "colab_type": "code",
    "id": "mIOleLbC4AHf"
   },
   "outputs": [],
   "source": [
    "df.iloc[1:3, 2:]"
   ]
  },
  {
   "cell_type": "code",
   "execution_count": 0,
   "metadata": {
    "ExecuteTime": {
     "end_time": "2019-11-12T13:10:26.932998Z",
     "start_time": "2019-11-12T13:10:26.918107Z"
    },
    "colab": {},
    "colab_type": "code",
    "id": "FUHmvgWB4AHg"
   },
   "outputs": [],
   "source": [
    "df"
   ]
  },
  {
   "cell_type": "code",
   "execution_count": 0,
   "metadata": {
    "ExecuteTime": {
     "end_time": "2019-11-12T13:10:28.563910Z",
     "start_time": "2019-11-12T13:10:28.556259Z"
    },
    "colab": {},
    "colab_type": "code",
    "id": "7zDMdV724AHh"
   },
   "outputs": [],
   "source": [
    "(df['a']>10).values"
   ]
  },
  {
   "cell_type": "code",
   "execution_count": 0,
   "metadata": {
    "ExecuteTime": {
     "end_time": "2019-11-12T13:10:32.763552Z",
     "start_time": "2019-11-12T13:10:32.753379Z"
    },
    "colab": {},
    "colab_type": "code",
    "id": "5-v18S8x4AHi"
   },
   "outputs": [],
   "source": [
    "df.iloc[(df['a']>10).values, 2:]"
   ]
  },
  {
   "cell_type": "markdown",
   "metadata": {
    "colab_type": "text",
    "id": "VCwDs1W04AHj"
   },
   "source": [
    "## `SettingWithCopyWarning`"
   ]
  },
  {
   "cell_type": "code",
   "execution_count": 0,
   "metadata": {
    "ExecuteTime": {
     "end_time": "2019-11-12T13:10:36.061804Z",
     "start_time": "2019-11-12T13:10:36.048436Z"
    },
    "colab": {},
    "colab_type": "code",
    "id": "cH8ERYJQ4AHk"
   },
   "outputs": [],
   "source": [
    "df"
   ]
  },
  {
   "cell_type": "code",
   "execution_count": 0,
   "metadata": {
    "ExecuteTime": {
     "end_time": "2019-11-12T13:10:38.879616Z",
     "start_time": "2019-11-12T13:10:38.872106Z"
    },
    "colab": {},
    "colab_type": "code",
    "id": "LXLYkMbZ4AHm"
   },
   "outputs": [],
   "source": [
    "df.loc[df['a']>10, 'c'] = 10"
   ]
  },
  {
   "cell_type": "code",
   "execution_count": 0,
   "metadata": {
    "ExecuteTime": {
     "end_time": "2019-11-12T13:10:42.101782Z",
     "start_time": "2019-11-12T13:10:42.052752Z"
    },
    "colab": {},
    "colab_type": "code",
    "id": "nvANi5z-4AHo"
   },
   "outputs": [],
   "source": [
    "df.loc[df['a']>10]['c'] = 10"
   ]
  },
  {
   "cell_type": "code",
   "execution_count": 0,
   "metadata": {
    "ExecuteTime": {
     "end_time": "2019-11-12T13:10:46.298923Z",
     "start_time": "2019-11-12T13:10:46.289685Z"
    },
    "colab": {},
    "colab_type": "code",
    "id": "HfrbbQzR4AHp"
   },
   "outputs": [],
   "source": [
    "df"
   ]
  },
  {
   "cell_type": "code",
   "execution_count": 0,
   "metadata": {
    "ExecuteTime": {
     "end_time": "2019-11-12T13:11:10.606871Z",
     "start_time": "2019-11-12T13:11:10.599129Z"
    },
    "colab": {},
    "colab_type": "code",
    "id": "ZJgsBi5a4AHq"
   },
   "outputs": [],
   "source": [
    "df_1 = df.loc[df['a']>10]"
   ]
  },
  {
   "cell_type": "code",
   "execution_count": 0,
   "metadata": {
    "ExecuteTime": {
     "end_time": "2019-11-12T13:11:11.071675Z",
     "start_time": "2019-11-12T13:11:11.064084Z"
    },
    "colab": {},
    "colab_type": "code",
    "id": "1vbp1IVD4AHr"
   },
   "outputs": [],
   "source": [
    "df_1.is_copy"
   ]
  },
  {
   "cell_type": "code",
   "execution_count": 0,
   "metadata": {
    "ExecuteTime": {
     "end_time": "2019-11-12T13:11:24.713722Z",
     "start_time": "2019-11-12T13:11:24.665171Z"
    },
    "colab": {},
    "colab_type": "code",
    "id": "MsvwHiXH4AHs"
   },
   "outputs": [],
   "source": [
    "df_1['c'] = 25"
   ]
  },
  {
   "cell_type": "code",
   "execution_count": 0,
   "metadata": {
    "ExecuteTime": {
     "end_time": "2019-11-12T13:11:53.828093Z",
     "start_time": "2019-11-12T13:11:53.818438Z"
    },
    "colab": {},
    "colab_type": "code",
    "id": "KtGaIHJf4AHt"
   },
   "outputs": [],
   "source": [
    "df"
   ]
  },
  {
   "cell_type": "markdown",
   "metadata": {
    "colab_type": "text",
    "id": "Rc-S8ISN4AHu"
   },
   "source": [
    "# Dataframe arithmetic"
   ]
  },
  {
   "cell_type": "code",
   "execution_count": 0,
   "metadata": {
    "ExecuteTime": {
     "end_time": "2019-11-12T13:12:02.087208Z",
     "start_time": "2019-11-12T13:12:02.070086Z"
    },
    "colab": {},
    "colab_type": "code",
    "id": "oFptzWJn4AHu"
   },
   "outputs": [],
   "source": [
    "df_1 = pd.DataFrame(np.arange(40).reshape(10,4),\n",
    "                    columns=['a', 'b', 'c', 'd'],\n",
    "                    index=np.random.choice(list(string.ascii_lowercase), 10, replace=False))\n",
    "df_1"
   ]
  },
  {
   "cell_type": "code",
   "execution_count": 0,
   "metadata": {
    "ExecuteTime": {
     "end_time": "2019-11-12T13:12:03.951095Z",
     "start_time": "2019-11-12T13:12:03.932470Z"
    },
    "colab": {},
    "colab_type": "code",
    "id": "OfcKatON4AHv"
   },
   "outputs": [],
   "source": [
    "df_2 = pd.DataFrame(np.arange(40).reshape(10,4),\n",
    "                    columns=['a', 'e', 'c', 'd'],\n",
    "                    index=np.random.choice(list(string.ascii_lowercase), 10, replace=False))\n",
    "df_2"
   ]
  },
  {
   "cell_type": "code",
   "execution_count": 0,
   "metadata": {
    "ExecuteTime": {
     "end_time": "2019-11-12T13:12:05.930131Z",
     "start_time": "2019-11-12T13:12:05.902196Z"
    },
    "colab": {},
    "colab_type": "code",
    "id": "EOpDBMti4AHw"
   },
   "outputs": [],
   "source": [
    "# A lot of missing values\n",
    "df_1 + df_2"
   ]
  },
  {
   "cell_type": "code",
   "execution_count": 0,
   "metadata": {
    "ExecuteTime": {
     "end_time": "2019-11-12T13:12:14.163115Z",
     "start_time": "2019-11-12T13:12:14.142145Z"
    },
    "colab": {},
    "colab_type": "code",
    "id": "XlQzT8-44AHx"
   },
   "outputs": [],
   "source": [
    "df_1.add(df_2, fill_value=0)"
   ]
  },
  {
   "cell_type": "code",
   "execution_count": 0,
   "metadata": {
    "ExecuteTime": {
     "end_time": "2019-11-12T13:12:26.033288Z",
     "start_time": "2019-11-12T13:12:26.026238Z"
    },
    "colab": {},
    "colab_type": "code",
    "id": "Zv1Yt4BX4AHy"
   },
   "outputs": [],
   "source": [
    "s_1 = pd.Series(np.arange(10),\n",
    "                name='f',\n",
    "                index=np.random.choice(list(string.ascii_lowercase), 10, replace=False))"
   ]
  },
  {
   "cell_type": "code",
   "execution_count": 0,
   "metadata": {
    "ExecuteTime": {
     "end_time": "2019-11-12T13:12:26.477401Z",
     "start_time": "2019-11-12T13:12:26.469362Z"
    },
    "colab": {},
    "colab_type": "code",
    "id": "qvpCg89b4AHz"
   },
   "outputs": [],
   "source": [
    "s_1"
   ]
  },
  {
   "cell_type": "code",
   "execution_count": 0,
   "metadata": {
    "ExecuteTime": {
     "end_time": "2019-11-12T13:12:28.096104Z",
     "start_time": "2019-11-12T13:12:28.055869Z"
    },
    "colab": {},
    "colab_type": "code",
    "id": "tjn-m5Vw4AH0"
   },
   "outputs": [],
   "source": [
    "df_1 + s_1"
   ]
  },
  {
   "cell_type": "code",
   "execution_count": 0,
   "metadata": {
    "ExecuteTime": {
     "end_time": "2019-11-12T13:13:15.258005Z",
     "start_time": "2019-11-12T13:13:15.235575Z"
    },
    "colab": {},
    "colab_type": "code",
    "id": "3cb-2xyG4AH0"
   },
   "outputs": [],
   "source": [
    "df_1.add(s_1, axis='index')"
   ]
  },
  {
   "cell_type": "markdown",
   "metadata": {
    "colab_type": "text",
    "id": "atIjSTo94AH1"
   },
   "source": [
    "# Applying functions to dataframes"
   ]
  },
  {
   "cell_type": "code",
   "execution_count": 0,
   "metadata": {
    "ExecuteTime": {
     "end_time": "2019-11-12T13:13:18.625415Z",
     "start_time": "2019-11-12T13:13:18.616492Z"
    },
    "colab": {},
    "colab_type": "code",
    "id": "Sj9x-hQH4AH1"
   },
   "outputs": [],
   "source": [
    "df"
   ]
  },
  {
   "cell_type": "code",
   "execution_count": 0,
   "metadata": {
    "ExecuteTime": {
     "end_time": "2019-11-12T13:13:19.793887Z",
     "start_time": "2019-11-12T13:13:19.776389Z"
    },
    "colab": {},
    "colab_type": "code",
    "id": "IuF4vv6W4AH2"
   },
   "outputs": [],
   "source": [
    "df.apply(lambda x: np.sqrt(x.d), axis=1)"
   ]
  },
  {
   "cell_type": "code",
   "execution_count": 0,
   "metadata": {
    "ExecuteTime": {
     "end_time": "2019-11-12T13:13:21.597839Z",
     "start_time": "2019-11-12T13:13:21.590485Z"
    },
    "colab": {},
    "colab_type": "code",
    "id": "dYlPJfIB4AH3"
   },
   "outputs": [],
   "source": [
    "# Better way\n",
    "np.sqrt(df['d'])"
   ]
  },
  {
   "cell_type": "code",
   "execution_count": 0,
   "metadata": {
    "ExecuteTime": {
     "end_time": "2019-11-12T13:13:24.327100Z",
     "start_time": "2019-11-12T13:13:24.312712Z"
    },
    "colab": {},
    "colab_type": "code",
    "id": "tH0GIr674AH4"
   },
   "outputs": [],
   "source": [
    "df"
   ]
  },
  {
   "cell_type": "code",
   "execution_count": 0,
   "metadata": {
    "ExecuteTime": {
     "end_time": "2019-11-12T13:13:25.554035Z",
     "start_time": "2019-11-12T13:13:25.540908Z"
    },
    "colab": {},
    "colab_type": "code",
    "id": "rVwpGA714AH5"
   },
   "outputs": [],
   "source": [
    "df.apply(lambda x: x[x>4].sum(), axis=1)"
   ]
  },
  {
   "cell_type": "code",
   "execution_count": 0,
   "metadata": {
    "ExecuteTime": {
     "end_time": "2019-11-12T13:13:27.086316Z",
     "start_time": "2019-11-12T13:13:27.079849Z"
    },
    "colab": {},
    "colab_type": "code",
    "id": "8M-IessH4AH7"
   },
   "outputs": [],
   "source": [
    "np.sum(df, axis=1)"
   ]
  },
  {
   "cell_type": "code",
   "execution_count": 0,
   "metadata": {
    "ExecuteTime": {
     "end_time": "2019-11-12T13:13:35.174342Z",
     "start_time": "2019-11-12T13:13:35.156707Z"
    },
    "colab": {},
    "colab_type": "code",
    "id": "Q_6d6Q4-4AH8"
   },
   "outputs": [],
   "source": [
    "df.apply(lambda x: pd.Series({'sum': x.sum(), 'sqrt': np.sqrt(x['d'])}), axis=1)"
   ]
  },
  {
   "cell_type": "code",
   "execution_count": 0,
   "metadata": {
    "ExecuteTime": {
     "end_time": "2019-11-12T13:13:40.231477Z",
     "start_time": "2019-11-12T13:13:40.222009Z"
    },
    "colab": {},
    "colab_type": "code",
    "id": "DD9YzJJF4AH9"
   },
   "outputs": [],
   "source": [
    "?df.applymap"
   ]
  },
  {
   "cell_type": "code",
   "execution_count": 0,
   "metadata": {
    "ExecuteTime": {
     "end_time": "2019-11-12T13:13:47.235969Z",
     "start_time": "2019-11-12T13:13:47.227299Z"
    },
    "colab": {},
    "colab_type": "code",
    "id": "dv8LYcd34AID"
   },
   "outputs": [],
   "source": [
    "df.columns[df.dtypes==np.int64]"
   ]
  },
  {
   "cell_type": "markdown",
   "metadata": {
    "colab_type": "text",
    "id": "38S_ZOar4AIE"
   },
   "source": [
    "# Reading CSV files\n",
    "\n",
    "We will use [Titanic dataset](https://www.kaggle.com/c/titanic/data), which is located in `data` directory."
   ]
  },
  {
   "cell_type": "code",
   "execution_count": 0,
   "metadata": {
    "ExecuteTime": {
     "end_time": "2019-11-12T13:13:52.733492Z",
     "start_time": "2019-11-12T13:13:52.720368Z"
    },
    "colab": {},
    "colab_type": "code",
    "id": "sY9OcR7E4AIF"
   },
   "outputs": [],
   "source": [
    "titanic_train = pd.read_csv('data/train.csv')"
   ]
  },
  {
   "cell_type": "code",
   "execution_count": 0,
   "metadata": {
    "ExecuteTime": {
     "end_time": "2019-11-12T13:13:53.632376Z",
     "start_time": "2019-11-12T13:13:53.612777Z"
    },
    "colab": {},
    "colab_type": "code",
    "id": "0vTrkKqP4AIG"
   },
   "outputs": [],
   "source": [
    "titanic_train.head()"
   ]
  },
  {
   "cell_type": "code",
   "execution_count": 0,
   "metadata": {
    "ExecuteTime": {
     "end_time": "2019-11-12T13:13:54.481923Z",
     "start_time": "2019-11-12T13:13:54.458098Z"
    },
    "colab": {},
    "colab_type": "code",
    "id": "fSU6ol9R4AIH"
   },
   "outputs": [],
   "source": [
    "titanic_train.tail()"
   ]
  },
  {
   "cell_type": "code",
   "execution_count": 0,
   "metadata": {
    "ExecuteTime": {
     "end_time": "2019-11-12T13:13:55.753710Z",
     "start_time": "2019-11-12T13:13:55.737187Z"
    },
    "colab": {},
    "colab_type": "code",
    "id": "-swFnENh4AII"
   },
   "outputs": [],
   "source": [
    "titanic_train.info()"
   ]
  },
  {
   "cell_type": "code",
   "execution_count": 0,
   "metadata": {
    "ExecuteTime": {
     "end_time": "2019-11-12T13:13:56.489412Z",
     "start_time": "2019-11-12T13:13:56.435617Z"
    },
    "colab": {},
    "colab_type": "code",
    "id": "oe7E5FwT4AIJ"
   },
   "outputs": [],
   "source": [
    "titanic_train.describe()"
   ]
  },
  {
   "cell_type": "code",
   "execution_count": 3,
   "metadata": {
    "ExecuteTime": {
     "end_time": "2019-11-12T13:14:01.113788Z",
     "start_time": "2019-11-12T13:14:01.094703Z"
    },
    "colab": {
     "base_uri": "https://localhost:8080/",
     "height": 121
    },
    "colab_type": "code",
    "executionInfo": {
     "elapsed": 27664,
     "status": "ok",
     "timestamp": 1574187406300,
     "user": {
      "displayName": "matan avitan",
      "photoUrl": "https://lh3.googleusercontent.com/a-/AAuE7mAWyJrkwJHAYq8hio9Ee5N7uPwyvJhahCerS9d9_g=s64",
      "userId": "11022944328304351523"
     },
     "user_tz": -120
    },
    "id": "6nEPKT3x4AIJ",
    "outputId": "125814a9-2989-40fb-fb13-d1d8fd83d63d"
   },
   "outputs": [
    {
     "name": "stdout",
     "output_type": "stream",
     "text": [
      "Go to this URL in a browser: https://accounts.google.com/o/oauth2/auth?client_id=947318989803-6bn6qk8qdgf4n4g3pfee6491hc0brc4i.apps.googleusercontent.com&redirect_uri=urn%3aietf%3awg%3aoauth%3a2.0%3aoob&response_type=code&scope=email%20https%3a%2f%2fwww.googleapis.com%2fauth%2fdocs.test%20https%3a%2f%2fwww.googleapis.com%2fauth%2fdrive%20https%3a%2f%2fwww.googleapis.com%2fauth%2fdrive.photos.readonly%20https%3a%2f%2fwww.googleapis.com%2fauth%2fpeopleapi.readonly\n",
      "\n",
      "Enter your authorization code:\n",
      "··········\n",
      "Mounted at /content/drive\n"
     ]
    }
   ],
   "source": [
    "from google.colab import drive\n",
    "drive.mount('/content/drive')\n",
    "\n",
    "titanic_train = pd.read_csv(r\"/content/drive/My Drive/Colab Notebooks/Y-data/Python for DS/Lecture 4/data/train.csv\", index_col=\"PassengerId\")\n",
    "titanic_test = pd.read_csv(r\"/content/drive/My Drive/Colab Notebooks/Y-data/Python for DS/Lecture 4/data/test.csv\", index_col=\"PassengerId\")\n",
    "titanic = pd.concat([titanic_train, titanic_test], sort=False)"
   ]
  },
  {
   "cell_type": "code",
   "execution_count": 19,
   "metadata": {
    "ExecuteTime": {
     "end_time": "2019-11-12T13:14:01.367160Z",
     "start_time": "2019-11-12T13:14:01.353442Z"
    },
    "colab": {},
    "colab_type": "code",
    "id": "GDpDiPJg4AIK"
   },
   "outputs": [
    {
     "ename": "NameError",
     "evalue": "name 'titanic_train' is not defined",
     "output_type": "error",
     "traceback": [
      "\u001b[0;31m---------------------------------------------------------------------------\u001b[0m",
      "\u001b[0;31mNameError\u001b[0m                                 Traceback (most recent call last)",
      "\u001b[0;32m<ipython-input-19-9b52c67017ed>\u001b[0m in \u001b[0;36m<module>\u001b[0;34m\u001b[0m\n\u001b[0;32m----> 1\u001b[0;31m \u001b[0mtitanic\u001b[0m \u001b[0;34m=\u001b[0m \u001b[0mpd\u001b[0m\u001b[0;34m.\u001b[0m\u001b[0mconcat\u001b[0m\u001b[0;34m(\u001b[0m\u001b[0;34m[\u001b[0m\u001b[0mtitanic_train\u001b[0m\u001b[0;34m,\u001b[0m \u001b[0mtitanic_test\u001b[0m\u001b[0;34m]\u001b[0m\u001b[0;34m,\u001b[0m \u001b[0msort\u001b[0m\u001b[0;34m=\u001b[0m\u001b[0;32mFalse\u001b[0m\u001b[0;34m)\u001b[0m\u001b[0;34m\u001b[0m\u001b[0;34m\u001b[0m\u001b[0m\n\u001b[0m",
      "\u001b[0;31mNameError\u001b[0m: name 'titanic_train' is not defined"
     ]
    }
   ],
   "source": [
    "titanic = pd.concat([titanic_train, titanic_test], sort=False)"
   ]
  },
  {
   "cell_type": "code",
   "execution_count": 14,
   "metadata": {
    "ExecuteTime": {
     "end_time": "2019-11-12T13:14:02.075322Z",
     "start_time": "2019-11-12T13:14:02.050662Z"
    },
    "colab": {
     "base_uri": "https://localhost:8080/",
     "height": 225
    },
    "colab_type": "code",
    "executionInfo": {
     "elapsed": 918,
     "status": "ok",
     "timestamp": 1574187537999,
     "user": {
      "displayName": "matan avitan",
      "photoUrl": "https://lh3.googleusercontent.com/a-/AAuE7mAWyJrkwJHAYq8hio9Ee5N7uPwyvJhahCerS9d9_g=s64",
      "userId": "11022944328304351523"
     },
     "user_tz": -120
    },
    "id": "EGJeWcGc4AIL",
    "outputId": "af1bd6c2-6385-4951-978c-5641622a551e"
   },
   "outputs": [
    {
     "data": {
      "text/html": [
       "<div>\n",
       "<style scoped>\n",
       "    .dataframe tbody tr th:only-of-type {\n",
       "        vertical-align: middle;\n",
       "    }\n",
       "\n",
       "    .dataframe tbody tr th {\n",
       "        vertical-align: top;\n",
       "    }\n",
       "\n",
       "    .dataframe thead th {\n",
       "        text-align: right;\n",
       "    }\n",
       "</style>\n",
       "<table border=\"1\" class=\"dataframe\">\n",
       "  <thead>\n",
       "    <tr style=\"text-align: right;\">\n",
       "      <th></th>\n",
       "      <th>Survived</th>\n",
       "      <th>Pclass</th>\n",
       "      <th>Name</th>\n",
       "      <th>Sex</th>\n",
       "      <th>Age</th>\n",
       "      <th>SibSp</th>\n",
       "      <th>Parch</th>\n",
       "      <th>Ticket</th>\n",
       "      <th>Fare</th>\n",
       "      <th>Cabin</th>\n",
       "      <th>Embarked</th>\n",
       "    </tr>\n",
       "    <tr>\n",
       "      <th>PassengerId</th>\n",
       "      <th></th>\n",
       "      <th></th>\n",
       "      <th></th>\n",
       "      <th></th>\n",
       "      <th></th>\n",
       "      <th></th>\n",
       "      <th></th>\n",
       "      <th></th>\n",
       "      <th></th>\n",
       "      <th></th>\n",
       "      <th></th>\n",
       "    </tr>\n",
       "  </thead>\n",
       "  <tbody>\n",
       "    <tr>\n",
       "      <th>1</th>\n",
       "      <td>0.0</td>\n",
       "      <td>3</td>\n",
       "      <td>Braund, Mr. Owen Harris</td>\n",
       "      <td>male</td>\n",
       "      <td>22.0</td>\n",
       "      <td>1</td>\n",
       "      <td>0</td>\n",
       "      <td>A/5 21171</td>\n",
       "      <td>7.2500</td>\n",
       "      <td>NaN</td>\n",
       "      <td>S</td>\n",
       "    </tr>\n",
       "    <tr>\n",
       "      <th>2</th>\n",
       "      <td>1.0</td>\n",
       "      <td>1</td>\n",
       "      <td>Cumings, Mrs. John Bradley (Florence Briggs Th...</td>\n",
       "      <td>female</td>\n",
       "      <td>38.0</td>\n",
       "      <td>1</td>\n",
       "      <td>0</td>\n",
       "      <td>PC 17599</td>\n",
       "      <td>71.2833</td>\n",
       "      <td>C85</td>\n",
       "      <td>C</td>\n",
       "    </tr>\n",
       "    <tr>\n",
       "      <th>3</th>\n",
       "      <td>1.0</td>\n",
       "      <td>3</td>\n",
       "      <td>Heikkinen, Miss. Laina</td>\n",
       "      <td>female</td>\n",
       "      <td>26.0</td>\n",
       "      <td>0</td>\n",
       "      <td>0</td>\n",
       "      <td>STON/O2. 3101282</td>\n",
       "      <td>7.9250</td>\n",
       "      <td>NaN</td>\n",
       "      <td>S</td>\n",
       "    </tr>\n",
       "    <tr>\n",
       "      <th>4</th>\n",
       "      <td>1.0</td>\n",
       "      <td>1</td>\n",
       "      <td>Futrelle, Mrs. Jacques Heath (Lily May Peel)</td>\n",
       "      <td>female</td>\n",
       "      <td>35.0</td>\n",
       "      <td>1</td>\n",
       "      <td>0</td>\n",
       "      <td>113803</td>\n",
       "      <td>53.1000</td>\n",
       "      <td>C123</td>\n",
       "      <td>S</td>\n",
       "    </tr>\n",
       "    <tr>\n",
       "      <th>5</th>\n",
       "      <td>0.0</td>\n",
       "      <td>3</td>\n",
       "      <td>Allen, Mr. William Henry</td>\n",
       "      <td>male</td>\n",
       "      <td>35.0</td>\n",
       "      <td>0</td>\n",
       "      <td>0</td>\n",
       "      <td>373450</td>\n",
       "      <td>8.0500</td>\n",
       "      <td>NaN</td>\n",
       "      <td>S</td>\n",
       "    </tr>\n",
       "  </tbody>\n",
       "</table>\n",
       "</div>"
      ],
      "text/plain": [
       "             Survived  Pclass  ... Cabin Embarked\n",
       "PassengerId                    ...               \n",
       "1                 0.0       3  ...   NaN        S\n",
       "2                 1.0       1  ...   C85        C\n",
       "3                 1.0       3  ...   NaN        S\n",
       "4                 1.0       1  ...  C123        S\n",
       "5                 0.0       3  ...   NaN        S\n",
       "\n",
       "[5 rows x 11 columns]"
      ]
     },
     "execution_count": 14,
     "metadata": {
      "tags": []
     },
     "output_type": "execute_result"
    }
   ],
   "source": [
    "titanic.head()"
   ]
  },
  {
   "cell_type": "markdown",
   "metadata": {
    "colab_type": "text",
    "id": "YyoyOXY24AIL"
   },
   "source": [
    "# Dataframe statistics"
   ]
  },
  {
   "cell_type": "code",
   "execution_count": 8,
   "metadata": {
    "ExecuteTime": {
     "end_time": "2019-11-12T13:14:03.946454Z",
     "start_time": "2019-11-12T13:14:03.941749Z"
    },
    "colab": {
     "base_uri": "https://localhost:8080/",
     "height": 34
    },
    "colab_type": "code",
    "executionInfo": {
     "elapsed": 1484,
     "status": "ok",
     "timestamp": 1574187412871,
     "user": {
      "displayName": "matan avitan",
      "photoUrl": "https://lh3.googleusercontent.com/a-/AAuE7mAWyJrkwJHAYq8hio9Ee5N7uPwyvJhahCerS9d9_g=s64",
      "userId": "11022944328304351523"
     },
     "user_tz": -120
    },
    "id": "3e3veiag4AIM",
    "outputId": "00cd00bf-2e0b-41b5-d1aa-7eb8fea902c1"
   },
   "outputs": [
    {
     "data": {
      "text/plain": [
       "True"
      ]
     },
     "execution_count": 8,
     "metadata": {
      "tags": []
     },
     "output_type": "execute_result"
    }
   ],
   "source": [
    "titanic.index.is_unique"
   ]
  },
  {
   "cell_type": "code",
   "execution_count": 9,
   "metadata": {
    "ExecuteTime": {
     "end_time": "2019-11-12T13:14:06.641151Z",
     "start_time": "2019-11-12T13:14:06.630060Z"
    },
    "colab": {
     "base_uri": "https://localhost:8080/",
     "height": 84
    },
    "colab_type": "code",
    "executionInfo": {
     "elapsed": 1501,
     "status": "ok",
     "timestamp": 1574187414957,
     "user": {
      "displayName": "matan avitan",
      "photoUrl": "https://lh3.googleusercontent.com/a-/AAuE7mAWyJrkwJHAYq8hio9Ee5N7uPwyvJhahCerS9d9_g=s64",
      "userId": "11022944328304351523"
     },
     "user_tz": -120
    },
    "id": "e_fR8tVs4AIM",
    "outputId": "1a61c13f-0e57-405d-b8de-7fabb0a26886"
   },
   "outputs": [
    {
     "data": {
      "text/plain": [
       "3    709\n",
       "1    323\n",
       "2    277\n",
       "Name: Pclass, dtype: int64"
      ]
     },
     "execution_count": 9,
     "metadata": {
      "tags": []
     },
     "output_type": "execute_result"
    }
   ],
   "source": [
    "titanic['Pclass'].value_counts()"
   ]
  },
  {
   "cell_type": "code",
   "execution_count": 11,
   "metadata": {
    "ExecuteTime": {
     "end_time": "2019-11-12T13:14:09.020339Z",
     "start_time": "2019-11-12T13:14:09.009864Z"
    },
    "colab": {
     "base_uri": "https://localhost:8080/",
     "height": 151
    },
    "colab_type": "code",
    "executionInfo": {
     "elapsed": 853,
     "status": "ok",
     "timestamp": 1574187441201,
     "user": {
      "displayName": "matan avitan",
      "photoUrl": "https://lh3.googleusercontent.com/a-/AAuE7mAWyJrkwJHAYq8hio9Ee5N7uPwyvJhahCerS9d9_g=s64",
      "userId": "11022944328304351523"
     },
     "user_tz": -120
    },
    "id": "S4JMeFDk4AIN",
    "outputId": "e4b096cf-fadb-4616-fe18-1517fec9b599"
   },
   "outputs": [
    {
     "data": {
      "text/plain": [
       "0    891\n",
       "1    319\n",
       "2     42\n",
       "4     22\n",
       "3     20\n",
       "8      9\n",
       "5      6\n",
       "Name: SibSp, dtype: int64"
      ]
     },
     "execution_count": 11,
     "metadata": {
      "tags": []
     },
     "output_type": "execute_result"
    }
   ],
   "source": [
    "titanic.SibSp.value_counts()"
   ]
  },
  {
   "cell_type": "code",
   "execution_count": 18,
   "metadata": {
    "colab": {
     "base_uri": "https://localhost:8080/",
     "height": 254
    },
    "colab_type": "code",
    "executionInfo": {
     "elapsed": 1009,
     "status": "ok",
     "timestamp": 1574187851286,
     "user": {
      "displayName": "matan avitan",
      "photoUrl": "https://lh3.googleusercontent.com/a-/AAuE7mAWyJrkwJHAYq8hio9Ee5N7uPwyvJhahCerS9d9_g=s64",
      "userId": "11022944328304351523"
     },
     "user_tz": -120
    },
    "id": "gF_N_HWC5Nh2",
    "outputId": "ae3fc8ff-0f91-4485-d3e3-3e7c00142209"
   },
   "outputs": [
    {
     "data": {
      "text/html": [
       "<div>\n",
       "<style scoped>\n",
       "    .dataframe tbody tr th:only-of-type {\n",
       "        vertical-align: middle;\n",
       "    }\n",
       "\n",
       "    .dataframe tbody tr th {\n",
       "        vertical-align: top;\n",
       "    }\n",
       "\n",
       "    .dataframe thead th {\n",
       "        text-align: right;\n",
       "    }\n",
       "</style>\n",
       "<table border=\"1\" class=\"dataframe\">\n",
       "  <thead>\n",
       "    <tr style=\"text-align: right;\">\n",
       "      <th></th>\n",
       "      <th>Survived</th>\n",
       "      <th>Pclass</th>\n",
       "      <th>Name</th>\n",
       "      <th>Sex</th>\n",
       "      <th>Age</th>\n",
       "      <th>SibSp</th>\n",
       "      <th>Parch</th>\n",
       "      <th>Ticket</th>\n",
       "      <th>Fare</th>\n",
       "      <th>Cabin</th>\n",
       "      <th>Embarked</th>\n",
       "    </tr>\n",
       "    <tr>\n",
       "      <th>PassengerId</th>\n",
       "      <th></th>\n",
       "      <th></th>\n",
       "      <th></th>\n",
       "      <th></th>\n",
       "      <th></th>\n",
       "      <th></th>\n",
       "      <th></th>\n",
       "      <th></th>\n",
       "      <th></th>\n",
       "      <th></th>\n",
       "      <th></th>\n",
       "    </tr>\n",
       "  </thead>\n",
       "  <tbody>\n",
       "    <tr>\n",
       "      <th>60</th>\n",
       "      <td>0.0</td>\n",
       "      <td>3</td>\n",
       "      <td>Goodwin, Master. William Frederick</td>\n",
       "      <td>male</td>\n",
       "      <td>11.0</td>\n",
       "      <td>5</td>\n",
       "      <td>2</td>\n",
       "      <td>CA 2144</td>\n",
       "      <td>46.9</td>\n",
       "      <td>NaN</td>\n",
       "      <td>S</td>\n",
       "    </tr>\n",
       "    <tr>\n",
       "      <th>72</th>\n",
       "      <td>0.0</td>\n",
       "      <td>3</td>\n",
       "      <td>Goodwin, Miss. Lillian Amy</td>\n",
       "      <td>female</td>\n",
       "      <td>16.0</td>\n",
       "      <td>5</td>\n",
       "      <td>2</td>\n",
       "      <td>CA 2144</td>\n",
       "      <td>46.9</td>\n",
       "      <td>NaN</td>\n",
       "      <td>S</td>\n",
       "    </tr>\n",
       "    <tr>\n",
       "      <th>387</th>\n",
       "      <td>0.0</td>\n",
       "      <td>3</td>\n",
       "      <td>Goodwin, Master. Sidney Leonard</td>\n",
       "      <td>male</td>\n",
       "      <td>1.0</td>\n",
       "      <td>5</td>\n",
       "      <td>2</td>\n",
       "      <td>CA 2144</td>\n",
       "      <td>46.9</td>\n",
       "      <td>NaN</td>\n",
       "      <td>S</td>\n",
       "    </tr>\n",
       "    <tr>\n",
       "      <th>481</th>\n",
       "      <td>0.0</td>\n",
       "      <td>3</td>\n",
       "      <td>Goodwin, Master. Harold Victor</td>\n",
       "      <td>male</td>\n",
       "      <td>9.0</td>\n",
       "      <td>5</td>\n",
       "      <td>2</td>\n",
       "      <td>CA 2144</td>\n",
       "      <td>46.9</td>\n",
       "      <td>NaN</td>\n",
       "      <td>S</td>\n",
       "    </tr>\n",
       "    <tr>\n",
       "      <th>684</th>\n",
       "      <td>0.0</td>\n",
       "      <td>3</td>\n",
       "      <td>Goodwin, Mr. Charles Edward</td>\n",
       "      <td>male</td>\n",
       "      <td>14.0</td>\n",
       "      <td>5</td>\n",
       "      <td>2</td>\n",
       "      <td>CA 2144</td>\n",
       "      <td>46.9</td>\n",
       "      <td>NaN</td>\n",
       "      <td>S</td>\n",
       "    </tr>\n",
       "    <tr>\n",
       "      <th>1032</th>\n",
       "      <td>NaN</td>\n",
       "      <td>3</td>\n",
       "      <td>Goodwin, Miss. Jessie Allis</td>\n",
       "      <td>female</td>\n",
       "      <td>10.0</td>\n",
       "      <td>5</td>\n",
       "      <td>2</td>\n",
       "      <td>CA 2144</td>\n",
       "      <td>46.9</td>\n",
       "      <td>NaN</td>\n",
       "      <td>S</td>\n",
       "    </tr>\n",
       "  </tbody>\n",
       "</table>\n",
       "</div>"
      ],
      "text/plain": [
       "             Survived  Pclass  ... Cabin Embarked\n",
       "PassengerId                    ...               \n",
       "60                0.0       3  ...   NaN        S\n",
       "72                0.0       3  ...   NaN        S\n",
       "387               0.0       3  ...   NaN        S\n",
       "481               0.0       3  ...   NaN        S\n",
       "684               0.0       3  ...   NaN        S\n",
       "1032              NaN       3  ...   NaN        S\n",
       "\n",
       "[6 rows x 11 columns]"
      ]
     },
     "execution_count": 18,
     "metadata": {
      "tags": []
     },
     "output_type": "execute_result"
    }
   ],
   "source": [
    "titanic[titanic.SibSp==5]"
   ]
  },
  {
   "cell_type": "code",
   "execution_count": 19,
   "metadata": {
    "ExecuteTime": {
     "end_time": "2019-11-12T13:14:11.501677Z",
     "start_time": "2019-11-12T13:14:11.494149Z"
    },
    "colab": {
     "base_uri": "https://localhost:8080/",
     "height": 84
    },
    "colab_type": "code",
    "executionInfo": {
     "elapsed": 549,
     "status": "ok",
     "timestamp": 1574187851287,
     "user": {
      "displayName": "matan avitan",
      "photoUrl": "https://lh3.googleusercontent.com/a-/AAuE7mAWyJrkwJHAYq8hio9Ee5N7uPwyvJhahCerS9d9_g=s64",
      "userId": "11022944328304351523"
     },
     "user_tz": -120
    },
    "id": "v8LJKwHj4AIO",
    "outputId": "3316abc7-4264-45a4-c712-b62e2a97ba34"
   },
   "outputs": [
    {
     "data": {
      "text/plain": [
       "S    914\n",
       "C    270\n",
       "Q    123\n",
       "Name: Embarked, dtype: int64"
      ]
     },
     "execution_count": 19,
     "metadata": {
      "tags": []
     },
     "output_type": "execute_result"
    }
   ],
   "source": [
    "titanic.Embarked.value_counts() # S = Southampton, C = Cherboug, Q = Queenstown"
   ]
  },
  {
   "cell_type": "code",
   "execution_count": 20,
   "metadata": {
    "ExecuteTime": {
     "end_time": "2019-11-12T13:14:12.323192Z",
     "start_time": "2019-11-12T13:14:12.315998Z"
    },
    "colab": {
     "base_uri": "https://localhost:8080/",
     "height": 67
    },
    "colab_type": "code",
    "executionInfo": {
     "elapsed": 887,
     "status": "ok",
     "timestamp": 1574187852292,
     "user": {
      "displayName": "matan avitan",
      "photoUrl": "https://lh3.googleusercontent.com/a-/AAuE7mAWyJrkwJHAYq8hio9Ee5N7uPwyvJhahCerS9d9_g=s64",
      "userId": "11022944328304351523"
     },
     "user_tz": -120
    },
    "id": "IL6-36Pd4AIP",
    "outputId": "9354e470-1ac6-487f-aa07-aa7993a0d20d"
   },
   "outputs": [
    {
     "data": {
      "text/plain": [
       "male      843\n",
       "female    466\n",
       "Name: Sex, dtype: int64"
      ]
     },
     "execution_count": 20,
     "metadata": {
      "tags": []
     },
     "output_type": "execute_result"
    }
   ],
   "source": [
    "titanic.Sex.value_counts()"
   ]
  },
  {
   "cell_type": "code",
   "execution_count": 21,
   "metadata": {
    "ExecuteTime": {
     "end_time": "2019-11-12T13:14:13.862198Z",
     "start_time": "2019-11-12T13:14:13.855085Z"
    },
    "colab": {
     "base_uri": "https://localhost:8080/",
     "height": 84
    },
    "colab_type": "code",
    "executionInfo": {
     "elapsed": 882,
     "status": "ok",
     "timestamp": 1574187880163,
     "user": {
      "displayName": "matan avitan",
      "photoUrl": "https://lh3.googleusercontent.com/a-/AAuE7mAWyJrkwJHAYq8hio9Ee5N7uPwyvJhahCerS9d9_g=s64",
      "userId": "11022944328304351523"
     },
     "user_tz": -120
    },
    "id": "SuaVmNtV4AIQ",
    "outputId": "390d035d-bf8d-4b72-e7ea-9158cf0895c0"
   },
   "outputs": [
    {
     "name": "stdout",
     "output_type": "stream",
     "text": [
      "Average age: 29.88\n",
      "STD of age: 14.41\n",
      "Minimum age: 0.17\n",
      "Maximum age: 80.00\n"
     ]
    }
   ],
   "source": [
    "print(\"Average age: %2.2f\" % titanic['Age'].mean())\n",
    "print(\"STD of age: %2.2f\" % titanic['Age'].std())\n",
    "print(\"Minimum age: %2.2f\" % titanic['Age'].min())\n",
    "print(\"Maximum age: %2.2f\" % titanic['Age'].max())"
   ]
  },
  {
   "cell_type": "code",
   "execution_count": 22,
   "metadata": {
    "ExecuteTime": {
     "end_time": "2019-11-12T13:14:14.611726Z",
     "start_time": "2019-11-12T13:14:14.595226Z"
    },
    "colab": {
     "base_uri": "https://localhost:8080/",
     "height": 84
    },
    "colab_type": "code",
    "executionInfo": {
     "elapsed": 800,
     "status": "ok",
     "timestamp": 1574187969359,
     "user": {
      "displayName": "matan avitan",
      "photoUrl": "https://lh3.googleusercontent.com/a-/AAuE7mAWyJrkwJHAYq8hio9Ee5N7uPwyvJhahCerS9d9_g=s64",
      "userId": "11022944328304351523"
     },
     "user_tz": -120
    },
    "id": "hmROjVZN4AIR",
    "outputId": "a53ee8f4-ddab-4527-819c-e80e820ceb6f"
   },
   "outputs": [
    {
     "name": "stdout",
     "output_type": "stream",
     "text": [
      "Average number of siblings/spouse: 0.50\n",
      "Average number of siblings/spouse in class 1: 0.44\n",
      "Average number of siblings/spouse in class 2: 0.39\n",
      "Average number of siblings/spouse in class 3: 0.57\n"
     ]
    }
   ],
   "source": [
    "print(\"Average number of siblings/spouse: %2.2f\" % titanic['SibSp'].mean())\n",
    "print(\"Average number of siblings/spouse in class 1: %2.2f\" % titanic.loc[titanic.Pclass==1, 'SibSp'].mean())\n",
    "print(\"Average number of siblings/spouse in class 2: %2.2f\" % titanic.loc[titanic.Pclass==2, 'SibSp'].mean())\n",
    "print(\"Average number of siblings/spouse in class 3: %2.2f\" % titanic.loc[titanic.Pclass==3, 'SibSp'].mean())"
   ]
  },
  {
   "cell_type": "code",
   "execution_count": 23,
   "metadata": {
    "ExecuteTime": {
     "end_time": "2019-11-12T13:14:15.308169Z",
     "start_time": "2019-11-12T13:14:15.299841Z"
    },
    "colab": {
     "base_uri": "https://localhost:8080/",
     "height": 50
    },
    "colab_type": "code",
    "executionInfo": {
     "elapsed": 831,
     "status": "ok",
     "timestamp": 1574188227166,
     "user": {
      "displayName": "matan avitan",
      "photoUrl": "https://lh3.googleusercontent.com/a-/AAuE7mAWyJrkwJHAYq8hio9Ee5N7uPwyvJhahCerS9d9_g=s64",
      "userId": "11022944328304351523"
     },
     "user_tz": -120
    },
    "id": "RN_gEAa94AIS",
    "outputId": "6098e926-780d-4f0f-984d-5c3f67f1be4a"
   },
   "outputs": [
    {
     "name": "stdout",
     "output_type": "stream",
     "text": [
      "Minimum age (not survived): 1.00\n",
      "Maximum age (not survived): 74.00\n"
     ]
    }
   ],
   "source": [
    "print(\"Minimum age (not survived): %2.2f\" % titanic.loc[titanic.Survived==0, 'Age'].min())\n",
    "print(\"Maximum age (not survived): %2.2f\" % titanic.loc[titanic.Survived==0, 'Age'].max())"
   ]
  },
  {
   "cell_type": "markdown",
   "metadata": {
    "colab_type": "text",
    "id": "oq5hefbJ4AIS"
   },
   "source": [
    "# Announcing the future"
   ]
  },
  {
   "cell_type": "code",
   "execution_count": 30,
   "metadata": {
    "colab": {
     "base_uri": "https://localhost:8080/",
     "height": 101
    },
    "colab_type": "code",
    "executionInfo": {
     "elapsed": 838,
     "status": "ok",
     "timestamp": 1574188459135,
     "user": {
      "displayName": "matan avitan",
      "photoUrl": "https://lh3.googleusercontent.com/a-/AAuE7mAWyJrkwJHAYq8hio9Ee5N7uPwyvJhahCerS9d9_g=s64",
      "userId": "11022944328304351523"
     },
     "user_tz": -120
    },
    "id": "-CwgQdV04AIS",
    "outputId": "9369d7af-dc29-42bc-df15-2f9f824006d9"
   },
   "outputs": [
    {
     "data": {
      "text/plain": [
       "Pclass\n",
       "1    323\n",
       "2    277\n",
       "3    709\n",
       "dtype: int64"
      ]
     },
     "execution_count": 30,
     "metadata": {
      "tags": []
     },
     "output_type": "execute_result"
    }
   ],
   "source": [
    "titanic.groupby('Pclass').size()"
   ]
  },
  {
   "cell_type": "code",
   "execution_count": 31,
   "metadata": {
    "colab": {
     "base_uri": "https://localhost:8080/",
     "height": 84
    },
    "colab_type": "code",
    "executionInfo": {
     "elapsed": 733,
     "status": "ok",
     "timestamp": 1574188461117,
     "user": {
      "displayName": "matan avitan",
      "photoUrl": "https://lh3.googleusercontent.com/a-/AAuE7mAWyJrkwJHAYq8hio9Ee5N7uPwyvJhahCerS9d9_g=s64",
      "userId": "11022944328304351523"
     },
     "user_tz": -120
    },
    "id": "NpnLTyHe4AIT",
    "outputId": "fa2fb84e-f887-432f-d88b-2977eba0eb6e"
   },
   "outputs": [
    {
     "data": {
      "text/plain": [
       "3    709\n",
       "1    323\n",
       "2    277\n",
       "Name: Pclass, dtype: int64"
      ]
     },
     "execution_count": 31,
     "metadata": {
      "tags": []
     },
     "output_type": "execute_result"
    }
   ],
   "source": [
    "titanic.Pclass.value_counts()"
   ]
  },
  {
   "cell_type": "code",
   "execution_count": 0,
   "metadata": {
    "colab": {},
    "colab_type": "code",
    "id": "AQZuzk_X8_yO"
   },
   "outputs": [],
   "source": [
    "titanic['AgeGroup'] = 5 + 10*(titanic.Age//10)"
   ]
  },
  {
   "cell_type": "code",
   "execution_count": 0,
   "metadata": {
    "colab": {},
    "colab_type": "code",
    "id": "ToBzviRV4AIU"
   },
   "outputs": [],
   "source": [
    "group_counts = titanic.groupby(['Pclass', 'AgeGroup', 'Sex']).size()/titanic.groupby('Pclass').size()"
   ]
  },
  {
   "cell_type": "code",
   "execution_count": 35,
   "metadata": {
    "colab": {
     "base_uri": "https://localhost:8080/",
     "height": 823
    },
    "colab_type": "code",
    "executionInfo": {
     "elapsed": 1781,
     "status": "ok",
     "timestamp": 1574188648028,
     "user": {
      "displayName": "matan avitan",
      "photoUrl": "https://lh3.googleusercontent.com/a-/AAuE7mAWyJrkwJHAYq8hio9Ee5N7uPwyvJhahCerS9d9_g=s64",
      "userId": "11022944328304351523"
     },
     "user_tz": -120
    },
    "id": "f2XjNMxU4AIU",
    "outputId": "c687a786-44d9-41a9-8dd3-d39d975d55aa"
   },
   "outputs": [
    {
     "data": {
      "text/plain": [
       "Pclass  AgeGroup  Sex   \n",
       "1       5.0       female    0.003096\n",
       "                  male      0.009288\n",
       "        15.0      female    0.046440\n",
       "                  male      0.021672\n",
       "        25.0      female    0.083591\n",
       "                  male      0.077399\n",
       "        35.0      female    0.117647\n",
       "                  male      0.105263\n",
       "        45.0      female    0.068111\n",
       "                  male      0.123839\n",
       "        55.0      female    0.065015\n",
       "                  male      0.077399\n",
       "        65.0      female    0.024768\n",
       "                  male      0.040248\n",
       "        75.0      female    0.003096\n",
       "                  male      0.009288\n",
       "        85.0      male      0.003096\n",
       "2       5.0       female    0.039711\n",
       "                  male      0.039711\n",
       "        15.0      female    0.046931\n",
       "                  male      0.057762\n",
       "        25.0      female    0.137184\n",
       "                  male      0.187726\n",
       "        35.0      female    0.079422\n",
       "                  male      0.151625\n",
       "        45.0      female    0.043321\n",
       "                  male      0.068592\n",
       "        55.0      female    0.021661\n",
       "                  male      0.039711\n",
       "        65.0      female    0.003610\n",
       "                  male      0.021661\n",
       "        75.0      male      0.003610\n",
       "3       5.0       female    0.038082\n",
       "                  male      0.040903\n",
       "        15.0      female    0.050776\n",
       "                  male      0.078984\n",
       "        25.0      female    0.070522\n",
       "                  male      0.214386\n",
       "        35.0      female    0.036671\n",
       "                  male      0.098731\n",
       "        45.0      female    0.016925\n",
       "                  male      0.042313\n",
       "        55.0      male      0.009873\n",
       "        65.0      female    0.001410\n",
       "                  male      0.004231\n",
       "        75.0      male      0.002821\n",
       "dtype: float64"
      ]
     },
     "execution_count": 35,
     "metadata": {
      "tags": []
     },
     "output_type": "execute_result"
    }
   ],
   "source": [
    "group_counts"
   ]
  },
  {
   "cell_type": "code",
   "execution_count": 0,
   "metadata": {
    "colab": {},
    "colab_type": "code",
    "id": "jM5mHWjM4AIV"
   },
   "outputs": [],
   "source": [
    "group_counts = group_counts.unstack()"
   ]
  },
  {
   "cell_type": "code",
   "execution_count": 37,
   "metadata": {
    "colab": {
     "base_uri": "https://localhost:8080/",
     "height": 817
    },
    "colab_type": "code",
    "executionInfo": {
     "elapsed": 1357,
     "status": "ok",
     "timestamp": 1574188730056,
     "user": {
      "displayName": "matan avitan",
      "photoUrl": "https://lh3.googleusercontent.com/a-/AAuE7mAWyJrkwJHAYq8hio9Ee5N7uPwyvJhahCerS9d9_g=s64",
      "userId": "11022944328304351523"
     },
     "user_tz": -120
    },
    "id": "nXhlpWlj4AIW",
    "outputId": "790482e5-968c-4061-f230-18c411b843ab"
   },
   "outputs": [
    {
     "data": {
      "text/html": [
       "<div>\n",
       "<style scoped>\n",
       "    .dataframe tbody tr th:only-of-type {\n",
       "        vertical-align: middle;\n",
       "    }\n",
       "\n",
       "    .dataframe tbody tr th {\n",
       "        vertical-align: top;\n",
       "    }\n",
       "\n",
       "    .dataframe thead th {\n",
       "        text-align: right;\n",
       "    }\n",
       "</style>\n",
       "<table border=\"1\" class=\"dataframe\">\n",
       "  <thead>\n",
       "    <tr style=\"text-align: right;\">\n",
       "      <th></th>\n",
       "      <th>Sex</th>\n",
       "      <th>female</th>\n",
       "      <th>male</th>\n",
       "    </tr>\n",
       "    <tr>\n",
       "      <th>Pclass</th>\n",
       "      <th>AgeGroup</th>\n",
       "      <th></th>\n",
       "      <th></th>\n",
       "    </tr>\n",
       "  </thead>\n",
       "  <tbody>\n",
       "    <tr>\n",
       "      <th rowspan=\"9\" valign=\"top\">1</th>\n",
       "      <th>5.0</th>\n",
       "      <td>0.003096</td>\n",
       "      <td>0.009288</td>\n",
       "    </tr>\n",
       "    <tr>\n",
       "      <th>15.0</th>\n",
       "      <td>0.046440</td>\n",
       "      <td>0.021672</td>\n",
       "    </tr>\n",
       "    <tr>\n",
       "      <th>25.0</th>\n",
       "      <td>0.083591</td>\n",
       "      <td>0.077399</td>\n",
       "    </tr>\n",
       "    <tr>\n",
       "      <th>35.0</th>\n",
       "      <td>0.117647</td>\n",
       "      <td>0.105263</td>\n",
       "    </tr>\n",
       "    <tr>\n",
       "      <th>45.0</th>\n",
       "      <td>0.068111</td>\n",
       "      <td>0.123839</td>\n",
       "    </tr>\n",
       "    <tr>\n",
       "      <th>55.0</th>\n",
       "      <td>0.065015</td>\n",
       "      <td>0.077399</td>\n",
       "    </tr>\n",
       "    <tr>\n",
       "      <th>65.0</th>\n",
       "      <td>0.024768</td>\n",
       "      <td>0.040248</td>\n",
       "    </tr>\n",
       "    <tr>\n",
       "      <th>75.0</th>\n",
       "      <td>0.003096</td>\n",
       "      <td>0.009288</td>\n",
       "    </tr>\n",
       "    <tr>\n",
       "      <th>85.0</th>\n",
       "      <td>NaN</td>\n",
       "      <td>0.003096</td>\n",
       "    </tr>\n",
       "    <tr>\n",
       "      <th rowspan=\"8\" valign=\"top\">2</th>\n",
       "      <th>5.0</th>\n",
       "      <td>0.039711</td>\n",
       "      <td>0.039711</td>\n",
       "    </tr>\n",
       "    <tr>\n",
       "      <th>15.0</th>\n",
       "      <td>0.046931</td>\n",
       "      <td>0.057762</td>\n",
       "    </tr>\n",
       "    <tr>\n",
       "      <th>25.0</th>\n",
       "      <td>0.137184</td>\n",
       "      <td>0.187726</td>\n",
       "    </tr>\n",
       "    <tr>\n",
       "      <th>35.0</th>\n",
       "      <td>0.079422</td>\n",
       "      <td>0.151625</td>\n",
       "    </tr>\n",
       "    <tr>\n",
       "      <th>45.0</th>\n",
       "      <td>0.043321</td>\n",
       "      <td>0.068592</td>\n",
       "    </tr>\n",
       "    <tr>\n",
       "      <th>55.0</th>\n",
       "      <td>0.021661</td>\n",
       "      <td>0.039711</td>\n",
       "    </tr>\n",
       "    <tr>\n",
       "      <th>65.0</th>\n",
       "      <td>0.003610</td>\n",
       "      <td>0.021661</td>\n",
       "    </tr>\n",
       "    <tr>\n",
       "      <th>75.0</th>\n",
       "      <td>NaN</td>\n",
       "      <td>0.003610</td>\n",
       "    </tr>\n",
       "    <tr>\n",
       "      <th rowspan=\"8\" valign=\"top\">3</th>\n",
       "      <th>5.0</th>\n",
       "      <td>0.038082</td>\n",
       "      <td>0.040903</td>\n",
       "    </tr>\n",
       "    <tr>\n",
       "      <th>15.0</th>\n",
       "      <td>0.050776</td>\n",
       "      <td>0.078984</td>\n",
       "    </tr>\n",
       "    <tr>\n",
       "      <th>25.0</th>\n",
       "      <td>0.070522</td>\n",
       "      <td>0.214386</td>\n",
       "    </tr>\n",
       "    <tr>\n",
       "      <th>35.0</th>\n",
       "      <td>0.036671</td>\n",
       "      <td>0.098731</td>\n",
       "    </tr>\n",
       "    <tr>\n",
       "      <th>45.0</th>\n",
       "      <td>0.016925</td>\n",
       "      <td>0.042313</td>\n",
       "    </tr>\n",
       "    <tr>\n",
       "      <th>55.0</th>\n",
       "      <td>NaN</td>\n",
       "      <td>0.009873</td>\n",
       "    </tr>\n",
       "    <tr>\n",
       "      <th>65.0</th>\n",
       "      <td>0.001410</td>\n",
       "      <td>0.004231</td>\n",
       "    </tr>\n",
       "    <tr>\n",
       "      <th>75.0</th>\n",
       "      <td>NaN</td>\n",
       "      <td>0.002821</td>\n",
       "    </tr>\n",
       "  </tbody>\n",
       "</table>\n",
       "</div>"
      ],
      "text/plain": [
       "Sex                female      male\n",
       "Pclass AgeGroup                    \n",
       "1      5.0       0.003096  0.009288\n",
       "       15.0      0.046440  0.021672\n",
       "       25.0      0.083591  0.077399\n",
       "       35.0      0.117647  0.105263\n",
       "       45.0      0.068111  0.123839\n",
       "       55.0      0.065015  0.077399\n",
       "       65.0      0.024768  0.040248\n",
       "       75.0      0.003096  0.009288\n",
       "       85.0           NaN  0.003096\n",
       "2      5.0       0.039711  0.039711\n",
       "       15.0      0.046931  0.057762\n",
       "       25.0      0.137184  0.187726\n",
       "       35.0      0.079422  0.151625\n",
       "       45.0      0.043321  0.068592\n",
       "       55.0      0.021661  0.039711\n",
       "       65.0      0.003610  0.021661\n",
       "       75.0           NaN  0.003610\n",
       "3      5.0       0.038082  0.040903\n",
       "       15.0      0.050776  0.078984\n",
       "       25.0      0.070522  0.214386\n",
       "       35.0      0.036671  0.098731\n",
       "       45.0      0.016925  0.042313\n",
       "       55.0           NaN  0.009873\n",
       "       65.0      0.001410  0.004231\n",
       "       75.0           NaN  0.002821"
      ]
     },
     "execution_count": 37,
     "metadata": {
      "tags": []
     },
     "output_type": "execute_result"
    }
   ],
   "source": [
    "group_counts"
   ]
  },
  {
   "cell_type": "code",
   "execution_count": 38,
   "metadata": {
    "colab": {
     "base_uri": "https://localhost:8080/",
     "height": 369
    },
    "colab_type": "code",
    "executionInfo": {
     "elapsed": 1671,
     "status": "ok",
     "timestamp": 1574188898051,
     "user": {
      "displayName": "matan avitan",
      "photoUrl": "https://lh3.googleusercontent.com/a-/AAuE7mAWyJrkwJHAYq8hio9Ee5N7uPwyvJhahCerS9d9_g=s64",
      "userId": "11022944328304351523"
     },
     "user_tz": -120
    },
    "id": "2x7XskEF4AIX",
    "outputId": "9d49944b-26ec-4d9f-b407-6f2028e18e5e"
   },
   "outputs": [
    {
     "data": {
      "image/png": "[encoded data removed]",
      "text/plain": [
       "<Figure size 1080x360 with 3 Axes>"
      ]
     },
     "metadata": {
      "tags": []
     },
     "output_type": "display_data"
    }
   ],
   "source": [
    "plt.figure(figsize=(15, 5))\n",
    "\n",
    "for pclass in [1, 2, 3]:\n",
    "    plt.subplot(1, 3, pclass)\n",
    "    group_counts.loc[pclass].plot(ax=plt.gca())\n",
    "    plt.ylim(0, 0.25)\n",
    "    plt.title(\"Age distribution for Class %i\" % pclass, fontsize=12)\n",
    "plt.tight_layout()"
   ]
  },
  {
   "cell_type": "code",
   "execution_count": 0,
   "metadata": {
    "colab": {},
    "colab_type": "code",
    "id": "m1iUG3H54AIY"
   },
   "outputs": [],
   "source": [
    "survival_groups = titanic.groupby(['Pclass', 'AgeGroup', 'Sex']).Survived.mean()"
   ]
  },
  {
   "cell_type": "code",
   "execution_count": 0,
   "metadata": {
    "colab": {},
    "colab_type": "code",
    "id": "8z6GnLXj4AIZ"
   },
   "outputs": [],
   "source": [
    "survival_groups = survival_groups.unstack()"
   ]
  },
  {
   "cell_type": "code",
   "execution_count": 42,
   "metadata": {
    "colab": {
     "base_uri": "https://localhost:8080/",
     "height": 369
    },
    "colab_type": "code",
    "executionInfo": {
     "elapsed": 1605,
     "status": "ok",
     "timestamp": 1574189072960,
     "user": {
      "displayName": "matan avitan",
      "photoUrl": "https://lh3.googleusercontent.com/a-/AAuE7mAWyJrkwJHAYq8hio9Ee5N7uPwyvJhahCerS9d9_g=s64",
      "userId": "11022944328304351523"
     },
     "user_tz": -120
    },
    "id": "q2BHCVXh4AIc",
    "outputId": "c01ae592-d64e-4d84-eb8b-35d7ff83309e"
   },
   "outputs": [
    {
     "data": {
      "image/png": "[encoded data removed]",
      "text/plain": [
       "<Figure size 1080x360 with 3 Axes>"
      ]
     },
     "metadata": {
      "tags": []
     },
     "output_type": "display_data"
    }
   ],
   "source": [
    "plt.figure(figsize=(15, 5))\n",
    "\n",
    "for pclass in [1, 2, 3]:\n",
    "    plt.subplot(1, 3, pclass)\n",
    "    survival_groups.loc[pclass].plot(ax=plt.gca())\n",
    "    plt.ylim(0, 1)\n",
    "    plt.title(\"Survived in class %i\" % pclass, fontsize=12)\n",
    "plt.tight_layout()"
   ]
  },
  {
   "cell_type": "code",
   "execution_count": 0,
   "metadata": {
    "colab": {},
    "colab_type": "code",
    "id": "S39h3xzz4AIe"
   },
   "outputs": [],
   "source": [
    "siblings_groups = titanic.groupby(['Pclass', 'AgeGroup', 'Sex']).SibSp.mean()"
   ]
  },
  {
   "cell_type": "code",
   "execution_count": 0,
   "metadata": {
    "colab": {},
    "colab_type": "code",
    "id": "io5RloZG4AIe"
   },
   "outputs": [],
   "source": [
    "siblings_groups = siblings_groups.unstack()"
   ]
  },
  {
   "cell_type": "code",
   "execution_count": 45,
   "metadata": {
    "colab": {
     "base_uri": "https://localhost:8080/",
     "height": 369
    },
    "colab_type": "code",
    "executionInfo": {
     "elapsed": 1724,
     "status": "ok",
     "timestamp": 1574189426616,
     "user": {
      "displayName": "matan avitan",
      "photoUrl": "https://lh3.googleusercontent.com/a-/AAuE7mAWyJrkwJHAYq8hio9Ee5N7uPwyvJhahCerS9d9_g=s64",
      "userId": "11022944328304351523"
     },
     "user_tz": -120
    },
    "id": "FUOfZXMs4AIf",
    "outputId": "24f4ce59-d667-411f-8499-792b0bfee65d"
   },
   "outputs": [
    {
     "data": {
      "image/png": "[encoded data removed]",
      "text/plain": [
       "<Figure size 1080x360 with 3 Axes>"
      ]
     },
     "metadata": {
      "tags": []
     },
     "output_type": "display_data"
    }
   ],
   "source": [
    "plt.figure(figsize=(15, 5))\n",
    "\n",
    "for pclass in [1, 2, 3]:\n",
    "    plt.subplot(1, 3, pclass)\n",
    "    siblings_groups.loc[pclass].plot(ax=plt.gca())\n",
    "    plt.ylim(0, 5)\n",
    "    plt.title(\"Survived in class %i\" % pclass, fontsize=12)\n",
    "plt.tight_layout()"
   ]
  },
  {
   "cell_type": "code",
   "execution_count": 0,
   "metadata": {
    "colab": {},
    "colab_type": "code",
    "id": "gLLO8B884AIf"
   },
   "outputs": [],
   "source": [
    "embark_counts = titanic.groupby(['Pclass', 'AgeGroup', 'Sex', 'Embarked']).size()/titanic.groupby('Pclass').size()"
   ]
  },
  {
   "cell_type": "code",
   "execution_count": 0,
   "metadata": {
    "colab": {},
    "colab_type": "code",
    "id": "HorJDwTs4AIh"
   },
   "outputs": [],
   "source": [
    "embark_counts = embark_counts.unstack([-1, -2])"
   ]
  },
  {
   "cell_type": "code",
   "execution_count": 48,
   "metadata": {
    "colab": {
     "base_uri": "https://localhost:8080/",
     "height": 185
    },
    "colab_type": "code",
    "executionInfo": {
     "elapsed": 1071,
     "status": "ok",
     "timestamp": 1574189463077,
     "user": {
      "displayName": "matan avitan",
      "photoUrl": "https://lh3.googleusercontent.com/a-/AAuE7mAWyJrkwJHAYq8hio9Ee5N7uPwyvJhahCerS9d9_g=s64",
      "userId": "11022944328304351523"
     },
     "user_tz": -120
    },
    "id": "I-gyvTT-4AIk",
    "outputId": "3e28f7e7-d26e-4c3e-98f8-8a3490cb9fe6"
   },
   "outputs": [
    {
     "data": {
      "text/plain": [
       "AgeGroup\n",
       "5.0     0.031030\n",
       "15.0    0.067701\n",
       "25.0    0.177715\n",
       "35.0    0.081805\n",
       "45.0    0.036671\n",
       "55.0    0.009873\n",
       "65.0    0.002821\n",
       "75.0    0.001410\n",
       "Name: (S, male), dtype: float64"
      ]
     },
     "execution_count": 48,
     "metadata": {
      "tags": []
     },
     "output_type": "execute_result"
    }
   ],
   "source": [
    "embark_counts.loc[3, (('S', 'male'))]"
   ]
  },
  {
   "cell_type": "markdown",
   "metadata": {
    "colab_type": "text",
    "id": "2s-sivYl4AIl"
   },
   "source": [
    "# Replacing and renaming"
   ]
  },
  {
   "cell_type": "code",
   "execution_count": 0,
   "metadata": {
    "colab": {},
    "colab_type": "code",
    "id": "Y623BHSz4AIl"
   },
   "outputs": [],
   "source": [
    "titanic.replace(22, 122).head()"
   ]
  },
  {
   "cell_type": "code",
   "execution_count": 0,
   "metadata": {
    "colab": {},
    "colab_type": "code",
    "id": "pZH4QDkI4AIm"
   },
   "outputs": [],
   "source": [
    "import re\n",
    "titanic.replace(re.compile(r'\\(.*\\)'), '').head()"
   ]
  },
  {
   "cell_type": "code",
   "execution_count": 0,
   "metadata": {
    "colab": {},
    "colab_type": "code",
    "id": "mBJAIHQs4AIo"
   },
   "outputs": [],
   "source": [
    "titanic.rename(lambda x: x.lower(), axis=1).head()"
   ]
  },
  {
   "cell_type": "code",
   "execution_count": 0,
   "metadata": {
    "colab": {},
    "colab_type": "code",
    "id": "gJL_lS1O4AIo"
   },
   "outputs": [],
   "source": [
    "titanic.rename({'SibSp':'siblings_spouses'}, axis=1).head()"
   ]
  },
  {
   "cell_type": "markdown",
   "metadata": {
    "colab_type": "text",
    "id": "_M9_9G6A4AIp"
   },
   "source": [
    "## String operations"
   ]
  },
  {
   "cell_type": "code",
   "execution_count": 0,
   "metadata": {
    "colab": {},
    "colab_type": "code",
    "id": "l3MPSYfX4AIq"
   },
   "outputs": [],
   "source": [
    "titanic.head()"
   ]
  },
  {
   "cell_type": "code",
   "execution_count": 0,
   "metadata": {
    "colab": {},
    "colab_type": "code",
    "id": "GuXZgktI4AIr"
   },
   "outputs": [],
   "source": [
    "(titanic\n",
    " .replace(re.compile(r'\\(.*\\)'), '')\n",
    " .Name.str\n",
    " .split(',', expand=True)\n",
    " .rename({0:'family_name', 1:'first_name'}, axis=1)\n",
    " .head())"
   ]
  },
  {
   "cell_type": "markdown",
   "metadata": {
    "colab_type": "text",
    "id": "KBuzoPL-4AIr"
   },
   "source": [
    "# Cleaning data"
   ]
  },
  {
   "cell_type": "code",
   "execution_count": 0,
   "metadata": {
    "colab": {},
    "colab_type": "code",
    "id": "zdI6e-TY4AIs"
   },
   "outputs": [],
   "source": [
    "titanic.isnull().head()"
   ]
  },
  {
   "cell_type": "code",
   "execution_count": 0,
   "metadata": {
    "colab": {},
    "colab_type": "code",
    "id": "qq1dxQf34AIt"
   },
   "outputs": [],
   "source": [
    "titanic.isnull().any()"
   ]
  },
  {
   "cell_type": "code",
   "execution_count": 0,
   "metadata": {
    "colab": {},
    "colab_type": "code",
    "id": "7bV-mpct4AIu"
   },
   "outputs": [],
   "source": [
    "titanic.isnull().any(axis=1).head()"
   ]
  },
  {
   "cell_type": "code",
   "execution_count": 0,
   "metadata": {
    "colab": {},
    "colab_type": "code",
    "id": "w__nrP3X4AIu"
   },
   "outputs": [],
   "source": [
    "titanic.isnull().sum()"
   ]
  },
  {
   "cell_type": "code",
   "execution_count": 0,
   "metadata": {
    "colab": {},
    "colab_type": "code",
    "id": "Eb_y6Jby4AIw"
   },
   "outputs": [],
   "source": [
    "titanic.head(15)"
   ]
  },
  {
   "cell_type": "code",
   "execution_count": 0,
   "metadata": {
    "colab": {},
    "colab_type": "code",
    "id": "A2c2x0SH4AIy"
   },
   "outputs": [],
   "source": [
    "fill_values = titanic[['Age', 'Fare']].mean()"
   ]
  },
  {
   "cell_type": "code",
   "execution_count": 0,
   "metadata": {
    "colab": {},
    "colab_type": "code",
    "id": "mJQHTx1S4AIz"
   },
   "outputs": [],
   "source": [
    "titanic[titanic.Fare.isnull()]"
   ]
  },
  {
   "cell_type": "code",
   "execution_count": 0,
   "metadata": {
    "colab": {},
    "colab_type": "code",
    "id": "N_-_vwmM4AI0"
   },
   "outputs": [],
   "source": [
    "titanic.fillna(fill_values).fillna({'AgeGroup':25.}).head(15)"
   ]
  },
  {
   "cell_type": "markdown",
   "metadata": {
    "colab_type": "text",
    "id": "opuaGaBj4AI1"
   },
   "source": [
    "# Getting indicators and dummy variables"
   ]
  },
  {
   "cell_type": "code",
   "execution_count": 0,
   "metadata": {
    "colab": {},
    "colab_type": "code",
    "id": "T9fOW9VP4AI1"
   },
   "outputs": [],
   "source": [
    "pd.get_dummies(titanic, columns=['Pclass', 'Sex', 'Embarked']).head()"
   ]
  },
  {
   "cell_type": "code",
   "execution_count": 0,
   "metadata": {
    "colab": {},
    "colab_type": "code",
    "id": "yxNz7AF04AI2"
   },
   "outputs": [],
   "source": [
    "titanic.Name.str."
   ]
  }
 ],
 "metadata": {
  "colab": {
   "collapsed_sections": [
    "loSC-map4AFa",
    "i30k47774AFx",
    "ald_VlhZ4AF0",
    "CG_Lz-Od4AGB",
    "5i_x1IQA4AGV",
    "JZnHWJgt4AGi",
    "ImUnEK9R4AHD",
    "V7IJjNxm4AHa",
    "VCwDs1W04AHj",
    "Rc-S8ISN4AHu",
    "atIjSTo94AH1",
    "_M9_9G6A4AIp",
    "KBuzoPL-4AIr",
    "opuaGaBj4AI1"
   ],
   "name": "[Py4DP] [Lecture 3] pandas - Part I.ipynb",
   "provenance": []
  },
  "kernelspec": {
   "display_name": "Python 3",
   "language": "python",
   "name": "python3"
  },
  "language_info": {
   "codemirror_mode": {
    "name": "ipython",
    "version": 3
   },
   "file_extension": ".py",
   "mimetype": "text/x-python",
   "name": "python",
   "nbconvert_exporter": "python",
   "pygments_lexer": "ipython3",
   "version": "3.7.5"
  }
 },
 "nbformat": 4,
 "nbformat_minor": 1
}
