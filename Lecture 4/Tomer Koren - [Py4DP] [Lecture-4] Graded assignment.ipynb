{
 "cells": [
  {
   "cell_type": "markdown",
   "metadata": {},
   "source": [
    "# Notes\n",
    "\n",
    "This assignment is devoted to `pandas`. It covers indexing and filtering, and some `groupby` and `join` operations. The assignment roughly corresponds to Week 4 and the beginning of Week 5 of the course.\n",
    "\n",
    "The main dataset you'll be using is [Titanic](https://www.kaggle.com/c/titanic)."
   ]
  },
  {
   "cell_type": "code",
   "execution_count": 1,
   "metadata": {
    "ExecuteTime": {
     "end_time": "2019-11-24T21:11:20.549144Z",
     "start_time": "2019-11-24T21:11:19.972891Z"
    },
    "scrolled": true
   },
   "outputs": [
    {
     "name": "stdout",
     "output_type": "stream",
     "text": [
      "Populating the interactive namespace from numpy and matplotlib\n"
     ]
    }
   ],
   "source": [
    "%pylab inline\n",
    "plt.style.use(\"bmh\")"
   ]
  },
  {
   "cell_type": "code",
   "execution_count": 2,
   "metadata": {
    "ExecuteTime": {
     "end_time": "2019-11-24T21:11:20.558254Z",
     "start_time": "2019-11-24T21:11:20.552761Z"
    }
   },
   "outputs": [],
   "source": [
    "plt.rcParams[\"figure.figsize\"] = (6,6)"
   ]
  },
  {
   "cell_type": "code",
   "execution_count": 3,
   "metadata": {
    "ExecuteTime": {
     "end_time": "2019-11-24T21:11:26.993364Z",
     "start_time": "2019-11-24T21:11:26.589190Z"
    },
    "scrolled": true
   },
   "outputs": [],
   "source": [
    "import numpy as np\n",
    "import pandas as pd"
   ]
  },
  {
   "cell_type": "code",
   "execution_count": 4,
   "metadata": {
    "ExecuteTime": {
     "end_time": "2019-11-24T21:11:29.467115Z",
     "start_time": "2019-11-24T21:11:29.460525Z"
    }
   },
   "outputs": [],
   "source": [
    "STUDENT = \"Tomer Koren\"\n",
    "ASSIGNMENT = 4\n",
    "TEST = False"
   ]
  },
  {
   "cell_type": "code",
   "execution_count": 5,
   "metadata": {},
   "outputs": [],
   "source": [
    "if not TEST:\n",
    "    titanic_train = pd.read_csv(\"data/train.csv\", index_col=\"PassengerId\")\n",
    "    titanic_test = pd.read_csv(\"data/test.csv\", index_col=\"PassengerId\")\n",
    "    titanic = pd.concat([titanic_train, titanic_test], sort=False)"
   ]
  },
  {
   "cell_type": "code",
   "execution_count": 6,
   "metadata": {
    "ExecuteTime": {
     "end_time": "2019-11-24T21:11:30.712517Z",
     "start_time": "2019-11-24T21:11:30.708167Z"
    }
   },
   "outputs": [],
   "source": [
    "if TEST:\n",
    "    import solutions\n",
    "    total_grade = 0\n",
    "    MAX_POINTS = 16"
   ]
  },
  {
   "cell_type": "markdown",
   "metadata": {},
   "source": [
    "# Indexing and filtering"
   ]
  },
  {
   "cell_type": "markdown",
   "metadata": {},
   "source": [
    "### 1. Fixing age (1 point).\n",
    "\n",
    "There are several known mistakes in the Titanic dataset.\n",
    "\n",
    "Namely, [Julia Florence Siegel](https://www.encyclopedia-titanica.org/titanic-survivor/julia-florence-cavendish.html) (Mrs. Tyrell William Cavendish) is mistakenly marked as being 76 years old (the age she actually died, but many years after Titanic).\n",
    "\n",
    "You must replace age value for her with her actual age at the time (25) and return the dataset. Input is indexed with `PassengerId` and is a concatenation of train and test sets. You must return a copy of the dataframe, and not perform replacement in original dataframe. Structure and indexing must be the same as in input."
   ]
  },
  {
   "cell_type": "code",
   "execution_count": 7,
   "metadata": {},
   "outputs": [],
   "source": [
    "def fix_age(df):\n",
    "    \"\"\"Fix age for Julia Florence Siegel.\"\"\"\n",
    "    df_copy = df.copy()\n",
    "    julia_mask = df.Name.str.contains(\"Julia Florence Siegel\")\n",
    "    df_copy.loc[julia_mask,'Age'] = 25\n",
    "    return df_copy"
   ]
  },
  {
   "cell_type": "code",
   "execution_count": 8,
   "metadata": {},
   "outputs": [
    {
     "name": "stdout",
     "output_type": "stream",
     "text": [
      "Before fix_age (original df) :  76.0\n",
      "After fix_age (original df) :  76.0\n",
      "After fix_age (returned df) :  25.0\n"
     ]
    }
   ],
   "source": [
    "if not TEST:    \n",
    "    julia_mask = titanic['Name'].str.contains(\"Julia Florence Siegel\")\n",
    "    print('Before fix_age (original df) : ',titanic.loc[julia_mask,'Age'].iat[0])\n",
    "    titanic_fix = fix_age(titanic)    \n",
    "    print('After fix_age (original df) : ',titanic.loc[julia_mask,'Age'].iat[0])\n",
    "    print('After fix_age (returned df) : ',titanic_fix.loc[julia_mask,'Age'].iat[0])        "
   ]
  },
  {
   "cell_type": "code",
   "execution_count": 9,
   "metadata": {},
   "outputs": [],
   "source": [
    "PROBLEM_ID = 1\n",
    "\n",
    "if TEST:\n",
    "    total_grade += solutions.check(STUDENT, PROBLEM_ID, fix_age)"
   ]
  },
  {
   "cell_type": "markdown",
   "metadata": {},
   "source": [
    "### 2. Embarkment port distribution (1 point).\n",
    "\n",
    "You must find the value counts for embarkment port (`Embarked` column) for the passengers, who travelled in 3-d class, were male and between 20 and 30 years old (both inclusive). No need to treat missing values separately.\n",
    "\n",
    "Input is indexed with `PassengerId` and is a concatenation of train and test sets. You must return series, indexed with values from `Embarked`, according to `.value_counts()` method semantics."
   ]
  },
  {
   "cell_type": "code",
   "execution_count": 10,
   "metadata": {
    "ExecuteTime": {
     "end_time": "2019-11-13T23:15:11.348224Z",
     "start_time": "2019-11-13T23:15:11.334569Z"
    }
   },
   "outputs": [],
   "source": [
    "def embarked_stats(df):\n",
    "    \"\"\"Calculate embarkment port statistics.\"\"\"\n",
    "    class_3_mask = (df.Pclass == 3)\n",
    "    male_mask = (df.Sex == 'male')\n",
    "    age_20_30_mask = (df.Age >= 20) & (df.Age <= 30)    \n",
    "    return df.loc[class_3_mask & age_20_30_mask & male_mask,'Embarked'].value_counts()"
   ]
  },
  {
   "cell_type": "code",
   "execution_count": 11,
   "metadata": {},
   "outputs": [
    {
     "name": "stdout",
     "output_type": "stream",
     "text": [
      "<class 'pandas.core.series.Series'>\n",
      "S    132\n",
      "C     21\n",
      "Q      7\n",
      "Name: Embarked, dtype: int64\n"
     ]
    }
   ],
   "source": [
    "if not TEST:\n",
    "    res = embarked_stats(titanic)\n",
    "    print(type(res))\n",
    "    print(res)"
   ]
  },
  {
   "cell_type": "code",
   "execution_count": 12,
   "metadata": {
    "ExecuteTime": {
     "end_time": "2019-11-13T23:25:50.106449Z",
     "start_time": "2019-11-13T23:25:50.095086Z"
    }
   },
   "outputs": [],
   "source": [
    "PROBLEM_ID = 2\n",
    "\n",
    "if TEST:\n",
    "    total_grade += solutions.check(STUDENT, PROBLEM_ID, embarked_stats)"
   ]
  },
  {
   "cell_type": "markdown",
   "metadata": {},
   "source": [
    "### 3. Fill missing age values (1 point).\n",
    "\n",
    "Some age values are missing in the Titanic dataset. You need to calculate average age, and fill missing age values in `Age` column.\n",
    "\n",
    "Input is indexed with `PassengerId` and is a concatenation of train and test sets. Output must be a **new** dataframe with the same structure, but without missing values in `Age` column."
   ]
  },
  {
   "cell_type": "code",
   "execution_count": 13,
   "metadata": {
    "ExecuteTime": {
     "end_time": "2019-11-25T08:26:56.688466Z",
     "start_time": "2019-11-25T08:26:56.684610Z"
    }
   },
   "outputs": [],
   "source": [
    "def fix_age(df):\n",
    "    \"\"\"Fix missing age values.\"\"\"\n",
    "    df_copy = df.copy()\n",
    "    mean_age = df.loc[pd.notna(df.Age),'Age'].mean()\n",
    "    df_copy['Age'].fillna(mean_age, inplace = True) \n",
    "    return df_copy"
   ]
  },
  {
   "cell_type": "code",
   "execution_count": 14,
   "metadata": {},
   "outputs": [
    {
     "name": "stdout",
     "output_type": "stream",
     "text": [
      "Original dataset PassengerId-6 Age : nan\n",
      "Fixed dataset PassengerId-6 Age : 29.881137667304014\n"
     ]
    }
   ],
   "source": [
    "if not TEST:\n",
    "    titanic_age_fix = fix_age(titanic)\n",
    "    print('Original dataset PassengerId-6 Age :', titanic.loc[6,'Age'])\n",
    "    print('Fixed dataset PassengerId-6 Age :', titanic_age_fix.loc[6,'Age'])\n",
    "    "
   ]
  },
  {
   "cell_type": "code",
   "execution_count": 15,
   "metadata": {
    "ExecuteTime": {
     "end_time": "2019-11-25T10:03:45.213116Z",
     "start_time": "2019-11-25T10:03:45.199909Z"
    }
   },
   "outputs": [],
   "source": [
    "PROBLEM_ID = 3\n",
    "\n",
    "if TEST:\n",
    "    total_grade += solutions.check(STUDENT, PROBLEM_ID, fix_age)"
   ]
  },
  {
   "cell_type": "markdown",
   "metadata": {},
   "source": [
    "### 4. Child travelling alone (1 point).\n",
    "\n",
    "You must find a child (`Age<10`) on-board, who was travelling without siblings or parents and find a name of her nursemaid.\n",
    "\n",
    "Input is indexed with `PassengerId` and is a concatenation of train and test sets. Output must be a tuple of two strings, collected from `Name` column, with one being child's name and second being nursemaid's name. It's known, that there's only one child like this."
   ]
  },
  {
   "cell_type": "code",
   "execution_count": 16,
   "metadata": {
    "ExecuteTime": {
     "end_time": "2019-11-13T23:15:11.348224Z",
     "start_time": "2019-11-13T23:15:11.334569Z"
    }
   },
   "outputs": [],
   "source": [
    "def get_nursemaid(df):\n",
    "    lonely_child_name = df.loc[(df.Age < 10) & (df.Parch == 0) & (df.SibSp == 0),'Name'].iat[0]\n",
    "    return tuple([name.strip() for name in lonely_child_name.split(',')])"
   ]
  },
  {
   "cell_type": "code",
   "execution_count": 17,
   "metadata": {},
   "outputs": [
    {
     "name": "stdout",
     "output_type": "stream",
     "text": [
      "('Emanuel', 'Miss. Virginia Ethel')\n"
     ]
    }
   ],
   "source": [
    "if not TEST:\n",
    "    print(get_nursemaid(titanic))"
   ]
  },
  {
   "cell_type": "code",
   "execution_count": 18,
   "metadata": {
    "ExecuteTime": {
     "end_time": "2019-11-13T23:25:50.106449Z",
     "start_time": "2019-11-13T23:25:50.095086Z"
    }
   },
   "outputs": [],
   "source": [
    "PROBLEM_ID = 4\n",
    "\n",
    "if TEST:\n",
    "    total_grade += solutions.check(STUDENT, PROBLEM_ID, get_nursemaid)"
   ]
  },
  {
   "cell_type": "markdown",
   "metadata": {},
   "source": [
    "### 5. Port with the most children embarked (1 point).\n",
    "\n",
    "You must find, which port had the largest percentage of children (`Age<10`) embarked, i.e. number of children divided by total number of passengers embarked.\n",
    "\n",
    "Input is indexed with `PassengerId` and is a concatenation of train and test sets. Output must be a single string with port letter."
   ]
  },
  {
   "cell_type": "code",
   "execution_count": 19,
   "metadata": {
    "ExecuteTime": {
     "end_time": "2019-11-25T08:26:56.688466Z",
     "start_time": "2019-11-25T08:26:56.684610Z"
    }
   },
   "outputs": [],
   "source": [
    "def get_port(df):\n",
    "    \"\"\"Get port with the most children embarked.\"\"\"    \n",
    "    children_percentage_port = df.loc[df.Age < 10,'Embarked'].value_counts() / len(df)\n",
    "    return children_percentage_port.idxmax()"
   ]
  },
  {
   "cell_type": "code",
   "execution_count": 20,
   "metadata": {},
   "outputs": [
    {
     "name": "stdout",
     "output_type": "stream",
     "text": [
      "Distribution of children per port : \n",
      " S    0.048892\n",
      "C    0.010695\n",
      "Q    0.003056\n",
      "Name: Embarked, dtype: float64\n",
      "Get_Port result :  S\n"
     ]
    }
   ],
   "source": [
    "if not TEST:\n",
    "    print('Distribution of children per port : \\n',titanic.loc[titanic['Age'] < 10,'Embarked'].value_counts() / len(titanic))\n",
    "    print('Get_Port result : ',get_port(titanic))"
   ]
  },
  {
   "cell_type": "code",
   "execution_count": 21,
   "metadata": {
    "ExecuteTime": {
     "end_time": "2019-11-25T08:27:11.838257Z",
     "start_time": "2019-11-25T08:27:11.720830Z"
    }
   },
   "outputs": [],
   "source": [
    "PROBLEM_ID = 5\n",
    "\n",
    "if TEST:\n",
    "    total_grade += solutions.check(STUDENT, PROBLEM_ID, get_port)"
   ]
  },
  {
   "cell_type": "markdown",
   "metadata": {},
   "source": [
    "### 6. Passengers per ticket (2 points).\n",
    "\n",
    "Calculate average and maximum number of passengers per ticket.\n",
    "\n",
    "Input is indexed with `PassengerId` and is a concatenation of train and test sets. Output must be a tuple of two values."
   ]
  },
  {
   "cell_type": "code",
   "execution_count": 22,
   "metadata": {
    "ExecuteTime": {
     "end_time": "2019-11-25T08:26:56.688466Z",
     "start_time": "2019-11-25T08:26:56.684610Z"
    }
   },
   "outputs": [],
   "source": [
    "def get_ticket_stats(df):\n",
    "    \"\"\"Calculate passenger per ticket statistics.\"\"\"\n",
    "    passengers_per_ticket_distribution = df.Ticket.value_counts()\n",
    "    return tuple([passengers_per_ticket_distribution.mean(),passengers_per_ticket_distribution.max()])"
   ]
  },
  {
   "cell_type": "code",
   "execution_count": 23,
   "metadata": {},
   "outputs": [
    {
     "name": "stdout",
     "output_type": "stream",
     "text": [
      "Statistics Result:  (1.4090419806243273, 11)\n"
     ]
    },
    {
     "data": {
      "image/png": "[encoded data removed]",
      "text/plain": [
       "<Figure size 432x432 with 1 Axes>"
      ]
     },
     "metadata": {
      "needs_background": "light"
     },
     "output_type": "display_data"
    }
   ],
   "source": [
    "if not TEST:\n",
    "    print('Statistics Result: ',get_ticket_stats(titanic))\n",
    "    import matplotlib.pyplot as plt\n",
    "    plt.hist(titanic['Ticket'].value_counts().values)\n",
    "    "
   ]
  },
  {
   "cell_type": "code",
   "execution_count": 24,
   "metadata": {
    "ExecuteTime": {
     "end_time": "2019-11-25T08:27:11.838257Z",
     "start_time": "2019-11-25T08:27:11.720830Z"
    }
   },
   "outputs": [],
   "source": [
    "PROBLEM_ID = 6\n",
    "\n",
    "if TEST:\n",
    "    total_grade += solutions.check(STUDENT, PROBLEM_ID, get_ticket_stats)"
   ]
  },
  {
   "cell_type": "markdown",
   "metadata": {},
   "source": [
    "### 7. Fare per passenger (3 points).\n",
    "\n",
    "For each individual ticket, you must calculate fare per person for that ticket, and then calculate averages for each class. Note, that you will need to apply `groupby` and then you may consider using `.first()` of resulting `DataFrameGroupBy`.\n",
    "\n",
    "Input is indexed with `PassengerId` and is a concatenation of train and test sets. Output must be `Series` with three elements, indexed by class."
   ]
  },
  {
   "cell_type": "code",
   "execution_count": 25,
   "metadata": {
    "ExecuteTime": {
     "end_time": "2019-11-25T08:26:56.688466Z",
     "start_time": "2019-11-25T08:26:56.684610Z"
    }
   },
   "outputs": [],
   "source": [
    "def get_fare_per_pass(df):\n",
    "    \"\"\"Calculate fare per passenger for different classes.\"\"\"\n",
    "    ticket_groups = df.groupby('Ticket')    \n",
    "    unique_pclass_fare_df = ticket_groups['Pclass','Fare'].first()    \n",
    "    avg_fare_per_pclass_df = unique_pclass_fare_df.groupby('Pclass').mean()    \n",
    "    return avg_fare_per_pclass_df.Fare"
   ]
  },
  {
   "cell_type": "code",
   "execution_count": 26,
   "metadata": {},
   "outputs": [
    {
     "name": "stdout",
     "output_type": "stream",
     "text": [
      "Returned Type :\n",
      "  <class 'pandas.core.series.Series'>\n",
      "Returned Value :\n",
      "  Pclass\n",
      "1    58.261126\n",
      "2    16.462759\n",
      "3     9.468468\n",
      "Name: Fare, dtype: float64\n"
     ]
    }
   ],
   "source": [
    "if not TEST:\n",
    "    res = get_fare_per_pass(titanic)\n",
    "    print('Returned Type :\\n ',type(res))\n",
    "    print('Returned Value :\\n ', res)\n"
   ]
  },
  {
   "cell_type": "code",
   "execution_count": 27,
   "metadata": {
    "ExecuteTime": {
     "end_time": "2019-11-25T08:27:11.838257Z",
     "start_time": "2019-11-25T08:27:11.720830Z"
    }
   },
   "outputs": [],
   "source": [
    "PROBLEM_ID = 7\n",
    "\n",
    "if TEST:\n",
    "    total_grade += solutions.check(STUDENT, PROBLEM_ID, get_fare_per_pass)"
   ]
  },
  {
   "cell_type": "markdown",
   "metadata": {},
   "source": [
    "### 8. Fill missing age values (3 points).\n",
    "\n",
    "In problem 3 you filled missing age values with average for all passengers. Now, you need to fill them according to class and sex. For example, for a female passenger from 2d class, missing age value must be filled with average age of females in 2d class.\n",
    "\n",
    "In this problem, you may need joins and `.apply()`, although there are several ways to get the same result.\n",
    "\n",
    "Input is indexed with `PassengerId` and is a concatenation of train and test sets. Output must be a **new** dataframe with the same structure as input, but without missing values in `Age` column."
   ]
  },
  {
   "cell_type": "code",
   "execution_count": 28,
   "metadata": {
    "ExecuteTime": {
     "end_time": "2019-11-25T08:26:56.688466Z",
     "start_time": "2019-11-25T08:26:56.684610Z"
    }
   },
   "outputs": [],
   "source": [
    "def fix_age_groupped(df):\n",
    "    \"\"\"Fill missing age values.\"\"\"\n",
    "    df = titanic.copy()\n",
    "    valid_age = df[pd.notnull(df.Age)]\n",
    "    valid_age_groups = valid_age.groupby(['Pclass','Sex'])\n",
    "    mean_age_groups_df = valid_age_groups[['Age']].mean()\n",
    "    mean_age_groups_df.rename(columns={\"Age\": \"Avg_Age\"},inplace = True)        \n",
    "    df_with_avg_age = df.merge(mean_age_groups_df,on=['Pclass','Sex'],right_index=True)    \n",
    "    df['Age'] = df_with_avg_age.apply(lambda x: x.Avg_Age if pd.isnull(x.Age) else x.Age,axis = 1)    \n",
    "    return df"
   ]
  },
  {
   "cell_type": "code",
   "execution_count": 29,
   "metadata": {},
   "outputs": [
    {
     "name": "stdout",
     "output_type": "stream",
     "text": [
      "Before Fix - Passanger Id 6 Age :  nan\n",
      "After Fix - Passanger Id 6 Age :  25.962263610315187\n",
      "Before Fix - Passanger Id 18 Age :  nan\n",
      "After Fix - Passanger Id 18 Age :  30.815379746835443\n"
     ]
    }
   ],
   "source": [
    "if not TEST:\n",
    "    df_with_fixed_age  = fix_age_groupped(titanic)\n",
    "    print('Before Fix - Passanger Id 6 Age : ',titanic.loc[6,'Age'])    \n",
    "    print('After Fix - Passanger Id 6 Age : ',df_with_fixed_age.loc[6,'Age'])\n",
    "    print('Before Fix - Passanger Id 18 Age : ',titanic.loc[18,'Age'])    \n",
    "    print('After Fix - Passanger Id 18 Age : ',df_with_fixed_age.loc[18,'Age'])"
   ]
  },
  {
   "cell_type": "code",
   "execution_count": 30,
   "metadata": {
    "ExecuteTime": {
     "end_time": "2019-11-25T08:27:11.838257Z",
     "start_time": "2019-11-25T08:27:11.720830Z"
    }
   },
   "outputs": [],
   "source": [
    "PROBLEM_ID = 8\n",
    "\n",
    "if TEST:\n",
    "    total_grade += solutions.check(STUDENT, PROBLEM_ID, fix_age_groupped)"
   ]
  },
  {
   "cell_type": "markdown",
   "metadata": {},
   "source": [
    "### 9. Finding couples (3 points).\n",
    "\n",
    "Based on the code from Lecture 5, build a dataframe of couples. Filter it by survival status: select those couples, in which only one of spouses survived or none of two. Built survival statistics by class, i.e. ratio of couples with partial survival divided by total number of couples in class.\n",
    "\n",
    "Input is indexed with `PassengerId` and is a concatenation of train and test sets. Output must be `Series` with three elements indexed by values from `Pclass` column."
   ]
  },
  {
   "cell_type": "code",
   "execution_count": 31,
   "metadata": {
    "ExecuteTime": {
     "end_time": "2019-11-25T08:26:56.688466Z",
     "start_time": "2019-11-25T08:26:56.684610Z"
    }
   },
   "outputs": [],
   "source": [
    "def find_couples(df):\n",
    "    \"\"\"Fill missing age values.\"\"\"\n",
    "    # 1) Build dataframe of couples - v\n",
    "    # 2) Select couples which only one survived or none\n",
    "    # 3) build stats based on class, ratio of couples with partial survival divided by total number \n",
    "    # 4) Return series with 3 elements indexed by Pclass \n",
    "    \n",
    "    df = df[[\"Name\",\"Sex\",\"Age\",\"Survived\",\"Pclass\"]]\n",
    "    valid_survived_df = df[pd.notnull(df.Survived)]\n",
    "\n",
    "    valid_survived_females_df = valid_survived_df.loc[(valid_survived_df.Sex == \"female\"),[\"Name\",\"Sex\",\"Age\",\"Survived\",\"Pclass\"]]\n",
    "\n",
    "    valid_survived_females_df[\"Name_Spouse\"] = (valid_survived_females_df.Name.str\n",
    "                .replace(re.compile(r'\\s+\\(.*\\)'), '')\n",
    "                .replace(re.compile(\"Mrs.\"), \"Mr.\"))\n",
    "\n",
    "    valid_survived_couples_df = valid_survived_females_df.loc[valid_survived_females_df.Name != valid_survived_females_df.Name_Spouse]\n",
    "\n",
    "    couples_df = valid_survived_couples_df.join(valid_survived_df.set_index(\"Name\"),on='Name_Spouse',how='inner',rsuffix=\"_Spouse\")\n",
    " \n",
    "\n",
    "    all_couples_stats_df = couples_df.groupby(\"Pclass\").Name.count()\n",
    "\n",
    "    partial_couples_df = couples_df[((couples_df.Survived == 1) & (couples_df.Survived_Spouse == 0)) |\n",
    "                                ((couples_df.Survived == 0) & (couples_df.Survived_Spouse == 1)) | \n",
    "                                ((couples_df.Survived == 0) & (couples_df.Survived_Spouse == 0))]\n",
    "\n",
    "    partial_couples_stats_df = partial_couples_df.groupby(\"Pclass\").Name.count()\n",
    "\n",
    "    ratio_couples_stats_df = partial_couples_stats_df / all_couples_stats_df\n",
    "\n",
    "    return ratio_couples_stats_df.rename(\"partial_survival_ratio\")"
   ]
  },
  {
   "cell_type": "code",
   "execution_count": 32,
   "metadata": {},
   "outputs": [
    {
     "name": "stdout",
     "output_type": "stream",
     "text": [
      "Pclass\n",
      "1    0.470588\n",
      "2    0.909091\n",
      "3    1.000000\n",
      "Name: partial_survival_ratio, dtype: float64\n"
     ]
    }
   ],
   "source": [
    "if not TEST:\n",
    "    res = find_couples(titanic)\n",
    "    print(res)"
   ]
  },
  {
   "cell_type": "code",
   "execution_count": 33,
   "metadata": {
    "ExecuteTime": {
     "end_time": "2019-11-25T08:27:11.838257Z",
     "start_time": "2019-11-25T08:27:11.720830Z"
    }
   },
   "outputs": [],
   "source": [
    "PROBLEM_ID = 9\n",
    "\n",
    "if TEST:\n",
    "    total_grade += solutions.check(STUDENT, PROBLEM_ID, find_couples)"
   ]
  }
 ],
 "metadata": {
  "@webio": {
   "lastCommId": null,
   "lastKernelId": null
  },
  "kernelspec": {
   "display_name": "Python 3",
   "language": "python",
   "name": "python3"
  },
  "language_info": {
   "codemirror_mode": {
    "name": "ipython",
    "version": 3
   },
   "file_extension": ".py",
   "mimetype": "text/x-python",
   "name": "python",
   "nbconvert_exporter": "python",
   "pygments_lexer": "ipython3",
   "version": "3.7.4"
  }
 },
 "nbformat": 4,
 "nbformat_minor": 2
}
